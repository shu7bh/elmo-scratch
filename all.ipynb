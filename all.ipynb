{
 "cells": [
  {
   "cell_type": "code",
   "execution_count": 3,
   "metadata": {},
   "outputs": [],
   "source": [
    "cfg = {\n",
    "    'dev_train_len': 25*10**3,\n",
    "    'dev_validation_len': 5*10**3,\n",
    "    'learning_rate': 0.001,\n",
    "    'epochs': 100,\n",
    "    'embedding_dim': 50,\n",
    "    'batch_size': 32,\n",
    "    'dropout': 0,\n",
    "    'optimizer': 'Adam',\n",
    "    'num_layers': 2\n",
    "}\n",
    "\n",
    "cfg['hidden_dim'] = cfg['embedding_dim']"
   ]
  },
  {
   "cell_type": "code",
   "execution_count": 4,
   "metadata": {},
   "outputs": [],
   "source": [
    "from nltk import word_tokenize\n",
    "from gensim.models import KeyedVectors\n",
    "import gensim.downloader as api\n",
    "import unicodedata\n",
    "import random\n",
    "import torch\n",
    "import re\n",
    "\n",
    "def normalize_unicode(text: str) -> str:\n",
    "    return unicodedata.normalize('NFD', text)\n",
    "\n",
    "def tokenize_corpus(s: str) -> str:\n",
    "    s = normalize_unicode(s)\n",
    "    s = s.lower()\n",
    "    s = re.sub(r\"\"\"[^a-zA-Z0-9?.,;'\"]+\"\"\", \" \", s)\n",
    "    s = re.sub(r'(.)\\1{3,}',r'\\1', s)\n",
    "    s = s.rstrip().strip()\n",
    "    return s\n",
    "\n",
    "def get_word_tokenized_corpus(s: str) -> list:\n",
    "    return word_tokenize(s)\n",
    "\n",
    "glove_dict = {\n",
    "    '50': 'glove-wiki-gigaword-50',\n",
    "    '100': 'glove-wiki-gigaword-100',\n",
    "    '200': 'glove-wiki-gigaword-200'\n",
    "}\n",
    "\n",
    "glove_dict['50'] = api.load(glove_dict['50'])\n",
    "# glove_dict['100'] = api.load(glove_dict['100'])\n",
    "# glove_dict['200'] = api.load(glove_dict['200'])\n",
    "\n",
    "def create_vocab(sentences: list, embedding_dim: int):\n",
    "    glove = glove_dict[str(embedding_dim)]\n",
    "\n",
    "    Emb = KeyedVectors(vector_size=glove.vector_size)\n",
    "    vocab = []\n",
    "\n",
    "    for sentence in sentences:\n",
    "        vocab.extend(sentence)\n",
    "\n",
    "    vocab = set(vocab)\n",
    "\n",
    "    vectors, keys = [], []\n",
    "    for token in vocab:\n",
    "        if token in glove:\n",
    "            vectors.append(torch.tensor(glove[token]))\n",
    "            keys.append(token)\n",
    "\n",
    "    keys.extend(['<unk>', '<pad>', '<sos>', '<eos>'])\n",
    "    vectors.append(torch.mean(torch.stack(vectors), dim=0).numpy())\n",
    "    vectors.append([0 for _ in range(embedding_dim)])\n",
    "    vectors.append([random.random() for _ in range(embedding_dim)])\n",
    "    vectors.append([random.random() for _ in range(embedding_dim)])\n",
    "    Emb.add_vectors(keys, vectors)\n",
    "\n",
    "    return Emb\n",
    "\n",
    "def get_sentence_index(sentence: list, Emb: KeyedVectors):\n",
    "    word_vec = []\n",
    "\n",
    "    word_vec.append(Emb.key_to_index['<sos>'])\n",
    "    for word in sentence:\n",
    "        word_vec.append(get_vocab_index(word, Emb))\n",
    "    word_vec.append(Emb.key_to_index['<eos>'])\n",
    "\n",
    "    return torch.tensor(word_vec)\n",
    "\n",
    "def get_vocab_index(word: str, Emb: KeyedVectors):\n",
    "    if word in Emb:\n",
    "        return Emb.key_to_index[word]\n",
    "    return Emb.key_to_index['<unk>']\n"
   ]
  },
  {
   "cell_type": "code",
   "execution_count": 5,
   "metadata": {},
   "outputs": [],
   "source": [
    "import numpy as np\n",
    "import torch\n",
    "import pandas as pd\n",
    "import os"
   ]
  },
  {
   "cell_type": "code",
   "execution_count": 6,
   "metadata": {},
   "outputs": [
    {
     "name": "stdout",
     "output_type": "stream",
     "text": [
      "cuda\n"
     ]
    }
   ],
   "source": [
    "if torch.cuda.is_available():\n",
    "    DEVICE = torch.device('cuda')\n",
    "    torch.backends.cudnn.deterministic = True\n",
    "    torch.backends.cudnn.benchmark = True\n",
    "    os.environ[\"CUBLAS_WORKSPACE_CONFIG\"] = \":16:8\" # \":4096:2\"\n",
    "else:\n",
    "    DEVICE = torch.device('cpu')\n",
    "print(DEVICE)"
   ]
  },
  {
   "cell_type": "code",
   "execution_count": 7,
   "metadata": {},
   "outputs": [],
   "source": [
    "DEV_TRAIN_LEN = cfg['dev_train_len']\n",
    "DEV_VALIDATION_LEN = cfg['dev_validation_len']\n",
    "\n",
    "DIR = '/scratch/shu7bh/RES/PRE'"
   ]
  },
  {
   "cell_type": "code",
   "execution_count": 8,
   "metadata": {},
   "outputs": [],
   "source": [
    "import os\n",
    "if not os.path.exists(DIR):\n",
    "    os.makedirs(DIR)"
   ]
  },
  {
   "cell_type": "code",
   "execution_count": 9,
   "metadata": {},
   "outputs": [
    {
     "name": "stdout",
     "output_type": "stream",
     "text": [
      "25000\n",
      "5000\n"
     ]
    }
   ],
   "source": [
    "print(DEV_TRAIN_LEN)\n",
    "print(DEV_VALIDATION_LEN)"
   ]
  },
  {
   "cell_type": "code",
   "execution_count": 10,
   "metadata": {},
   "outputs": [],
   "source": [
    "df = pd.read_csv('data/train.csv')\n",
    "df = df.sample(frac=1, random_state=0).reset_index(drop=True)\n",
    "df['Description'] = df['Description'].apply(tokenize_corpus)\n",
    "df['Description'] = df['Description'].apply(get_word_tokenized_corpus)"
   ]
  },
  {
   "cell_type": "code",
   "execution_count": 11,
   "metadata": {},
   "outputs": [
    {
     "data": {
      "text/plain": [
       "0         4\n",
       "1         4\n",
       "2         4\n",
       "3         1\n",
       "4         3\n",
       "         ..\n",
       "119995    4\n",
       "119996    3\n",
       "119997    1\n",
       "119998    4\n",
       "119999    4\n",
       "Name: Class Index, Length: 120000, dtype: int64"
      ]
     },
     "execution_count": 11,
     "metadata": {},
     "output_type": "execute_result"
    }
   ],
   "source": [
    "df['Class Index']"
   ]
  },
  {
   "cell_type": "code",
   "execution_count": 12,
   "metadata": {},
   "outputs": [],
   "source": [
    "dev_train = df[:DEV_TRAIN_LEN]['Description']\n",
    "dev_validation = df[DEV_TRAIN_LEN:DEV_TRAIN_LEN + DEV_VALIDATION_LEN]['Description']"
   ]
  },
  {
   "cell_type": "code",
   "execution_count": 13,
   "metadata": {},
   "outputs": [
    {
     "data": {
      "text/plain": [
       "25000    [linux, is, gaining, ground, with, companies, ...\n",
       "25001    [google, ,, the, internet, search, engine, ,, ...\n",
       "25002    [ap, defending, champion, tiger, woods, said, ...\n",
       "25003    [advanced, micro, devices, will, add, quot, ;,...\n",
       "25004    [reuters, about, 100, tibetan, exiles, chanted...\n",
       "                               ...                        \n",
       "29995    [they, were, 4, 12, last, year, ., they, have,...\n",
       "29996    [luke, donald, and, paul, casey, are, unlikely...\n",
       "29997    [yahoo, is, eager, to, improve, its, web, base...\n",
       "29998    [ankara, strasbourg, ,, france, reuters, prime...\n",
       "29999    [leipzig, game, convention, in, germany, ,, th...\n",
       "Name: Description, Length: 5000, dtype: object"
      ]
     },
     "execution_count": 13,
     "metadata": {},
     "output_type": "execute_result"
    }
   ],
   "source": [
    "dev_validation"
   ]
  },
  {
   "cell_type": "code",
   "execution_count": 14,
   "metadata": {},
   "outputs": [],
   "source": [
    "from torch.nn.utils.rnn import pad_sequence\n",
    "from torch.utils.data import DataLoader"
   ]
  },
  {
   "cell_type": "code",
   "execution_count": 15,
   "metadata": {},
   "outputs": [],
   "source": [
    "import torch\n",
    "from torch import nn\n",
    "from torch.nn.utils.rnn import pack_padded_sequence, pad_packed_sequence\n",
    "\n",
    "class ELMO(nn.Module):\n",
    "    def __init__(self, Emb, hidden_dim, dropout, num_layers):\n",
    "        super().__init__()\n",
    "\n",
    "        self.hidden_dim = hidden_dim\n",
    "        self.num_layers = num_layers\n",
    "\n",
    "        self.embedding = nn.Embedding.from_pretrained(torch.FloatTensor(Emb.vectors), padding_idx=Emb.key_to_index['<pad>'])\n",
    "        self.lstm = nn.LSTM(Emb.vectors.shape[1], hidden_dim, batch_first=True, bidirectional=True, num_layers=num_layers, dropout=dropout)\n",
    "\n",
    "    def forward(self, X, X_lengths):\n",
    "        X = self.embedding(X)\n",
    "        X = pack_padded_sequence(X, X_lengths, batch_first=True, enforce_sorted=False)\n",
    "        X, (h_n, c_n) = self.lstm(X, None)\n",
    "        X, _ = pad_packed_sequence(X, batch_first=True)\n",
    "        return X, h_n, c_n"
   ]
  },
  {
   "cell_type": "code",
   "execution_count": 16,
   "metadata": {},
   "outputs": [],
   "source": [
    "from torch import nn\n",
    "\n",
    "class LM(nn.Module):\n",
    "    def __init__(self, Emb, hidden_dim, dropout, num_layers):\n",
    "        super().__init__()\n",
    "\n",
    "        self.elmo = ELMO(Emb, hidden_dim, dropout, num_layers)\n",
    "        self.fc = nn.Linear(hidden_dim * 2, Emb.vectors.shape[0])\n",
    "\n",
    "    def forward(self, X, X_lengths):\n",
    "        X, _, _ = self.elmo(X, X_lengths)\n",
    "        X = self.fc(X)\n",
    "        return X"
   ]
  },
  {
   "cell_type": "code",
   "execution_count": 17,
   "metadata": {},
   "outputs": [],
   "source": [
    "from torch.utils.data import Dataset\n",
    "import torch\n",
    "\n",
    "class SentencesDataset(Dataset):\n",
    "    def __init__(self, sentences: list, Emb):\n",
    "        super().__init__()\n",
    "\n",
    "        self.data = []\n",
    "        for sentence in sentences:\n",
    "            self.data.append(get_sentence_index(sentence, Emb))\n",
    "\n",
    "    def __len__(self):\n",
    "        return len(self.data)\n",
    "\n",
    "    def __getitem__(self, idx):\n",
    "        return self.data[idx], torch.tensor(len(self.data[idx]))"
   ]
  },
  {
   "cell_type": "code",
   "execution_count": 18,
   "metadata": {},
   "outputs": [],
   "source": [
    "class Collator:\n",
    "    def __init__(self, Emb):\n",
    "        self.pad_index = Emb.key_to_index['<pad>']\n",
    "\n",
    "    def __call__(self, batch):\n",
    "        X, X_lengths = zip(*batch)\n",
    "        X = pad_sequence(X, batch_first=True, padding_value=self.pad_index)\n",
    "        return X[:, :-1], X[:, 1:], torch.stack(X_lengths) - 1"
   ]
  },
  {
   "cell_type": "code",
   "execution_count": 19,
   "metadata": {},
   "outputs": [],
   "source": [
    "import tqdm\n",
    "\n",
    "def fit(model, dataloader, train, es, loss_fn, optimizer):\n",
    "    model.train() if train else model.eval()\n",
    "    epoch_loss = []\n",
    "\n",
    "    pbar = tqdm.tqdm(dataloader)\n",
    "\n",
    "    for X, Y, X_lengths in pbar:\n",
    "        X = X.to(DEVICE)\n",
    "        Y = Y.to(DEVICE)\n",
    "\n",
    "        Y_pred = model(X, X_lengths)\n",
    "        Y_pred = Y_pred.reshape(-1, Y_pred.shape[2])\n",
    "\n",
    "        Y = Y.reshape(-1)\n",
    "\n",
    "        loss = loss_fn(Y_pred, Y)\n",
    "        epoch_loss.append(loss.item())\n",
    "\n",
    "        X.detach()\n",
    "        Y_pred.detach()\n",
    "        Y.detach()\n",
    "\n",
    "        if train:\n",
    "            optimizer.zero_grad()\n",
    "            loss.backward()\n",
    "            optimizer.step()\n",
    "\n",
    "        pbar.set_description(f'{\"T\" if train else \"V\"} Loss: {loss.item():7.4f}, Avg Loss: {np.mean(epoch_loss):7.4f}, Best Loss: {es.best_loss:7.4f}, Counter: {es.counter}')\n",
    "\n",
    "    return np.mean(epoch_loss)"
   ]
  },
  {
   "cell_type": "code",
   "execution_count": 20,
   "metadata": {},
   "outputs": [],
   "source": [
    "import numpy as np\n",
    "\n",
    "class EarlyStopping:\n",
    "    def __init__(self, patience:int = 3, delta:float = 0.001):\n",
    "        self.patience = patience\n",
    "        self.counter = 0\n",
    "        self.best_loss:float = np.inf\n",
    "        self.best_model_pth = 0\n",
    "        self.delta = delta\n",
    "\n",
    "    def __call__(self, loss, epoch: int):\n",
    "        should_stop = False\n",
    "\n",
    "        if loss >= self.best_loss - self.delta:\n",
    "            self.counter += 1\n",
    "            if self.counter > self.patience:\n",
    "                should_stop = True\n",
    "        else:\n",
    "            self.best_loss = loss\n",
    "            self.counter = 0\n",
    "            self.best_model_pth = epoch\n",
    "        return should_stop"
   ]
  },
  {
   "cell_type": "code",
   "execution_count": 21,
   "metadata": {},
   "outputs": [],
   "source": [
    "def train(EPOCHS, model, training_dataloader, validation_dataloader, loss_fn, optimizer):\n",
    "    es = EarlyStopping(patience=3, delta=0.001)\n",
    "\n",
    "    for epoch in range(EPOCHS):\n",
    "        print(f'\\nEpoch {epoch+1}')\n",
    "\n",
    "        epoch_loss = fit(model, training_dataloader, True, es, loss_fn, optimizer)\n",
    "\n",
    "        with torch.no_grad():\n",
    "            epoch_loss = fit(model, validation_dataloader, False, es, loss_fn, optimizer)\n",
    "            if es(epoch_loss, epoch):\n",
    "                break\n",
    "            if es.counter == 0:\n",
    "                torch.save(model.state_dict(), os.path.join(DIR, f'best_model.pth'))\n",
    "                torch.save(model.elmo.state_dict(), os.path.join(DIR, f'best_model_elmo.pth'))"
   ]
  },
  {
   "cell_type": "code",
   "execution_count": 22,
   "metadata": {},
   "outputs": [
    {
     "name": "stdout",
     "output_type": "stream",
     "text": [
      "\n",
      "Epoch 1\n"
     ]
    },
    {
     "name": "stderr",
     "output_type": "stream",
     "text": [
      "T Loss:  5.6669, Avg Loss:  6.7665, Best Loss:     inf, Counter: 0: 100%|██████████| 782/782 [00:25<00:00, 30.71it/s]\n",
      "V Loss:  5.8964, Avg Loss:  5.5419, Best Loss:     inf, Counter: 0: 100%|██████████| 157/157 [00:02<00:00, 70.91it/s]\n"
     ]
    },
    {
     "name": "stdout",
     "output_type": "stream",
     "text": [
      "\n",
      "Epoch 2\n"
     ]
    },
    {
     "name": "stderr",
     "output_type": "stream",
     "text": [
      "T Loss:  3.2303, Avg Loss:  4.5110, Best Loss:  5.5419, Counter: 0: 100%|██████████| 782/782 [00:24<00:00, 31.70it/s]\n",
      "V Loss:  3.8009, Avg Loss:  3.7043, Best Loss:  5.5419, Counter: 0: 100%|██████████| 157/157 [00:02<00:00, 68.08it/s]\n"
     ]
    },
    {
     "name": "stdout",
     "output_type": "stream",
     "text": [
      "\n",
      "Epoch 3\n"
     ]
    },
    {
     "name": "stderr",
     "output_type": "stream",
     "text": [
      "T Loss:  2.6638, Avg Loss:  3.0581, Best Loss:  3.7043, Counter: 0: 100%|██████████| 782/782 [00:24<00:00, 31.81it/s]\n",
      "V Loss:  2.3682, Avg Loss:  2.6370, Best Loss:  3.7043, Counter: 0: 100%|██████████| 157/157 [00:02<00:00, 66.78it/s]\n"
     ]
    },
    {
     "name": "stdout",
     "output_type": "stream",
     "text": [
      "\n",
      "Epoch 4\n"
     ]
    },
    {
     "name": "stderr",
     "output_type": "stream",
     "text": [
      "T Loss:  2.0449, Avg Loss:  2.2056, Best Loss:  2.6370, Counter: 0: 100%|██████████| 782/782 [00:24<00:00, 32.10it/s]\n",
      "V Loss:  2.0542, Avg Loss:  1.9963, Best Loss:  2.6370, Counter: 0: 100%|██████████| 157/157 [00:02<00:00, 66.07it/s]\n"
     ]
    },
    {
     "name": "stdout",
     "output_type": "stream",
     "text": [
      "\n",
      "Epoch 5\n"
     ]
    },
    {
     "name": "stderr",
     "output_type": "stream",
     "text": [
      "T Loss:  1.6944, Avg Loss:  1.6509, Best Loss:  1.9963, Counter: 0: 100%|██████████| 782/782 [00:24<00:00, 32.14it/s]\n",
      "V Loss:  1.4452, Avg Loss:  1.5670, Best Loss:  1.9963, Counter: 0: 100%|██████████| 157/157 [00:02<00:00, 67.92it/s]\n"
     ]
    },
    {
     "name": "stdout",
     "output_type": "stream",
     "text": [
      "\n",
      "Epoch 6\n"
     ]
    },
    {
     "name": "stderr",
     "output_type": "stream",
     "text": [
      "T Loss:  1.2775, Avg Loss:  1.2626, Best Loss:  1.5670, Counter: 0: 100%|██████████| 782/782 [00:24<00:00, 31.66it/s]\n",
      "V Loss:  1.4089, Avg Loss:  1.2646, Best Loss:  1.5670, Counter: 0: 100%|██████████| 157/157 [00:02<00:00, 67.88it/s]\n"
     ]
    },
    {
     "name": "stdout",
     "output_type": "stream",
     "text": [
      "\n",
      "Epoch 7\n"
     ]
    },
    {
     "name": "stderr",
     "output_type": "stream",
     "text": [
      "T Loss:  0.8300, Avg Loss:  0.9761, Best Loss:  1.2646, Counter: 0: 100%|██████████| 782/782 [00:24<00:00, 32.04it/s]\n",
      "V Loss:  1.1094, Avg Loss:  1.0395, Best Loss:  1.2646, Counter: 0: 100%|██████████| 157/157 [00:02<00:00, 67.41it/s]\n"
     ]
    },
    {
     "name": "stdout",
     "output_type": "stream",
     "text": [
      "\n",
      "Epoch 8\n"
     ]
    },
    {
     "name": "stderr",
     "output_type": "stream",
     "text": [
      "T Loss:  0.8049, Avg Loss:  0.7577, Best Loss:  1.0395, Counter: 0: 100%|██████████| 782/782 [00:24<00:00, 31.67it/s]\n",
      "V Loss:  1.2037, Avg Loss:  0.8733, Best Loss:  1.0395, Counter: 0: 100%|██████████| 157/157 [00:02<00:00, 65.33it/s]\n"
     ]
    },
    {
     "name": "stdout",
     "output_type": "stream",
     "text": [
      "\n",
      "Epoch 9\n"
     ]
    },
    {
     "name": "stderr",
     "output_type": "stream",
     "text": [
      "T Loss:  0.5960, Avg Loss:  0.5874, Best Loss:  0.8733, Counter: 0: 100%|██████████| 782/782 [00:24<00:00, 31.57it/s]\n",
      "V Loss:  0.5510, Avg Loss:  0.7411, Best Loss:  0.8733, Counter: 0: 100%|██████████| 157/157 [00:02<00:00, 68.10it/s]\n"
     ]
    },
    {
     "name": "stdout",
     "output_type": "stream",
     "text": [
      "\n",
      "Epoch 10\n"
     ]
    },
    {
     "name": "stderr",
     "output_type": "stream",
     "text": [
      "T Loss:  0.4723, Avg Loss:  0.4525, Best Loss:  0.7411, Counter: 0: 100%|██████████| 782/782 [00:24<00:00, 31.79it/s]\n",
      "V Loss:  0.4759, Avg Loss:  0.6429, Best Loss:  0.7411, Counter: 0: 100%|██████████| 157/157 [00:02<00:00, 69.01it/s]\n"
     ]
    },
    {
     "name": "stdout",
     "output_type": "stream",
     "text": [
      "\n",
      "Epoch 11\n"
     ]
    },
    {
     "name": "stderr",
     "output_type": "stream",
     "text": [
      "T Loss:  0.2181, Avg Loss:  0.3441, Best Loss:  0.6429, Counter: 0: 100%|██████████| 782/782 [00:24<00:00, 31.79it/s]\n",
      "V Loss:  0.5793, Avg Loss:  0.5673, Best Loss:  0.6429, Counter: 0: 100%|██████████| 157/157 [00:02<00:00, 69.40it/s]\n"
     ]
    },
    {
     "name": "stdout",
     "output_type": "stream",
     "text": [
      "\n",
      "Epoch 12\n"
     ]
    },
    {
     "name": "stderr",
     "output_type": "stream",
     "text": [
      "T Loss:  0.2058, Avg Loss:  0.2600, Best Loss:  0.5673, Counter: 0: 100%|██████████| 782/782 [00:24<00:00, 32.13it/s]\n",
      "V Loss:  0.5778, Avg Loss:  0.5146, Best Loss:  0.5673, Counter: 0: 100%|██████████| 157/157 [00:02<00:00, 67.53it/s]\n"
     ]
    },
    {
     "name": "stdout",
     "output_type": "stream",
     "text": [
      "\n",
      "Epoch 13\n"
     ]
    },
    {
     "name": "stderr",
     "output_type": "stream",
     "text": [
      "T Loss:  0.1582, Avg Loss:  0.1950, Best Loss:  0.5146, Counter: 0: 100%|██████████| 782/782 [00:24<00:00, 31.64it/s]\n",
      "V Loss:  0.3460, Avg Loss:  0.4760, Best Loss:  0.5146, Counter: 0: 100%|██████████| 157/157 [00:02<00:00, 67.63it/s]\n"
     ]
    },
    {
     "name": "stdout",
     "output_type": "stream",
     "text": [
      "\n",
      "Epoch 14\n"
     ]
    },
    {
     "name": "stderr",
     "output_type": "stream",
     "text": [
      "T Loss:  0.1365, Avg Loss:  0.1473, Best Loss:  0.4760, Counter: 0: 100%|██████████| 782/782 [00:24<00:00, 31.91it/s]\n",
      "V Loss:  0.4337, Avg Loss:  0.4505, Best Loss:  0.4760, Counter: 0: 100%|██████████| 157/157 [00:02<00:00, 70.52it/s]\n"
     ]
    },
    {
     "name": "stdout",
     "output_type": "stream",
     "text": [
      "\n",
      "Epoch 15\n"
     ]
    },
    {
     "name": "stderr",
     "output_type": "stream",
     "text": [
      "T Loss:  0.0784, Avg Loss:  0.1106, Best Loss:  0.4505, Counter: 0: 100%|██████████| 782/782 [00:24<00:00, 31.74it/s]\n",
      "V Loss:  0.4139, Avg Loss:  0.4324, Best Loss:  0.4505, Counter: 0: 100%|██████████| 157/157 [00:02<00:00, 68.61it/s]\n"
     ]
    },
    {
     "name": "stdout",
     "output_type": "stream",
     "text": [
      "\n",
      "Epoch 16\n"
     ]
    },
    {
     "name": "stderr",
     "output_type": "stream",
     "text": [
      "T Loss:  0.0591, Avg Loss:  0.0834, Best Loss:  0.4324, Counter: 0: 100%|██████████| 782/782 [00:24<00:00, 31.41it/s]\n",
      "V Loss:  0.3869, Avg Loss:  0.4235, Best Loss:  0.4324, Counter: 0: 100%|██████████| 157/157 [00:02<00:00, 69.61it/s]\n"
     ]
    },
    {
     "name": "stdout",
     "output_type": "stream",
     "text": [
      "\n",
      "Epoch 17\n"
     ]
    },
    {
     "name": "stderr",
     "output_type": "stream",
     "text": [
      "T Loss:  0.0706, Avg Loss:  0.0642, Best Loss:  0.4235, Counter: 0: 100%|██████████| 782/782 [00:24<00:00, 31.58it/s]\n",
      "V Loss:  0.6491, Avg Loss:  0.4135, Best Loss:  0.4235, Counter: 0: 100%|██████████| 157/157 [00:02<00:00, 68.42it/s]\n"
     ]
    },
    {
     "name": "stdout",
     "output_type": "stream",
     "text": [
      "\n",
      "Epoch 18\n"
     ]
    },
    {
     "name": "stderr",
     "output_type": "stream",
     "text": [
      "T Loss:  0.0470, Avg Loss:  0.0503, Best Loss:  0.4135, Counter: 0: 100%|██████████| 782/782 [00:24<00:00, 31.87it/s]\n",
      "V Loss:  0.4522, Avg Loss:  0.4021, Best Loss:  0.4135, Counter: 0: 100%|██████████| 157/157 [00:02<00:00, 66.91it/s]\n"
     ]
    },
    {
     "name": "stdout",
     "output_type": "stream",
     "text": [
      "\n",
      "Epoch 19\n"
     ]
    },
    {
     "name": "stderr",
     "output_type": "stream",
     "text": [
      "T Loss:  0.0210, Avg Loss:  0.0405, Best Loss:  0.4021, Counter: 0: 100%|██████████| 782/782 [00:24<00:00, 31.49it/s]\n",
      "V Loss:  0.3338, Avg Loss:  0.3978, Best Loss:  0.4021, Counter: 0: 100%|██████████| 157/157 [00:02<00:00, 70.56it/s]\n"
     ]
    },
    {
     "name": "stdout",
     "output_type": "stream",
     "text": [
      "\n",
      "Epoch 20\n"
     ]
    },
    {
     "name": "stderr",
     "output_type": "stream",
     "text": [
      "T Loss:  0.0405, Avg Loss:  0.0314, Best Loss:  0.3978, Counter: 0: 100%|██████████| 782/782 [00:24<00:00, 31.85it/s]\n",
      "V Loss:  0.6362, Avg Loss:  0.3940, Best Loss:  0.3978, Counter: 0: 100%|██████████| 157/157 [00:02<00:00, 67.06it/s]\n"
     ]
    },
    {
     "name": "stdout",
     "output_type": "stream",
     "text": [
      "\n",
      "Epoch 21\n"
     ]
    },
    {
     "name": "stderr",
     "output_type": "stream",
     "text": [
      "T Loss:  0.0182, Avg Loss:  0.0256, Best Loss:  0.3940, Counter: 0: 100%|██████████| 782/782 [00:24<00:00, 31.36it/s]\n",
      "V Loss:  0.4339, Avg Loss:  0.3928, Best Loss:  0.3940, Counter: 0: 100%|██████████| 157/157 [00:02<00:00, 67.68it/s]\n"
     ]
    },
    {
     "name": "stdout",
     "output_type": "stream",
     "text": [
      "\n",
      "Epoch 22\n"
     ]
    },
    {
     "name": "stderr",
     "output_type": "stream",
     "text": [
      "T Loss:  0.0179, Avg Loss:  0.0212, Best Loss:  0.3928, Counter: 0: 100%|██████████| 782/782 [00:24<00:00, 31.65it/s]\n",
      "V Loss:  0.5643, Avg Loss:  0.3883, Best Loss:  0.3928, Counter: 0: 100%|██████████| 157/157 [00:02<00:00, 67.98it/s]\n"
     ]
    },
    {
     "name": "stdout",
     "output_type": "stream",
     "text": [
      "\n",
      "Epoch 23\n"
     ]
    },
    {
     "name": "stderr",
     "output_type": "stream",
     "text": [
      "T Loss:  0.0249, Avg Loss:  0.0181, Best Loss:  0.3883, Counter: 0: 100%|██████████| 782/782 [00:24<00:00, 31.45it/s]\n",
      "V Loss:  0.0299, Avg Loss:  0.3859, Best Loss:  0.3883, Counter: 0: 100%|██████████| 157/157 [00:02<00:00, 70.13it/s]\n"
     ]
    },
    {
     "name": "stdout",
     "output_type": "stream",
     "text": [
      "\n",
      "Epoch 24\n"
     ]
    },
    {
     "name": "stderr",
     "output_type": "stream",
     "text": [
      "T Loss:  0.0157, Avg Loss:  0.0154, Best Loss:  0.3859, Counter: 0: 100%|██████████| 782/782 [00:24<00:00, 31.76it/s]\n",
      "V Loss:  0.2539, Avg Loss:  0.3907, Best Loss:  0.3859, Counter: 0: 100%|██████████| 157/157 [00:02<00:00, 67.24it/s]\n"
     ]
    },
    {
     "name": "stdout",
     "output_type": "stream",
     "text": [
      "\n",
      "Epoch 25\n"
     ]
    },
    {
     "name": "stderr",
     "output_type": "stream",
     "text": [
      "T Loss:  0.0216, Avg Loss:  0.0118, Best Loss:  0.3859, Counter: 1: 100%|██████████| 782/782 [00:24<00:00, 31.82it/s]\n",
      "V Loss:  0.2075, Avg Loss:  0.3846, Best Loss:  0.3859, Counter: 1: 100%|██████████| 157/157 [00:02<00:00, 68.30it/s]\n"
     ]
    },
    {
     "name": "stdout",
     "output_type": "stream",
     "text": [
      "\n",
      "Epoch 26\n"
     ]
    },
    {
     "name": "stderr",
     "output_type": "stream",
     "text": [
      "T Loss:  0.0070, Avg Loss:  0.0106, Best Loss:  0.3846, Counter: 0: 100%|██████████| 782/782 [00:24<00:00, 31.59it/s]\n",
      "V Loss:  0.3104, Avg Loss:  0.3862, Best Loss:  0.3846, Counter: 0: 100%|██████████| 157/157 [00:02<00:00, 68.35it/s]\n"
     ]
    },
    {
     "name": "stdout",
     "output_type": "stream",
     "text": [
      "\n",
      "Epoch 27\n"
     ]
    },
    {
     "name": "stderr",
     "output_type": "stream",
     "text": [
      "T Loss:  0.0090, Avg Loss:  0.0085, Best Loss:  0.3846, Counter: 1: 100%|██████████| 782/782 [00:24<00:00, 31.85it/s]\n",
      "V Loss:  0.5817, Avg Loss:  0.3875, Best Loss:  0.3846, Counter: 1: 100%|██████████| 157/157 [00:02<00:00, 67.62it/s]\n"
     ]
    },
    {
     "name": "stdout",
     "output_type": "stream",
     "text": [
      "\n",
      "Epoch 28\n"
     ]
    },
    {
     "name": "stderr",
     "output_type": "stream",
     "text": [
      "T Loss:  0.0071, Avg Loss:  0.0090, Best Loss:  0.3846, Counter: 2: 100%|██████████| 782/782 [00:24<00:00, 31.91it/s]\n",
      "V Loss:  0.3678, Avg Loss:  0.3871, Best Loss:  0.3846, Counter: 2: 100%|██████████| 157/157 [00:02<00:00, 68.34it/s]\n"
     ]
    },
    {
     "name": "stdout",
     "output_type": "stream",
     "text": [
      "\n",
      "Epoch 29\n"
     ]
    },
    {
     "name": "stderr",
     "output_type": "stream",
     "text": [
      "T Loss:  0.0069, Avg Loss:  0.0060, Best Loss:  0.3846, Counter: 3: 100%|██████████| 782/782 [00:24<00:00, 31.88it/s]\n",
      "V Loss:  0.3085, Avg Loss:  0.3859, Best Loss:  0.3846, Counter: 3: 100%|██████████| 157/157 [00:02<00:00, 68.14it/s]\n"
     ]
    }
   ],
   "source": [
    "def run(config=None):\n",
    "    BATCH_SIZE = cfg['batch_size']\n",
    "\n",
    "    HIDDEN_DIM = config['hidden_dim']\n",
    "    DROP_OUT = config['dropout']\n",
    "    OPTIMIZER = config['optimizer']\n",
    "    LEARNING_RATE = config['learning_rate']\n",
    "    EPOCHS = config['epochs']\n",
    "    EMBEDDITNG_DIM = config['embedding_dim']\n",
    "    NUM_LAYERS = config['num_layers']\n",
    "\n",
    "    Emb = create_vocab(df['Description'], EMBEDDITNG_DIM)\n",
    "\n",
    "    dev_train_dataset = SentencesDataset(dev_train, Emb)\n",
    "    dev_validation_dataset = SentencesDataset(dev_validation, Emb)\n",
    "\n",
    "    collate_fn = Collator(Emb)\n",
    "\n",
    "    training_dataloader = DataLoader(dev_train_dataset, batch_size=BATCH_SIZE, shuffle=True, collate_fn=collate_fn, pin_memory=True, num_workers=4)\n",
    "    validation_dataloader = DataLoader(dev_validation_dataset, batch_size=BATCH_SIZE, shuffle=True, collate_fn=collate_fn, pin_memory=True, num_workers=4)\n",
    "\n",
    "    torch.cuda.empty_cache()\n",
    "\n",
    "    model = LM(Emb, HIDDEN_DIM, DROP_OUT, NUM_LAYERS).to(DEVICE)\n",
    "\n",
    "    optimizer = getattr(torch.optim, OPTIMIZER)(model.parameters(), lr=LEARNING_RATE)\n",
    "    loss_fn = nn.CrossEntropyLoss(ignore_index=Emb.key_to_index['<pad>'])\n",
    "\n",
    "    train(EPOCHS, model, training_dataloader, validation_dataloader, loss_fn, optimizer)\n",
    "\n",
    "run(cfg)"
   ]
  },
  {
   "cell_type": "code",
   "execution_count": 22,
   "metadata": {},
   "outputs": [],
   "source": [
    "import tqdm\n",
    "\n",
    "def run_epoch(model, dataloader, loss_fn):\n",
    "    epoch_loss = []\n",
    "\n",
    "    pbar = tqdm.tqdm(dataloader)\n",
    "\n",
    "    for X, Y, X_lengths in pbar:\n",
    "        X = X.to(DEVICE)\n",
    "        Y = Y.to(DEVICE)\n",
    "\n",
    "        Y_pred = model(X, X_lengths)\n",
    "        Y_pred = Y_pred.reshape(-1, Y_pred.shape[2])\n",
    "\n",
    "        Y = Y.reshape(-1)\n",
    "\n",
    "        loss = loss_fn(Y_pred, Y)\n",
    "        epoch_loss.append(loss.item())\n",
    "\n",
    "        pbar.set_description(f'Loss: {loss.item():7.4f}, Avg Loss: {np.mean(epoch_loss):7.4f}')\n",
    "\n",
    "    return np.mean(epoch_loss)"
   ]
  },
  {
   "cell_type": "code",
   "execution_count": 23,
   "metadata": {},
   "outputs": [],
   "source": [
    "def validate(elmo, validation_dataloader, loss_fn):\n",
    "    with torch.no_grad():\n",
    "        elmo.eval()\n",
    "        epoch_loss = run_epoch(elmo, validation_dataloader, loss_fn)\n",
    "        print(f'Validation Loss: {epoch_loss:7.4f}')"
   ]
  },
  {
   "cell_type": "code",
   "execution_count": 24,
   "metadata": {},
   "outputs": [
    {
     "name": "stderr",
     "output_type": "stream",
     "text": [
      "Loss:  0.5460, Avg Loss:  0.3803: 100%|██████████| 313/313 [00:02<00:00, 108.19it/s]"
     ]
    },
    {
     "name": "stdout",
     "output_type": "stream",
     "text": [
      "Validation Loss:  0.3803\n"
     ]
    },
    {
     "name": "stderr",
     "output_type": "stream",
     "text": [
      "\n"
     ]
    }
   ],
   "source": [
    "Emb = create_vocab(df['Description'], cfg['embedding_dim'])\n",
    "\n",
    "dev_validation_dataset = SentencesDataset(dev_validation, Emb)\n",
    "\n",
    "collate_fn = Collator(Emb)\n",
    "\n",
    "validation_dataloader = DataLoader(dev_validation_dataset, batch_size=cfg['batch_size'], shuffle=True, collate_fn=collate_fn, pin_memory=True, num_workers=4)\n",
    "model = LM(Emb, cfg['hidden_dim'], cfg['dropout'], cfg['num_layers']).to(DEVICE)\n",
    "\n",
    "model.load_state_dict(torch.load(os.path.join(DIR, 'best_model.pth')))\n",
    "\n",
    "validate(model, validation_dataloader, nn.CrossEntropyLoss(ignore_index=Emb.key_to_index['<pad>']))"
   ]
  },
  {
   "cell_type": "code",
   "execution_count": 48,
   "metadata": {},
   "outputs": [
    {
     "data": {
      "text/plain": [
       "<All keys matched successfully>"
      ]
     },
     "execution_count": 48,
     "metadata": {},
     "output_type": "execute_result"
    }
   ],
   "source": [
    "elmo = ELMO(Emb, cfg['hidden_dim'], cfg['dropout'], cfg['num_layers']).to(DEVICE)\n",
    "\n",
    "# load only elmo from the best model\n",
    "elmo.load_state_dict(torch.load(os.path.join(DIR, 'best_model_elmo.pth')))"
   ]
  },
  {
   "cell_type": "code",
   "execution_count": 49,
   "metadata": {},
   "outputs": [],
   "source": [
    "from torch.utils.data import DataLoader, Dataset\n",
    "\n",
    "class DownStreamDataset(Dataset):\n",
    "    def __init__(self, df: pd.DataFrame, Emb: KeyedVectors):\n",
    "        self.descriptions = df['Description']\n",
    "        self.descriptions = [get_sentence_index(description, Emb) for description in self.descriptions]\n",
    "        # self.df.loc[: 'Description'] = df['Description'].apply(get_sentence_index, Emb=Emb)\n",
    "        self.class_index = list(c - 1 for c in df['Class Index'])\n",
    "        self.Emb = Emb\n",
    "\n",
    "    def __len__(self):\n",
    "        return len(self.class_index)\n",
    "\n",
    "    def __getitem__(self, idx):\n",
    "        l = torch.tensor(len(self.descriptions[idx]))\n",
    "        return self.descriptions[idx], l, torch.tensor(self.class_index[idx])"
   ]
  },
  {
   "cell_type": "code",
   "execution_count": 50,
   "metadata": {},
   "outputs": [],
   "source": [
    "class DownStreamCollator:\n",
    "    def __init__(self, Emb):\n",
    "        self.pad_index = Emb.key_to_index['<pad>']\n",
    "\n",
    "    def __call__(self, batch):\n",
    "        X, X_lengths, Y = zip(*batch)\n",
    "        X = pad_sequence(X, batch_first=True, padding_value=self.pad_index)\n",
    "        return X, torch.stack(X_lengths), torch.stack(Y)"
   ]
  },
  {
   "cell_type": "code",
   "execution_count": 51,
   "metadata": {},
   "outputs": [],
   "source": [
    "downstream_train = df[DEV_TRAIN_LEN + DEV_VALIDATION_LEN:3 * DEV_TRAIN_LEN]\n",
    "downstream_validation = df[:3 * DEV_VALIDATION_LEN]\n",
    "\n",
    "downstream_train_dataset = DownStreamDataset(downstream_train, Emb)\n",
    "downstream_validation_dataset = DownStreamDataset(downstream_validation, Emb)\n",
    "\n",
    "downstream_collate_fn = DownStreamCollator(Emb)\n",
    "\n",
    "downstream_training_dataloader = DataLoader(downstream_train_dataset, batch_size=64, shuffle=True, collate_fn=downstream_collate_fn, pin_memory=True, num_workers=4)\n",
    "downstream_validation_dataloader = DataLoader(downstream_validation_dataset, batch_size=64, shuffle=True, collate_fn=downstream_collate_fn, pin_memory=True, num_workers=4)"
   ]
  },
  {
   "cell_type": "code",
   "execution_count": 73,
   "metadata": {},
   "outputs": [],
   "source": [
    "class DownStream(nn.Module):\n",
    "    def __init__(self, elmo, dropout, delta = None):\n",
    "        super().__init__()\n",
    "        self.elmo = elmo\n",
    "        # freeze the ELMO parameters\n",
    "        for param in self.elmo.parameters():\n",
    "            param.requires_grad = False\n",
    "\n",
    "        self.hidden_dim = self.elmo.hidden_dim\n",
    "        self.num_layers = self.elmo.num_layers\n",
    "        self.dropout = dropout\n",
    "\n",
    "        if delta is None:\n",
    "            self.delta = nn.Parameter(torch.randn(1, self.num_layers + 1))\n",
    "        else:\n",
    "            self.delta = delta.to(DEVICE)\n",
    "\n",
    "        self.linear = nn.Linear(self.hidden_dim * 2, 4)\n",
    "\n",
    "    def forward(self, X, X_lengths):\n",
    "        _, Y1, Y2 = self.elmo(X, X_lengths)\n",
    "\n",
    "        Y = torch.mean(torch.stack([Y1, Y2]), dim=0)\n",
    "        Y = Y.permute(1, 0, 2).reshape(Y.shape[1], self.num_layers, self.hidden_dim * 2)\n",
    "\n",
    "        X = self.elmo.embedding(X)\n",
    "        X = torch.mean(X, dim=1, dtype=torch.float32)\n",
    "        X = torch.cat([X, X], dim=1)\n",
    "        X = X.unsqueeze(1)\n",
    "\n",
    "        Y = torch.cat([X, Y], dim=1)\n",
    "\n",
    "        Y = (self.delta / torch.sum(self.delta) ) @ Y\n",
    "\n",
    "        Y = torch.sum(Y, dim=1)\n",
    "\n",
    "        Y = self.linear(Y)\n",
    "\n",
    "        return Y"
   ]
  },
  {
   "cell_type": "code",
   "execution_count": 87,
   "metadata": {},
   "outputs": [],
   "source": [
    "def downstream_fit(model, dataloader, train, loss_fn, optimizer, es):\n",
    "    model.train() if train else model.eval()\n",
    "    epoch_loss = []\n",
    "\n",
    "    pbar = tqdm.tqdm(dataloader)\n",
    "\n",
    "    for X, X_lengths, Y in pbar:\n",
    "        X = X.to(DEVICE)\n",
    "        Y = Y.to(DEVICE)\n",
    "\n",
    "        Y_pred = model(X, X_lengths)\n",
    "        Y_pred = Y_pred.reshape(-1, Y_pred.shape[-1])\n",
    "\n",
    "        loss = loss_fn(Y_pred, Y)\n",
    "        epoch_loss.append(loss.item())\n",
    "\n",
    "        X.detach()\n",
    "        Y_pred.detach()\n",
    "        Y.detach()\n",
    "\n",
    "        if train:\n",
    "            optimizer.zero_grad()\n",
    "            loss.backward()\n",
    "            optimizer.step()\n",
    "\n",
    "        pbar.set_description(f'{\"T\" if train else \"V\"} Loss: {loss.item():7.4f}, Avg Loss: {np.mean(epoch_loss):7.4f}, Best Loss: {es.best_loss:7.4f}, Counter: {es.counter}')\n",
    "\n",
    "    return np.mean(epoch_loss)"
   ]
  },
  {
   "cell_type": "code",
   "execution_count": 88,
   "metadata": {},
   "outputs": [],
   "source": [
    "dloss_fn = nn.CrossEntropyLoss()\n",
    "\n",
    "def downstream_train_fn(EPOCHS, model, training_dataloader, validation_dataloader, loss_fn, optimizer):\n",
    "    es = EarlyStopping(patience=3, delta=0.001)\n",
    "    for epoch in range(EPOCHS):\n",
    "        print(f'\\nEpoch {epoch+1}')\n",
    "\n",
    "        epoch_loss = downstream_fit(model, training_dataloader, True, loss_fn, optimizer, es)\n",
    "        print(f'Train Loss: {epoch_loss:7.4f}')\n",
    "        # wandb.log({'downstream_train_loss': epoch_loss})\n",
    "\n",
    "        with torch.no_grad():\n",
    "            epoch_loss = downstream_fit(model, validation_dataloader, False, loss_fn, optimizer, es)\n",
    "            print(f'Validation Loss: {epoch_loss:7.4f}')\n",
    "            if es(epoch_loss, epoch):\n",
    "                break\n",
    "            if es.counter == 0:\n",
    "                torch.save(model.state_dict(), os.path.join(DIR, f'downstream_best_model.pth'))\n",
    "            # wandb.log({'downstream_validation_loss': epoch_loss})"
   ]
  },
  {
   "cell_type": "code",
   "execution_count": 76,
   "metadata": {},
   "outputs": [],
   "source": [
    "tdf = pd.read_csv('data/test.csv')\n",
    "tdf = tdf.sample(frac=1, random_state=0).reset_index(drop=True)\n",
    "tdf['Description'] = tdf['Description'].apply(tokenize_corpus)\n",
    "tdf['Description'] = tdf['Description'].apply(get_word_tokenized_corpus)"
   ]
  },
  {
   "cell_type": "code",
   "execution_count": 89,
   "metadata": {},
   "outputs": [],
   "source": [
    "downstream_train_dataset = DownStreamDataset(tdf, Emb)\n",
    "downstream_test_dataloader = DataLoader(downstream_train_dataset, batch_size=64, shuffle=True, collate_fn=downstream_collate_fn, pin_memory=True, num_workers=4)"
   ]
  },
  {
   "cell_type": "code",
   "execution_count": 90,
   "metadata": {},
   "outputs": [],
   "source": [
    "from sklearn.metrics import classification_report, confusion_matrix, accuracy_score\n",
    "\n",
    "def downstream_test_metrics(model, dataloader, loss_fn):\n",
    "    epoch_loss = []\n",
    "\n",
    "    pbar = tqdm.tqdm(dataloader)\n",
    "\n",
    "    Y_pred_all = []\n",
    "    Y_all = []\n",
    "    Y_len = 0\n",
    "\n",
    "    for X, X_lengths, Y in pbar:\n",
    "        X = X.to(DEVICE)\n",
    "        Y = Y.to(DEVICE)\n",
    "\n",
    "        Y_pred = model(X, X_lengths)\n",
    "        Y_pred = Y_pred.reshape(-1, Y_pred.shape[-1])\n",
    "\n",
    "        Y_all.extend(Y.tolist())\n",
    "        Y_pred_all.extend(torch.argmax(Y_pred, dim=1).tolist())\n",
    "        Y_len += len(Y)\n",
    "\n",
    "        loss = loss_fn(Y_pred, Y)\n",
    "        epoch_loss.append(loss.item())\n",
    "\n",
    "        X.detach()\n",
    "        Y_pred.detach()\n",
    "        Y.detach()\n",
    "\n",
    "        pbar.set_description(f'{\"T\" if train else \"V\"} Loss: {loss.item():7.4f}, Avg Loss: {np.mean(epoch_loss):7.4f}')\n",
    "\n",
    "    accuracy = accuracy_score(Y_all, Y_pred_all)\n",
    "    print(f'Accuracy: {accuracy:7.4f}')\n",
    "    print(confusion_matrix(Y_all, Y_pred_all))\n",
    "    print(classification_report(Y_all, Y_pred_all, digits=4))\n",
    "\n",
    "    return np.mean(epoch_loss)"
   ]
  },
  {
   "cell_type": "code",
   "execution_count": 93,
   "metadata": {},
   "outputs": [
    {
     "name": "stdout",
     "output_type": "stream",
     "text": [
      "tensor([[3., 0., 0.]], device='cuda:0')\n",
      "torch.Size([1, 3])\n",
      "tensor([[1., 2., 3.]], device='cuda:0')\n",
      "torch.Size([1, 3])\n",
      "tensor([[0., 0., 3.]], device='cuda:0')\n",
      "torch.Size([1, 3])\n",
      "tensor([[1., 1., 1.]], device='cuda:0')\n",
      "torch.Size([1, 3])\n",
      "\n",
      "\n",
      "Delta: None\n",
      "\n",
      "Epoch 1\n"
     ]
    },
    {
     "name": "stderr",
     "output_type": "stream",
     "text": [
      "  0%|          | 0/704 [00:00<?, ?it/s]"
     ]
    },
    {
     "name": "stderr",
     "output_type": "stream",
     "text": [
      "T Loss:  0.8251, Avg Loss:  1.1084, Best Loss:     inf, Counter: 0: 100%|██████████| 704/704 [00:06<00:00, 104.15it/s]\n"
     ]
    },
    {
     "name": "stdout",
     "output_type": "stream",
     "text": [
      "Train Loss:  1.1084\n"
     ]
    },
    {
     "name": "stderr",
     "output_type": "stream",
     "text": [
      "V Loss:  0.8209, Avg Loss:  0.7772, Best Loss:     inf, Counter: 0: 100%|██████████| 235/235 [00:02<00:00, 111.51it/s]\n"
     ]
    },
    {
     "name": "stdout",
     "output_type": "stream",
     "text": [
      "Validation Loss:  0.7772\n",
      "\n",
      "Epoch 2\n"
     ]
    },
    {
     "name": "stderr",
     "output_type": "stream",
     "text": [
      "T Loss:  0.5477, Avg Loss:  0.6912, Best Loss:  0.7772, Counter: 0: 100%|██████████| 704/704 [00:06<00:00, 102.98it/s]\n"
     ]
    },
    {
     "name": "stdout",
     "output_type": "stream",
     "text": [
      "Train Loss:  0.6912\n"
     ]
    },
    {
     "name": "stderr",
     "output_type": "stream",
     "text": [
      "V Loss:  0.8941, Avg Loss:  0.6576, Best Loss:  0.7772, Counter: 0: 100%|██████████| 235/235 [00:02<00:00, 111.64it/s]\n"
     ]
    },
    {
     "name": "stdout",
     "output_type": "stream",
     "text": [
      "Validation Loss:  0.6576\n",
      "\n",
      "Epoch 3\n"
     ]
    },
    {
     "name": "stderr",
     "output_type": "stream",
     "text": [
      "T Loss:  0.9262, Avg Loss:  0.6191, Best Loss:  0.6576, Counter: 0: 100%|██████████| 704/704 [00:07<00:00, 100.51it/s]\n"
     ]
    },
    {
     "name": "stdout",
     "output_type": "stream",
     "text": [
      "Train Loss:  0.6191\n"
     ]
    },
    {
     "name": "stderr",
     "output_type": "stream",
     "text": [
      "V Loss:  0.5515, Avg Loss:  0.6392, Best Loss:  0.6576, Counter: 0: 100%|██████████| 235/235 [00:02<00:00, 109.10it/s]\n"
     ]
    },
    {
     "name": "stdout",
     "output_type": "stream",
     "text": [
      "Validation Loss:  0.6392\n",
      "\n",
      "Epoch 4\n"
     ]
    },
    {
     "name": "stderr",
     "output_type": "stream",
     "text": [
      "T Loss:  0.2271, Avg Loss:  0.5899, Best Loss:  0.6392, Counter: 0: 100%|██████████| 704/704 [00:06<00:00, 102.75it/s]\n"
     ]
    },
    {
     "name": "stdout",
     "output_type": "stream",
     "text": [
      "Train Loss:  0.5899\n"
     ]
    },
    {
     "name": "stderr",
     "output_type": "stream",
     "text": [
      "V Loss:  0.8867, Avg Loss:  0.5952, Best Loss:  0.6392, Counter: 0: 100%|██████████| 235/235 [00:02<00:00, 110.53it/s]\n"
     ]
    },
    {
     "name": "stdout",
     "output_type": "stream",
     "text": [
      "Validation Loss:  0.5952\n",
      "\n",
      "Epoch 5\n"
     ]
    },
    {
     "name": "stderr",
     "output_type": "stream",
     "text": [
      "T Loss:  0.5369, Avg Loss:  0.5761, Best Loss:  0.5952, Counter: 0: 100%|██████████| 704/704 [00:06<00:00, 105.17it/s]\n"
     ]
    },
    {
     "name": "stdout",
     "output_type": "stream",
     "text": [
      "Train Loss:  0.5761\n"
     ]
    },
    {
     "name": "stderr",
     "output_type": "stream",
     "text": [
      "V Loss:  0.6852, Avg Loss:  0.5808, Best Loss:  0.5952, Counter: 0: 100%|██████████| 235/235 [00:02<00:00, 113.43it/s]\n"
     ]
    },
    {
     "name": "stdout",
     "output_type": "stream",
     "text": [
      "Validation Loss:  0.5808\n",
      "\n",
      "Epoch 6\n"
     ]
    },
    {
     "name": "stderr",
     "output_type": "stream",
     "text": [
      "T Loss:  0.8671, Avg Loss:  0.5610, Best Loss:  0.5808, Counter: 0: 100%|██████████| 704/704 [00:06<00:00, 104.23it/s]\n"
     ]
    },
    {
     "name": "stdout",
     "output_type": "stream",
     "text": [
      "Train Loss:  0.5610\n"
     ]
    },
    {
     "name": "stderr",
     "output_type": "stream",
     "text": [
      "V Loss:  0.6705, Avg Loss:  0.5548, Best Loss:  0.5808, Counter: 0: 100%|██████████| 235/235 [00:02<00:00, 105.21it/s]\n"
     ]
    },
    {
     "name": "stdout",
     "output_type": "stream",
     "text": [
      "Validation Loss:  0.5548\n",
      "\n",
      "Epoch 7\n"
     ]
    },
    {
     "name": "stderr",
     "output_type": "stream",
     "text": [
      "T Loss:  0.4320, Avg Loss:  0.5575, Best Loss:  0.5548, Counter: 0: 100%|██████████| 704/704 [00:06<00:00, 100.60it/s]\n"
     ]
    },
    {
     "name": "stdout",
     "output_type": "stream",
     "text": [
      "Train Loss:  0.5575\n"
     ]
    },
    {
     "name": "stderr",
     "output_type": "stream",
     "text": [
      "V Loss:  0.4963, Avg Loss:  0.5712, Best Loss:  0.5548, Counter: 0: 100%|██████████| 235/235 [00:02<00:00, 111.83it/s]\n"
     ]
    },
    {
     "name": "stdout",
     "output_type": "stream",
     "text": [
      "Validation Loss:  0.5712\n",
      "\n",
      "Epoch 8\n"
     ]
    },
    {
     "name": "stderr",
     "output_type": "stream",
     "text": [
      "T Loss:  1.1587, Avg Loss:  0.5525, Best Loss:  0.5548, Counter: 1: 100%|██████████| 704/704 [00:06<00:00, 102.39it/s]\n"
     ]
    },
    {
     "name": "stdout",
     "output_type": "stream",
     "text": [
      "Train Loss:  0.5525\n"
     ]
    },
    {
     "name": "stderr",
     "output_type": "stream",
     "text": [
      "V Loss:  0.5061, Avg Loss:  0.5670, Best Loss:  0.5548, Counter: 1: 100%|██████████| 235/235 [00:02<00:00, 112.12it/s]\n"
     ]
    },
    {
     "name": "stdout",
     "output_type": "stream",
     "text": [
      "Validation Loss:  0.5670\n",
      "\n",
      "Epoch 9\n"
     ]
    },
    {
     "name": "stderr",
     "output_type": "stream",
     "text": [
      "T Loss:  0.6398, Avg Loss:  0.5447, Best Loss:  0.5548, Counter: 2: 100%|██████████| 704/704 [00:07<00:00, 100.36it/s]\n"
     ]
    },
    {
     "name": "stdout",
     "output_type": "stream",
     "text": [
      "Train Loss:  0.5447\n"
     ]
    },
    {
     "name": "stderr",
     "output_type": "stream",
     "text": [
      "V Loss:  0.6152, Avg Loss:  0.5374, Best Loss:  0.5548, Counter: 2: 100%|██████████| 235/235 [00:02<00:00, 107.21it/s]\n"
     ]
    },
    {
     "name": "stdout",
     "output_type": "stream",
     "text": [
      "Validation Loss:  0.5374\n",
      "\n",
      "Epoch 10\n"
     ]
    },
    {
     "name": "stderr",
     "output_type": "stream",
     "text": [
      "T Loss:  0.5517, Avg Loss:  0.5435, Best Loss:  0.5374, Counter: 0: 100%|██████████| 704/704 [00:06<00:00, 103.91it/s]\n"
     ]
    },
    {
     "name": "stdout",
     "output_type": "stream",
     "text": [
      "Train Loss:  0.5435\n"
     ]
    },
    {
     "name": "stderr",
     "output_type": "stream",
     "text": [
      "V Loss:  0.5472, Avg Loss:  0.5322, Best Loss:  0.5374, Counter: 0: 100%|██████████| 235/235 [00:02<00:00, 113.56it/s]\n"
     ]
    },
    {
     "name": "stdout",
     "output_type": "stream",
     "text": [
      "Validation Loss:  0.5322\n",
      "\n",
      "Epoch 11\n"
     ]
    },
    {
     "name": "stderr",
     "output_type": "stream",
     "text": [
      "T Loss:  0.4378, Avg Loss:  0.5396, Best Loss:  0.5322, Counter: 0: 100%|██████████| 704/704 [00:06<00:00, 104.99it/s]\n"
     ]
    },
    {
     "name": "stdout",
     "output_type": "stream",
     "text": [
      "Train Loss:  0.5396\n"
     ]
    },
    {
     "name": "stderr",
     "output_type": "stream",
     "text": [
      "V Loss:  0.4075, Avg Loss:  0.5280, Best Loss:  0.5322, Counter: 0: 100%|██████████| 235/235 [00:02<00:00, 115.14it/s]\n"
     ]
    },
    {
     "name": "stdout",
     "output_type": "stream",
     "text": [
      "Validation Loss:  0.5280\n",
      "\n",
      "Epoch 12\n"
     ]
    },
    {
     "name": "stderr",
     "output_type": "stream",
     "text": [
      "T Loss:  0.2697, Avg Loss:  0.5370, Best Loss:  0.5280, Counter: 0: 100%|██████████| 704/704 [00:06<00:00, 106.14it/s]\n"
     ]
    },
    {
     "name": "stdout",
     "output_type": "stream",
     "text": [
      "Train Loss:  0.5370\n"
     ]
    },
    {
     "name": "stderr",
     "output_type": "stream",
     "text": [
      "V Loss:  0.3712, Avg Loss:  0.5775, Best Loss:  0.5280, Counter: 0: 100%|██████████| 235/235 [00:02<00:00, 110.46it/s]\n"
     ]
    },
    {
     "name": "stdout",
     "output_type": "stream",
     "text": [
      "Validation Loss:  0.5775\n",
      "\n",
      "Epoch 13\n"
     ]
    },
    {
     "name": "stderr",
     "output_type": "stream",
     "text": [
      "T Loss:  0.5610, Avg Loss:  0.5337, Best Loss:  0.5280, Counter: 1: 100%|██████████| 704/704 [00:06<00:00, 105.42it/s]\n"
     ]
    },
    {
     "name": "stdout",
     "output_type": "stream",
     "text": [
      "Train Loss:  0.5337\n"
     ]
    },
    {
     "name": "stderr",
     "output_type": "stream",
     "text": [
      "V Loss:  0.4241, Avg Loss:  0.5320, Best Loss:  0.5280, Counter: 1: 100%|██████████| 235/235 [00:02<00:00, 116.07it/s]\n"
     ]
    },
    {
     "name": "stdout",
     "output_type": "stream",
     "text": [
      "Validation Loss:  0.5320\n",
      "\n",
      "Epoch 14\n"
     ]
    },
    {
     "name": "stderr",
     "output_type": "stream",
     "text": [
      "T Loss:  0.6998, Avg Loss:  0.5312, Best Loss:  0.5280, Counter: 2: 100%|██████████| 704/704 [00:06<00:00, 105.78it/s]\n"
     ]
    },
    {
     "name": "stdout",
     "output_type": "stream",
     "text": [
      "Train Loss:  0.5312\n"
     ]
    },
    {
     "name": "stderr",
     "output_type": "stream",
     "text": [
      "V Loss:  0.2885, Avg Loss:  0.5201, Best Loss:  0.5280, Counter: 2: 100%|██████████| 235/235 [00:02<00:00, 115.64it/s]\n"
     ]
    },
    {
     "name": "stdout",
     "output_type": "stream",
     "text": [
      "Validation Loss:  0.5201\n",
      "\n",
      "Epoch 15\n"
     ]
    },
    {
     "name": "stderr",
     "output_type": "stream",
     "text": [
      "T Loss:  0.3909, Avg Loss:  0.5274, Best Loss:  0.5201, Counter: 0: 100%|██████████| 704/704 [00:06<00:00, 104.12it/s]\n"
     ]
    },
    {
     "name": "stdout",
     "output_type": "stream",
     "text": [
      "Train Loss:  0.5274\n"
     ]
    },
    {
     "name": "stderr",
     "output_type": "stream",
     "text": [
      "V Loss:  0.5586, Avg Loss:  0.5156, Best Loss:  0.5201, Counter: 0: 100%|██████████| 235/235 [00:02<00:00, 106.89it/s]\n"
     ]
    },
    {
     "name": "stdout",
     "output_type": "stream",
     "text": [
      "Validation Loss:  0.5156\n",
      "\n",
      "Epoch 16\n"
     ]
    },
    {
     "name": "stderr",
     "output_type": "stream",
     "text": [
      "T Loss:  0.2447, Avg Loss:  0.5250, Best Loss:  0.5156, Counter: 0: 100%|██████████| 704/704 [00:06<00:00, 100.98it/s]\n"
     ]
    },
    {
     "name": "stdout",
     "output_type": "stream",
     "text": [
      "Train Loss:  0.5250\n"
     ]
    },
    {
     "name": "stderr",
     "output_type": "stream",
     "text": [
      "V Loss:  0.4777, Avg Loss:  0.5149, Best Loss:  0.5156, Counter: 0: 100%|██████████| 235/235 [00:02<00:00, 116.45it/s]\n"
     ]
    },
    {
     "name": "stdout",
     "output_type": "stream",
     "text": [
      "Validation Loss:  0.5149\n",
      "\n",
      "Epoch 17\n"
     ]
    },
    {
     "name": "stderr",
     "output_type": "stream",
     "text": [
      "T Loss:  1.1556, Avg Loss:  0.5232, Best Loss:  0.5156, Counter: 1: 100%|██████████| 704/704 [00:06<00:00, 104.54it/s]\n"
     ]
    },
    {
     "name": "stdout",
     "output_type": "stream",
     "text": [
      "Train Loss:  0.5232\n"
     ]
    },
    {
     "name": "stderr",
     "output_type": "stream",
     "text": [
      "V Loss:  0.4040, Avg Loss:  0.5760, Best Loss:  0.5156, Counter: 1: 100%|██████████| 235/235 [00:01<00:00, 119.22it/s]\n"
     ]
    },
    {
     "name": "stdout",
     "output_type": "stream",
     "text": [
      "Validation Loss:  0.5760\n",
      "\n",
      "Epoch 18\n"
     ]
    },
    {
     "name": "stderr",
     "output_type": "stream",
     "text": [
      "T Loss:  0.8488, Avg Loss:  0.5252, Best Loss:  0.5156, Counter: 2: 100%|██████████| 704/704 [00:06<00:00, 103.01it/s]\n"
     ]
    },
    {
     "name": "stdout",
     "output_type": "stream",
     "text": [
      "Train Loss:  0.5252\n"
     ]
    },
    {
     "name": "stderr",
     "output_type": "stream",
     "text": [
      "V Loss:  0.2594, Avg Loss:  0.5327, Best Loss:  0.5156, Counter: 2: 100%|██████████| 235/235 [00:02<00:00, 111.00it/s]\n"
     ]
    },
    {
     "name": "stdout",
     "output_type": "stream",
     "text": [
      "Validation Loss:  0.5327\n",
      "\n",
      "Epoch 19\n"
     ]
    },
    {
     "name": "stderr",
     "output_type": "stream",
     "text": [
      "T Loss:  0.1909, Avg Loss:  0.5171, Best Loss:  0.5156, Counter: 3: 100%|██████████| 704/704 [00:06<00:00, 102.03it/s]\n"
     ]
    },
    {
     "name": "stdout",
     "output_type": "stream",
     "text": [
      "Train Loss:  0.5171\n"
     ]
    },
    {
     "name": "stderr",
     "output_type": "stream",
     "text": [
      "V Loss:  0.4510, Avg Loss:  0.5879, Best Loss:  0.5156, Counter: 3: 100%|██████████| 235/235 [00:02<00:00, 117.24it/s]\n"
     ]
    },
    {
     "name": "stdout",
     "output_type": "stream",
     "text": [
      "Validation Loss:  0.5879\n"
     ]
    },
    {
     "name": "stderr",
     "output_type": "stream",
     "text": [
      "T Loss:  0.7342, Avg Loss:  0.5202: 100%|██████████| 119/119 [00:01<00:00, 101.48it/s]\n"
     ]
    },
    {
     "name": "stdout",
     "output_type": "stream",
     "text": [
      "Accuracy:  0.8145\n",
      "[[1588   93  108  111]\n",
      " [  98 1707   31   64]\n",
      " [ 116   49 1417  318]\n",
      " [ 124   47  251 1478]]\n",
      "              precision    recall  f1-score   support\n",
      "\n",
      "           0     0.8245    0.8358    0.8301      1900\n",
      "           1     0.9003    0.8984    0.8994      1900\n",
      "           2     0.7842    0.7458    0.7645      1900\n",
      "           3     0.7499    0.7779    0.7636      1900\n",
      "\n",
      "    accuracy                         0.8145      7600\n",
      "   macro avg     0.8147    0.8145    0.8144      7600\n",
      "weighted avg     0.8147    0.8145    0.8144      7600\n",
      "\n",
      "Test loss: 0.5201968483063353\n",
      "\n",
      "\n",
      "Delta: tensor([[3., 0., 0.]], device='cuda:0')\n",
      "\n",
      "Epoch 1\n"
     ]
    },
    {
     "name": "stderr",
     "output_type": "stream",
     "text": [
      "T Loss:  0.7613, Avg Loss:  0.9472, Best Loss:     inf, Counter: 0: 100%|██████████| 704/704 [00:06<00:00, 109.08it/s]\n"
     ]
    },
    {
     "name": "stdout",
     "output_type": "stream",
     "text": [
      "Train Loss:  0.9472\n"
     ]
    },
    {
     "name": "stderr",
     "output_type": "stream",
     "text": [
      "V Loss:  0.3383, Avg Loss:  0.7000, Best Loss:     inf, Counter: 0: 100%|██████████| 235/235 [00:02<00:00, 113.88it/s]\n"
     ]
    },
    {
     "name": "stdout",
     "output_type": "stream",
     "text": [
      "Validation Loss:  0.7000\n",
      "\n",
      "Epoch 2\n"
     ]
    },
    {
     "name": "stderr",
     "output_type": "stream",
     "text": [
      "T Loss:  0.8442, Avg Loss:  0.6247, Best Loss:  0.7000, Counter: 0: 100%|██████████| 704/704 [00:06<00:00, 108.96it/s]\n"
     ]
    },
    {
     "name": "stdout",
     "output_type": "stream",
     "text": [
      "Train Loss:  0.6247\n"
     ]
    },
    {
     "name": "stderr",
     "output_type": "stream",
     "text": [
      "V Loss:  0.4368, Avg Loss:  0.5628, Best Loss:  0.7000, Counter: 0: 100%|██████████| 235/235 [00:02<00:00, 116.42it/s]\n"
     ]
    },
    {
     "name": "stdout",
     "output_type": "stream",
     "text": [
      "Validation Loss:  0.5628\n",
      "\n",
      "Epoch 3\n"
     ]
    },
    {
     "name": "stderr",
     "output_type": "stream",
     "text": [
      "T Loss:  0.0559, Avg Loss:  0.5342, Best Loss:  0.5628, Counter: 0: 100%|██████████| 704/704 [00:06<00:00, 110.61it/s]\n"
     ]
    },
    {
     "name": "stdout",
     "output_type": "stream",
     "text": [
      "Train Loss:  0.5342\n"
     ]
    },
    {
     "name": "stderr",
     "output_type": "stream",
     "text": [
      "V Loss:  0.9376, Avg Loss:  0.5055, Best Loss:  0.5628, Counter: 0: 100%|██████████| 235/235 [00:02<00:00, 108.87it/s]\n"
     ]
    },
    {
     "name": "stdout",
     "output_type": "stream",
     "text": [
      "Validation Loss:  0.5055\n",
      "\n",
      "Epoch 4\n"
     ]
    },
    {
     "name": "stderr",
     "output_type": "stream",
     "text": [
      "T Loss:  0.8322, Avg Loss:  0.4934, Best Loss:  0.5055, Counter: 0: 100%|██████████| 704/704 [00:06<00:00, 111.89it/s]\n"
     ]
    },
    {
     "name": "stdout",
     "output_type": "stream",
     "text": [
      "Train Loss:  0.4934\n"
     ]
    },
    {
     "name": "stderr",
     "output_type": "stream",
     "text": [
      "V Loss:  0.3223, Avg Loss:  0.4753, Best Loss:  0.5055, Counter: 0: 100%|██████████| 235/235 [00:02<00:00, 108.12it/s]\n"
     ]
    },
    {
     "name": "stdout",
     "output_type": "stream",
     "text": [
      "Validation Loss:  0.4753\n",
      "\n",
      "Epoch 5\n"
     ]
    },
    {
     "name": "stderr",
     "output_type": "stream",
     "text": [
      "T Loss:  0.1599, Avg Loss:  0.4704, Best Loss:  0.4753, Counter: 0: 100%|██████████| 704/704 [00:06<00:00, 106.88it/s]\n"
     ]
    },
    {
     "name": "stdout",
     "output_type": "stream",
     "text": [
      "Train Loss:  0.4704\n"
     ]
    },
    {
     "name": "stderr",
     "output_type": "stream",
     "text": [
      "V Loss:  0.3761, Avg Loss:  0.4608, Best Loss:  0.4753, Counter: 0: 100%|██████████| 235/235 [00:02<00:00, 116.20it/s]\n"
     ]
    },
    {
     "name": "stdout",
     "output_type": "stream",
     "text": [
      "Validation Loss:  0.4608\n",
      "\n",
      "Epoch 6\n"
     ]
    },
    {
     "name": "stderr",
     "output_type": "stream",
     "text": [
      "T Loss:  0.2595, Avg Loss:  0.4559, Best Loss:  0.4608, Counter: 0: 100%|██████████| 704/704 [00:06<00:00, 108.00it/s]\n"
     ]
    },
    {
     "name": "stdout",
     "output_type": "stream",
     "text": [
      "Train Loss:  0.4559\n"
     ]
    },
    {
     "name": "stderr",
     "output_type": "stream",
     "text": [
      "V Loss:  0.5569, Avg Loss:  0.4434, Best Loss:  0.4608, Counter: 0: 100%|██████████| 235/235 [00:02<00:00, 112.19it/s]\n"
     ]
    },
    {
     "name": "stdout",
     "output_type": "stream",
     "text": [
      "Validation Loss:  0.4434\n",
      "\n",
      "Epoch 7\n"
     ]
    },
    {
     "name": "stderr",
     "output_type": "stream",
     "text": [
      "T Loss:  0.2214, Avg Loss:  0.4473, Best Loss:  0.4434, Counter: 0: 100%|██████████| 704/704 [00:06<00:00, 110.52it/s]\n"
     ]
    },
    {
     "name": "stdout",
     "output_type": "stream",
     "text": [
      "Train Loss:  0.4473\n"
     ]
    },
    {
     "name": "stderr",
     "output_type": "stream",
     "text": [
      "V Loss:  0.4786, Avg Loss:  0.4418, Best Loss:  0.4434, Counter: 0: 100%|██████████| 235/235 [00:02<00:00, 107.86it/s]\n"
     ]
    },
    {
     "name": "stdout",
     "output_type": "stream",
     "text": [
      "Validation Loss:  0.4418\n",
      "\n",
      "Epoch 8\n"
     ]
    },
    {
     "name": "stderr",
     "output_type": "stream",
     "text": [
      "T Loss:  0.2109, Avg Loss:  0.4377, Best Loss:  0.4418, Counter: 0: 100%|██████████| 704/704 [00:06<00:00, 109.53it/s]\n"
     ]
    },
    {
     "name": "stdout",
     "output_type": "stream",
     "text": [
      "Train Loss:  0.4377\n"
     ]
    },
    {
     "name": "stderr",
     "output_type": "stream",
     "text": [
      "V Loss:  0.7661, Avg Loss:  0.4338, Best Loss:  0.4418, Counter: 0: 100%|██████████| 235/235 [00:02<00:00, 111.28it/s]\n"
     ]
    },
    {
     "name": "stdout",
     "output_type": "stream",
     "text": [
      "Validation Loss:  0.4338\n",
      "\n",
      "Epoch 9\n"
     ]
    },
    {
     "name": "stderr",
     "output_type": "stream",
     "text": [
      "T Loss:  0.5354, Avg Loss:  0.4341, Best Loss:  0.4338, Counter: 0: 100%|██████████| 704/704 [00:06<00:00, 110.47it/s]\n"
     ]
    },
    {
     "name": "stdout",
     "output_type": "stream",
     "text": [
      "Train Loss:  0.4341\n"
     ]
    },
    {
     "name": "stderr",
     "output_type": "stream",
     "text": [
      "V Loss:  0.8101, Avg Loss:  0.4324, Best Loss:  0.4338, Counter: 0: 100%|██████████| 235/235 [00:02<00:00, 116.82it/s]\n"
     ]
    },
    {
     "name": "stdout",
     "output_type": "stream",
     "text": [
      "Validation Loss:  0.4324\n",
      "\n",
      "Epoch 10\n"
     ]
    },
    {
     "name": "stderr",
     "output_type": "stream",
     "text": [
      "T Loss:  0.3207, Avg Loss:  0.4310, Best Loss:  0.4324, Counter: 0: 100%|██████████| 704/704 [00:06<00:00, 108.07it/s]\n"
     ]
    },
    {
     "name": "stdout",
     "output_type": "stream",
     "text": [
      "Train Loss:  0.4310\n"
     ]
    },
    {
     "name": "stderr",
     "output_type": "stream",
     "text": [
      "V Loss:  0.7677, Avg Loss:  0.4271, Best Loss:  0.4324, Counter: 0: 100%|██████████| 235/235 [00:02<00:00, 111.74it/s]\n"
     ]
    },
    {
     "name": "stdout",
     "output_type": "stream",
     "text": [
      "Validation Loss:  0.4271\n",
      "\n",
      "Epoch 11\n"
     ]
    },
    {
     "name": "stderr",
     "output_type": "stream",
     "text": [
      "T Loss:  0.2960, Avg Loss:  0.4284, Best Loss:  0.4271, Counter: 0: 100%|██████████| 704/704 [00:06<00:00, 107.77it/s]\n"
     ]
    },
    {
     "name": "stdout",
     "output_type": "stream",
     "text": [
      "Train Loss:  0.4284\n"
     ]
    },
    {
     "name": "stderr",
     "output_type": "stream",
     "text": [
      "V Loss:  0.6674, Avg Loss:  0.4245, Best Loss:  0.4271, Counter: 0: 100%|██████████| 235/235 [00:02<00:00, 111.35it/s]\n"
     ]
    },
    {
     "name": "stdout",
     "output_type": "stream",
     "text": [
      "Validation Loss:  0.4245\n",
      "\n",
      "Epoch 12\n"
     ]
    },
    {
     "name": "stderr",
     "output_type": "stream",
     "text": [
      "T Loss:  1.1925, Avg Loss:  0.4270, Best Loss:  0.4245, Counter: 0: 100%|██████████| 704/704 [00:06<00:00, 107.32it/s]\n"
     ]
    },
    {
     "name": "stdout",
     "output_type": "stream",
     "text": [
      "Train Loss:  0.4270\n"
     ]
    },
    {
     "name": "stderr",
     "output_type": "stream",
     "text": [
      "V Loss:  0.2520, Avg Loss:  0.4230, Best Loss:  0.4245, Counter: 0: 100%|██████████| 235/235 [00:02<00:00, 114.15it/s]\n"
     ]
    },
    {
     "name": "stdout",
     "output_type": "stream",
     "text": [
      "Validation Loss:  0.4230\n",
      "\n",
      "Epoch 13\n"
     ]
    },
    {
     "name": "stderr",
     "output_type": "stream",
     "text": [
      "T Loss:  0.1433, Avg Loss:  0.4227, Best Loss:  0.4230, Counter: 0: 100%|██████████| 704/704 [00:06<00:00, 108.85it/s]\n"
     ]
    },
    {
     "name": "stdout",
     "output_type": "stream",
     "text": [
      "Train Loss:  0.4227\n"
     ]
    },
    {
     "name": "stderr",
     "output_type": "stream",
     "text": [
      "V Loss:  0.2717, Avg Loss:  0.4224, Best Loss:  0.4230, Counter: 0: 100%|██████████| 235/235 [00:02<00:00, 106.57it/s]\n"
     ]
    },
    {
     "name": "stdout",
     "output_type": "stream",
     "text": [
      "Validation Loss:  0.4224\n",
      "\n",
      "Epoch 14\n"
     ]
    },
    {
     "name": "stderr",
     "output_type": "stream",
     "text": [
      "T Loss:  0.0266, Avg Loss:  0.4224, Best Loss:  0.4230, Counter: 1: 100%|██████████| 704/704 [00:06<00:00, 106.96it/s]\n"
     ]
    },
    {
     "name": "stdout",
     "output_type": "stream",
     "text": [
      "Train Loss:  0.4224\n"
     ]
    },
    {
     "name": "stderr",
     "output_type": "stream",
     "text": [
      "V Loss:  0.3459, Avg Loss:  0.4197, Best Loss:  0.4230, Counter: 1: 100%|██████████| 235/235 [00:02<00:00, 114.15it/s]\n"
     ]
    },
    {
     "name": "stdout",
     "output_type": "stream",
     "text": [
      "Validation Loss:  0.4197\n",
      "\n",
      "Epoch 15\n"
     ]
    },
    {
     "name": "stderr",
     "output_type": "stream",
     "text": [
      "T Loss:  0.5819, Avg Loss:  0.4201, Best Loss:  0.4197, Counter: 0: 100%|██████████| 704/704 [00:06<00:00, 111.81it/s]\n"
     ]
    },
    {
     "name": "stdout",
     "output_type": "stream",
     "text": [
      "Train Loss:  0.4201\n"
     ]
    },
    {
     "name": "stderr",
     "output_type": "stream",
     "text": [
      "V Loss:  0.3195, Avg Loss:  0.4200, Best Loss:  0.4197, Counter: 0: 100%|██████████| 235/235 [00:02<00:00, 113.17it/s]\n"
     ]
    },
    {
     "name": "stdout",
     "output_type": "stream",
     "text": [
      "Validation Loss:  0.4200\n",
      "\n",
      "Epoch 16\n"
     ]
    },
    {
     "name": "stderr",
     "output_type": "stream",
     "text": [
      "T Loss:  0.0102, Avg Loss:  0.4192, Best Loss:  0.4197, Counter: 1: 100%|██████████| 704/704 [00:06<00:00, 110.93it/s]\n"
     ]
    },
    {
     "name": "stdout",
     "output_type": "stream",
     "text": [
      "Train Loss:  0.4192\n"
     ]
    },
    {
     "name": "stderr",
     "output_type": "stream",
     "text": [
      "V Loss:  0.4820, Avg Loss:  0.4202, Best Loss:  0.4197, Counter: 1: 100%|██████████| 235/235 [00:01<00:00, 119.02it/s]\n"
     ]
    },
    {
     "name": "stdout",
     "output_type": "stream",
     "text": [
      "Validation Loss:  0.4202\n",
      "\n",
      "Epoch 17\n"
     ]
    },
    {
     "name": "stderr",
     "output_type": "stream",
     "text": [
      "T Loss:  0.3467, Avg Loss:  0.4200, Best Loss:  0.4197, Counter: 2: 100%|██████████| 704/704 [00:06<00:00, 106.03it/s]\n"
     ]
    },
    {
     "name": "stdout",
     "output_type": "stream",
     "text": [
      "Train Loss:  0.4200\n"
     ]
    },
    {
     "name": "stderr",
     "output_type": "stream",
     "text": [
      "V Loss:  0.3858, Avg Loss:  0.4194, Best Loss:  0.4197, Counter: 2: 100%|██████████| 235/235 [00:02<00:00, 112.58it/s]\n"
     ]
    },
    {
     "name": "stdout",
     "output_type": "stream",
     "text": [
      "Validation Loss:  0.4194\n",
      "\n",
      "Epoch 18\n"
     ]
    },
    {
     "name": "stderr",
     "output_type": "stream",
     "text": [
      "T Loss:  0.3486, Avg Loss:  0.4178, Best Loss:  0.4197, Counter: 3: 100%|██████████| 704/704 [00:06<00:00, 113.78it/s]\n"
     ]
    },
    {
     "name": "stdout",
     "output_type": "stream",
     "text": [
      "Train Loss:  0.4178\n"
     ]
    },
    {
     "name": "stderr",
     "output_type": "stream",
     "text": [
      "V Loss:  0.2958, Avg Loss:  0.4136, Best Loss:  0.4197, Counter: 3: 100%|██████████| 235/235 [00:02<00:00, 106.35it/s]\n"
     ]
    },
    {
     "name": "stdout",
     "output_type": "stream",
     "text": [
      "Validation Loss:  0.4136\n",
      "\n",
      "Epoch 19\n"
     ]
    },
    {
     "name": "stderr",
     "output_type": "stream",
     "text": [
      "T Loss:  0.2199, Avg Loss:  0.4170, Best Loss:  0.4136, Counter: 0: 100%|██████████| 704/704 [00:06<00:00, 108.37it/s]\n"
     ]
    },
    {
     "name": "stdout",
     "output_type": "stream",
     "text": [
      "Train Loss:  0.4170\n"
     ]
    },
    {
     "name": "stderr",
     "output_type": "stream",
     "text": [
      "V Loss:  0.1475, Avg Loss:  0.4155, Best Loss:  0.4136, Counter: 0: 100%|██████████| 235/235 [00:02<00:00, 114.78it/s]\n"
     ]
    },
    {
     "name": "stdout",
     "output_type": "stream",
     "text": [
      "Validation Loss:  0.4155\n",
      "\n",
      "Epoch 20\n"
     ]
    },
    {
     "name": "stderr",
     "output_type": "stream",
     "text": [
      "T Loss:  0.0865, Avg Loss:  0.4173, Best Loss:  0.4136, Counter: 1: 100%|██████████| 704/704 [00:06<00:00, 107.57it/s]\n"
     ]
    },
    {
     "name": "stdout",
     "output_type": "stream",
     "text": [
      "Train Loss:  0.4173\n"
     ]
    },
    {
     "name": "stderr",
     "output_type": "stream",
     "text": [
      "V Loss:  0.4292, Avg Loss:  0.4167, Best Loss:  0.4136, Counter: 1: 100%|██████████| 235/235 [00:02<00:00, 112.59it/s]\n"
     ]
    },
    {
     "name": "stdout",
     "output_type": "stream",
     "text": [
      "Validation Loss:  0.4167\n",
      "\n",
      "Epoch 21\n"
     ]
    },
    {
     "name": "stderr",
     "output_type": "stream",
     "text": [
      "T Loss:  0.2537, Avg Loss:  0.4173, Best Loss:  0.4136, Counter: 2: 100%|██████████| 704/704 [00:06<00:00, 112.56it/s]\n"
     ]
    },
    {
     "name": "stdout",
     "output_type": "stream",
     "text": [
      "Train Loss:  0.4173\n"
     ]
    },
    {
     "name": "stderr",
     "output_type": "stream",
     "text": [
      "V Loss:  0.2683, Avg Loss:  0.4148, Best Loss:  0.4136, Counter: 2: 100%|██████████| 235/235 [00:02<00:00, 110.42it/s]\n"
     ]
    },
    {
     "name": "stdout",
     "output_type": "stream",
     "text": [
      "Validation Loss:  0.4148\n",
      "\n",
      "Epoch 22\n"
     ]
    },
    {
     "name": "stderr",
     "output_type": "stream",
     "text": [
      "T Loss:  0.5986, Avg Loss:  0.4165, Best Loss:  0.4136, Counter: 3: 100%|██████████| 704/704 [00:06<00:00, 112.71it/s]\n"
     ]
    },
    {
     "name": "stdout",
     "output_type": "stream",
     "text": [
      "Train Loss:  0.4165\n"
     ]
    },
    {
     "name": "stderr",
     "output_type": "stream",
     "text": [
      "V Loss:  0.5086, Avg Loss:  0.4140, Best Loss:  0.4136, Counter: 3: 100%|██████████| 235/235 [00:02<00:00, 111.56it/s]\n"
     ]
    },
    {
     "name": "stdout",
     "output_type": "stream",
     "text": [
      "Validation Loss:  0.4140\n"
     ]
    },
    {
     "name": "stderr",
     "output_type": "stream",
     "text": [
      "T Loss:  0.7200, Avg Loss:  0.4371: 100%|██████████| 119/119 [00:01<00:00, 102.27it/s]\n"
     ]
    },
    {
     "name": "stdout",
     "output_type": "stream",
     "text": [
      "Accuracy:  0.8613\n",
      "[[1636   68  115   81]\n",
      " [  37 1806   22   35]\n",
      " [ 108   17 1537  238]\n",
      " [  89   20  224 1567]]\n",
      "              precision    recall  f1-score   support\n",
      "\n",
      "           0     0.8749    0.8611    0.8679      1900\n",
      "           1     0.9451    0.9505    0.9478      1900\n",
      "           2     0.8098    0.8089    0.8094      1900\n",
      "           3     0.8157    0.8247    0.8202      1900\n",
      "\n",
      "    accuracy                         0.8613      7600\n",
      "   macro avg     0.8614    0.8613    0.8613      7600\n",
      "weighted avg     0.8614    0.8613    0.8613      7600\n",
      "\n",
      "Test loss: 0.4370632403287567\n",
      "\n",
      "\n",
      "Delta: tensor([[1., 2., 3.]], device='cuda:0')\n",
      "\n",
      "Epoch 1\n"
     ]
    },
    {
     "name": "stderr",
     "output_type": "stream",
     "text": [
      "T Loss:  0.5435, Avg Loss:  1.0378, Best Loss:     inf, Counter: 0: 100%|██████████| 704/704 [00:06<00:00, 110.58it/s]\n"
     ]
    },
    {
     "name": "stdout",
     "output_type": "stream",
     "text": [
      "Train Loss:  1.0378\n"
     ]
    },
    {
     "name": "stderr",
     "output_type": "stream",
     "text": [
      "V Loss:  0.7507, Avg Loss:  0.8276, Best Loss:     inf, Counter: 0: 100%|██████████| 235/235 [00:02<00:00, 117.12it/s]\n"
     ]
    },
    {
     "name": "stdout",
     "output_type": "stream",
     "text": [
      "Validation Loss:  0.8276\n",
      "\n",
      "Epoch 2\n"
     ]
    },
    {
     "name": "stderr",
     "output_type": "stream",
     "text": [
      "T Loss:  0.3898, Avg Loss:  0.7774, Best Loss:  0.8276, Counter: 0: 100%|██████████| 704/704 [00:06<00:00, 109.34it/s]\n"
     ]
    },
    {
     "name": "stdout",
     "output_type": "stream",
     "text": [
      "Train Loss:  0.7774\n"
     ]
    },
    {
     "name": "stderr",
     "output_type": "stream",
     "text": [
      "V Loss:  0.6978, Avg Loss:  0.7434, Best Loss:  0.8276, Counter: 0: 100%|██████████| 235/235 [00:02<00:00, 105.96it/s]\n"
     ]
    },
    {
     "name": "stdout",
     "output_type": "stream",
     "text": [
      "Validation Loss:  0.7434\n",
      "\n",
      "Epoch 3\n"
     ]
    },
    {
     "name": "stderr",
     "output_type": "stream",
     "text": [
      "T Loss:  0.5786, Avg Loss:  0.7137, Best Loss:  0.7434, Counter: 0: 100%|██████████| 704/704 [00:06<00:00, 110.80it/s]\n"
     ]
    },
    {
     "name": "stdout",
     "output_type": "stream",
     "text": [
      "Train Loss:  0.7137\n"
     ]
    },
    {
     "name": "stderr",
     "output_type": "stream",
     "text": [
      "V Loss:  0.4863, Avg Loss:  0.6942, Best Loss:  0.7434, Counter: 0: 100%|██████████| 235/235 [00:02<00:00, 110.62it/s]\n"
     ]
    },
    {
     "name": "stdout",
     "output_type": "stream",
     "text": [
      "Validation Loss:  0.6942\n",
      "\n",
      "Epoch 4\n"
     ]
    },
    {
     "name": "stderr",
     "output_type": "stream",
     "text": [
      "T Loss:  0.5547, Avg Loss:  0.6772, Best Loss:  0.6942, Counter: 0: 100%|██████████| 704/704 [00:06<00:00, 107.34it/s]\n"
     ]
    },
    {
     "name": "stdout",
     "output_type": "stream",
     "text": [
      "Train Loss:  0.6772\n"
     ]
    },
    {
     "name": "stderr",
     "output_type": "stream",
     "text": [
      "V Loss:  0.4017, Avg Loss:  0.6769, Best Loss:  0.6942, Counter: 0: 100%|██████████| 235/235 [00:02<00:00, 111.86it/s]\n"
     ]
    },
    {
     "name": "stdout",
     "output_type": "stream",
     "text": [
      "Validation Loss:  0.6769\n",
      "\n",
      "Epoch 5\n"
     ]
    },
    {
     "name": "stderr",
     "output_type": "stream",
     "text": [
      "T Loss:  0.4474, Avg Loss:  0.6572, Best Loss:  0.6769, Counter: 0: 100%|██████████| 704/704 [00:06<00:00, 107.74it/s]\n"
     ]
    },
    {
     "name": "stdout",
     "output_type": "stream",
     "text": [
      "Train Loss:  0.6572\n"
     ]
    },
    {
     "name": "stderr",
     "output_type": "stream",
     "text": [
      "V Loss:  0.9674, Avg Loss:  0.6627, Best Loss:  0.6769, Counter: 0: 100%|██████████| 235/235 [00:02<00:00, 111.13it/s]\n"
     ]
    },
    {
     "name": "stdout",
     "output_type": "stream",
     "text": [
      "Validation Loss:  0.6627\n",
      "\n",
      "Epoch 6\n"
     ]
    },
    {
     "name": "stderr",
     "output_type": "stream",
     "text": [
      "T Loss:  1.6741, Avg Loss:  0.6485, Best Loss:  0.6627, Counter: 0: 100%|██████████| 704/704 [00:06<00:00, 106.94it/s]\n"
     ]
    },
    {
     "name": "stdout",
     "output_type": "stream",
     "text": [
      "Train Loss:  0.6485\n"
     ]
    },
    {
     "name": "stderr",
     "output_type": "stream",
     "text": [
      "V Loss:  0.7506, Avg Loss:  0.6493, Best Loss:  0.6627, Counter: 0: 100%|██████████| 235/235 [00:01<00:00, 119.22it/s]\n"
     ]
    },
    {
     "name": "stdout",
     "output_type": "stream",
     "text": [
      "Validation Loss:  0.6493\n",
      "\n",
      "Epoch 7\n"
     ]
    },
    {
     "name": "stderr",
     "output_type": "stream",
     "text": [
      "T Loss:  0.7077, Avg Loss:  0.6356, Best Loss:  0.6493, Counter: 0: 100%|██████████| 704/704 [00:06<00:00, 106.60it/s]\n"
     ]
    },
    {
     "name": "stdout",
     "output_type": "stream",
     "text": [
      "Train Loss:  0.6356\n"
     ]
    },
    {
     "name": "stderr",
     "output_type": "stream",
     "text": [
      "V Loss:  0.7553, Avg Loss:  0.6246, Best Loss:  0.6493, Counter: 0: 100%|██████████| 235/235 [00:02<00:00, 108.48it/s]\n"
     ]
    },
    {
     "name": "stdout",
     "output_type": "stream",
     "text": [
      "Validation Loss:  0.6246\n",
      "\n",
      "Epoch 8\n"
     ]
    },
    {
     "name": "stderr",
     "output_type": "stream",
     "text": [
      "T Loss:  0.8174, Avg Loss:  0.6296, Best Loss:  0.6246, Counter: 0: 100%|██████████| 704/704 [00:06<00:00, 111.44it/s]\n"
     ]
    },
    {
     "name": "stdout",
     "output_type": "stream",
     "text": [
      "Train Loss:  0.6296\n"
     ]
    },
    {
     "name": "stderr",
     "output_type": "stream",
     "text": [
      "V Loss:  0.6669, Avg Loss:  0.6373, Best Loss:  0.6246, Counter: 0: 100%|██████████| 235/235 [00:02<00:00, 111.71it/s]\n"
     ]
    },
    {
     "name": "stdout",
     "output_type": "stream",
     "text": [
      "Validation Loss:  0.6373\n",
      "\n",
      "Epoch 9\n"
     ]
    },
    {
     "name": "stderr",
     "output_type": "stream",
     "text": [
      "T Loss:  0.1707, Avg Loss:  0.6221, Best Loss:  0.6246, Counter: 1: 100%|██████████| 704/704 [00:06<00:00, 115.76it/s]\n"
     ]
    },
    {
     "name": "stdout",
     "output_type": "stream",
     "text": [
      "Train Loss:  0.6221\n"
     ]
    },
    {
     "name": "stderr",
     "output_type": "stream",
     "text": [
      "V Loss:  0.5436, Avg Loss:  0.6270, Best Loss:  0.6246, Counter: 1: 100%|██████████| 235/235 [00:01<00:00, 122.45it/s]\n"
     ]
    },
    {
     "name": "stdout",
     "output_type": "stream",
     "text": [
      "Validation Loss:  0.6270\n",
      "\n",
      "Epoch 10\n"
     ]
    },
    {
     "name": "stderr",
     "output_type": "stream",
     "text": [
      "T Loss:  0.7099, Avg Loss:  0.6175, Best Loss:  0.6246, Counter: 2: 100%|██████████| 704/704 [00:06<00:00, 106.93it/s]\n"
     ]
    },
    {
     "name": "stdout",
     "output_type": "stream",
     "text": [
      "Train Loss:  0.6175\n"
     ]
    },
    {
     "name": "stderr",
     "output_type": "stream",
     "text": [
      "V Loss:  0.6457, Avg Loss:  0.6552, Best Loss:  0.6246, Counter: 2: 100%|██████████| 235/235 [00:02<00:00, 108.82it/s]\n"
     ]
    },
    {
     "name": "stdout",
     "output_type": "stream",
     "text": [
      "Validation Loss:  0.6552\n",
      "\n",
      "Epoch 11\n"
     ]
    },
    {
     "name": "stderr",
     "output_type": "stream",
     "text": [
      "T Loss:  0.7420, Avg Loss:  0.6141, Best Loss:  0.6246, Counter: 3: 100%|██████████| 704/704 [00:06<00:00, 108.09it/s]\n"
     ]
    },
    {
     "name": "stdout",
     "output_type": "stream",
     "text": [
      "Train Loss:  0.6141\n"
     ]
    },
    {
     "name": "stderr",
     "output_type": "stream",
     "text": [
      "V Loss:  0.5823, Avg Loss:  0.6051, Best Loss:  0.6246, Counter: 3: 100%|██████████| 235/235 [00:02<00:00, 113.45it/s]\n"
     ]
    },
    {
     "name": "stdout",
     "output_type": "stream",
     "text": [
      "Validation Loss:  0.6051\n",
      "\n",
      "Epoch 12\n"
     ]
    },
    {
     "name": "stderr",
     "output_type": "stream",
     "text": [
      "T Loss:  0.8810, Avg Loss:  0.6057, Best Loss:  0.6051, Counter: 0: 100%|██████████| 704/704 [00:06<00:00, 109.18it/s]\n"
     ]
    },
    {
     "name": "stdout",
     "output_type": "stream",
     "text": [
      "Train Loss:  0.6057\n"
     ]
    },
    {
     "name": "stderr",
     "output_type": "stream",
     "text": [
      "V Loss:  0.7678, Avg Loss:  0.6013, Best Loss:  0.6051, Counter: 0: 100%|██████████| 235/235 [00:02<00:00, 111.30it/s]\n"
     ]
    },
    {
     "name": "stdout",
     "output_type": "stream",
     "text": [
      "Validation Loss:  0.6013\n",
      "\n",
      "Epoch 13\n"
     ]
    },
    {
     "name": "stderr",
     "output_type": "stream",
     "text": [
      "T Loss:  0.7535, Avg Loss:  0.6057, Best Loss:  0.6013, Counter: 0: 100%|██████████| 704/704 [00:06<00:00, 105.94it/s]\n"
     ]
    },
    {
     "name": "stdout",
     "output_type": "stream",
     "text": [
      "Train Loss:  0.6057\n"
     ]
    },
    {
     "name": "stderr",
     "output_type": "stream",
     "text": [
      "V Loss:  0.7501, Avg Loss:  0.6227, Best Loss:  0.6013, Counter: 0: 100%|██████████| 235/235 [00:02<00:00, 106.90it/s]\n"
     ]
    },
    {
     "name": "stdout",
     "output_type": "stream",
     "text": [
      "Validation Loss:  0.6227\n",
      "\n",
      "Epoch 14\n"
     ]
    },
    {
     "name": "stderr",
     "output_type": "stream",
     "text": [
      "T Loss:  0.4458, Avg Loss:  0.6047, Best Loss:  0.6013, Counter: 1: 100%|██████████| 704/704 [00:06<00:00, 108.27it/s]\n"
     ]
    },
    {
     "name": "stdout",
     "output_type": "stream",
     "text": [
      "Train Loss:  0.6047\n"
     ]
    },
    {
     "name": "stderr",
     "output_type": "stream",
     "text": [
      "V Loss:  0.3753, Avg Loss:  0.6234, Best Loss:  0.6013, Counter: 1: 100%|██████████| 235/235 [00:02<00:00, 112.44it/s]\n"
     ]
    },
    {
     "name": "stdout",
     "output_type": "stream",
     "text": [
      "Validation Loss:  0.6234\n",
      "\n",
      "Epoch 15\n"
     ]
    },
    {
     "name": "stderr",
     "output_type": "stream",
     "text": [
      "T Loss:  0.1999, Avg Loss:  0.5999, Best Loss:  0.6013, Counter: 2: 100%|██████████| 704/704 [00:06<00:00, 116.95it/s]\n"
     ]
    },
    {
     "name": "stdout",
     "output_type": "stream",
     "text": [
      "Train Loss:  0.5999\n"
     ]
    },
    {
     "name": "stderr",
     "output_type": "stream",
     "text": [
      "V Loss:  0.3381, Avg Loss:  0.6040, Best Loss:  0.6013, Counter: 2: 100%|██████████| 235/235 [00:02<00:00, 115.22it/s]\n"
     ]
    },
    {
     "name": "stdout",
     "output_type": "stream",
     "text": [
      "Validation Loss:  0.6040\n",
      "\n",
      "Epoch 16\n"
     ]
    },
    {
     "name": "stderr",
     "output_type": "stream",
     "text": [
      "T Loss:  0.6461, Avg Loss:  0.5991, Best Loss:  0.6013, Counter: 3: 100%|██████████| 704/704 [00:06<00:00, 104.02it/s]\n"
     ]
    },
    {
     "name": "stdout",
     "output_type": "stream",
     "text": [
      "Train Loss:  0.5991\n"
     ]
    },
    {
     "name": "stderr",
     "output_type": "stream",
     "text": [
      "V Loss:  0.6194, Avg Loss:  0.5976, Best Loss:  0.6013, Counter: 3: 100%|██████████| 235/235 [00:02<00:00, 111.84it/s]\n"
     ]
    },
    {
     "name": "stdout",
     "output_type": "stream",
     "text": [
      "Validation Loss:  0.5976\n",
      "\n",
      "Epoch 17\n"
     ]
    },
    {
     "name": "stderr",
     "output_type": "stream",
     "text": [
      "T Loss:  0.5420, Avg Loss:  0.5939, Best Loss:  0.5976, Counter: 0: 100%|██████████| 704/704 [00:06<00:00, 105.89it/s]\n"
     ]
    },
    {
     "name": "stdout",
     "output_type": "stream",
     "text": [
      "Train Loss:  0.5939\n"
     ]
    },
    {
     "name": "stderr",
     "output_type": "stream",
     "text": [
      "V Loss:  0.6214, Avg Loss:  0.6181, Best Loss:  0.5976, Counter: 0: 100%|██████████| 235/235 [00:02<00:00, 106.93it/s]\n"
     ]
    },
    {
     "name": "stdout",
     "output_type": "stream",
     "text": [
      "Validation Loss:  0.6181\n",
      "\n",
      "Epoch 18\n"
     ]
    },
    {
     "name": "stderr",
     "output_type": "stream",
     "text": [
      "T Loss:  0.6494, Avg Loss:  0.5943, Best Loss:  0.5976, Counter: 1: 100%|██████████| 704/704 [00:06<00:00, 111.84it/s]\n"
     ]
    },
    {
     "name": "stdout",
     "output_type": "stream",
     "text": [
      "Train Loss:  0.5943\n"
     ]
    },
    {
     "name": "stderr",
     "output_type": "stream",
     "text": [
      "V Loss:  0.7217, Avg Loss:  0.5919, Best Loss:  0.5976, Counter: 1: 100%|██████████| 235/235 [00:02<00:00, 113.05it/s]\n"
     ]
    },
    {
     "name": "stdout",
     "output_type": "stream",
     "text": [
      "Validation Loss:  0.5919\n",
      "\n",
      "Epoch 19\n"
     ]
    },
    {
     "name": "stderr",
     "output_type": "stream",
     "text": [
      "T Loss:  0.5497, Avg Loss:  0.5894, Best Loss:  0.5919, Counter: 0: 100%|██████████| 704/704 [00:06<00:00, 105.57it/s]\n"
     ]
    },
    {
     "name": "stdout",
     "output_type": "stream",
     "text": [
      "Train Loss:  0.5894\n"
     ]
    },
    {
     "name": "stderr",
     "output_type": "stream",
     "text": [
      "V Loss:  0.5919, Avg Loss:  0.5955, Best Loss:  0.5919, Counter: 0: 100%|██████████| 235/235 [00:02<00:00, 103.29it/s]\n"
     ]
    },
    {
     "name": "stdout",
     "output_type": "stream",
     "text": [
      "Validation Loss:  0.5955\n",
      "\n",
      "Epoch 20\n"
     ]
    },
    {
     "name": "stderr",
     "output_type": "stream",
     "text": [
      "T Loss:  0.9286, Avg Loss:  0.5893, Best Loss:  0.5919, Counter: 1: 100%|██████████| 704/704 [00:06<00:00, 112.30it/s]\n"
     ]
    },
    {
     "name": "stdout",
     "output_type": "stream",
     "text": [
      "Train Loss:  0.5893\n"
     ]
    },
    {
     "name": "stderr",
     "output_type": "stream",
     "text": [
      "V Loss:  0.6634, Avg Loss:  0.5833, Best Loss:  0.5919, Counter: 1: 100%|██████████| 235/235 [00:02<00:00, 111.04it/s]\n"
     ]
    },
    {
     "name": "stdout",
     "output_type": "stream",
     "text": [
      "Validation Loss:  0.5833\n",
      "\n",
      "Epoch 21\n"
     ]
    },
    {
     "name": "stderr",
     "output_type": "stream",
     "text": [
      "T Loss:  0.2469, Avg Loss:  0.5880, Best Loss:  0.5833, Counter: 0: 100%|██████████| 704/704 [00:06<00:00, 111.67it/s]\n"
     ]
    },
    {
     "name": "stdout",
     "output_type": "stream",
     "text": [
      "Train Loss:  0.5880\n"
     ]
    },
    {
     "name": "stderr",
     "output_type": "stream",
     "text": [
      "V Loss:  0.5431, Avg Loss:  0.6038, Best Loss:  0.5833, Counter: 0: 100%|██████████| 235/235 [00:02<00:00, 112.45it/s]\n"
     ]
    },
    {
     "name": "stdout",
     "output_type": "stream",
     "text": [
      "Validation Loss:  0.6038\n",
      "\n",
      "Epoch 22\n"
     ]
    },
    {
     "name": "stderr",
     "output_type": "stream",
     "text": [
      "T Loss:  0.4190, Avg Loss:  0.5868, Best Loss:  0.5833, Counter: 1: 100%|██████████| 704/704 [00:06<00:00, 108.25it/s]\n"
     ]
    },
    {
     "name": "stdout",
     "output_type": "stream",
     "text": [
      "Train Loss:  0.5868\n"
     ]
    },
    {
     "name": "stderr",
     "output_type": "stream",
     "text": [
      "V Loss:  0.6987, Avg Loss:  0.5885, Best Loss:  0.5833, Counter: 1: 100%|██████████| 235/235 [00:02<00:00, 114.27it/s]\n"
     ]
    },
    {
     "name": "stdout",
     "output_type": "stream",
     "text": [
      "Validation Loss:  0.5885\n",
      "\n",
      "Epoch 23\n"
     ]
    },
    {
     "name": "stderr",
     "output_type": "stream",
     "text": [
      "T Loss:  0.1456, Avg Loss:  0.5846, Best Loss:  0.5833, Counter: 2: 100%|██████████| 704/704 [00:06<00:00, 107.36it/s]\n"
     ]
    },
    {
     "name": "stdout",
     "output_type": "stream",
     "text": [
      "Train Loss:  0.5846\n"
     ]
    },
    {
     "name": "stderr",
     "output_type": "stream",
     "text": [
      "V Loss:  1.4023, Avg Loss:  0.5964, Best Loss:  0.5833, Counter: 2: 100%|██████████| 235/235 [00:02<00:00, 113.39it/s]\n"
     ]
    },
    {
     "name": "stdout",
     "output_type": "stream",
     "text": [
      "Validation Loss:  0.5964\n",
      "\n",
      "Epoch 24\n"
     ]
    },
    {
     "name": "stderr",
     "output_type": "stream",
     "text": [
      "T Loss:  0.5444, Avg Loss:  0.5871, Best Loss:  0.5833, Counter: 3: 100%|██████████| 704/704 [00:06<00:00, 106.09it/s]\n"
     ]
    },
    {
     "name": "stdout",
     "output_type": "stream",
     "text": [
      "Train Loss:  0.5871\n"
     ]
    },
    {
     "name": "stderr",
     "output_type": "stream",
     "text": [
      "V Loss:  0.6530, Avg Loss:  0.5905, Best Loss:  0.5833, Counter: 3: 100%|██████████| 235/235 [00:02<00:00, 110.90it/s]\n"
     ]
    },
    {
     "name": "stdout",
     "output_type": "stream",
     "text": [
      "Validation Loss:  0.5905\n"
     ]
    },
    {
     "name": "stderr",
     "output_type": "stream",
     "text": [
      "T Loss:  0.2983, Avg Loss:  0.5832: 100%|██████████| 119/119 [00:01<00:00, 100.70it/s]\n"
     ]
    },
    {
     "name": "stdout",
     "output_type": "stream",
     "text": [
      "Accuracy:  0.7822\n",
      "[[1485  165  145  105]\n",
      " [  76 1699   43   82]\n",
      " [  88   52 1402  358]\n",
      " [ 128  101  312 1359]]\n",
      "              precision    recall  f1-score   support\n",
      "\n",
      "           0     0.8357    0.7816    0.8077      1900\n",
      "           1     0.8423    0.8942    0.8675      1900\n",
      "           2     0.7371    0.7379    0.7375      1900\n",
      "           3     0.7138    0.7153    0.7145      1900\n",
      "\n",
      "    accuracy                         0.7822      7600\n",
      "   macro avg     0.7822    0.7822    0.7818      7600\n",
      "weighted avg     0.7822    0.7822    0.7818      7600\n",
      "\n",
      "Test loss: 0.5831848365419051\n",
      "\n",
      "\n",
      "Delta: tensor([[0., 0., 3.]], device='cuda:0')\n",
      "\n",
      "Epoch 1\n"
     ]
    },
    {
     "name": "stderr",
     "output_type": "stream",
     "text": [
      "T Loss:  0.7073, Avg Loss:  1.1169, Best Loss:     inf, Counter: 0: 100%|██████████| 704/704 [00:06<00:00, 110.46it/s]\n"
     ]
    },
    {
     "name": "stdout",
     "output_type": "stream",
     "text": [
      "Train Loss:  1.1169\n"
     ]
    },
    {
     "name": "stderr",
     "output_type": "stream",
     "text": [
      "V Loss:  0.8766, Avg Loss:  0.9771, Best Loss:     inf, Counter: 0: 100%|██████████| 235/235 [00:02<00:00, 112.80it/s]\n"
     ]
    },
    {
     "name": "stdout",
     "output_type": "stream",
     "text": [
      "Validation Loss:  0.9771\n",
      "\n",
      "Epoch 2\n"
     ]
    },
    {
     "name": "stderr",
     "output_type": "stream",
     "text": [
      "T Loss:  0.6882, Avg Loss:  0.9078, Best Loss:  0.9771, Counter: 0: 100%|██████████| 704/704 [00:06<00:00, 106.87it/s]\n"
     ]
    },
    {
     "name": "stdout",
     "output_type": "stream",
     "text": [
      "Train Loss:  0.9078\n"
     ]
    },
    {
     "name": "stderr",
     "output_type": "stream",
     "text": [
      "V Loss:  0.7066, Avg Loss:  0.8818, Best Loss:  0.9771, Counter: 0: 100%|██████████| 235/235 [00:02<00:00, 113.11it/s]\n"
     ]
    },
    {
     "name": "stdout",
     "output_type": "stream",
     "text": [
      "Validation Loss:  0.8818\n",
      "\n",
      "Epoch 3\n"
     ]
    },
    {
     "name": "stderr",
     "output_type": "stream",
     "text": [
      "T Loss:  0.6899, Avg Loss:  0.8715, Best Loss:  0.8818, Counter: 0: 100%|██████████| 704/704 [00:06<00:00, 112.60it/s]\n"
     ]
    },
    {
     "name": "stdout",
     "output_type": "stream",
     "text": [
      "Train Loss:  0.8715\n"
     ]
    },
    {
     "name": "stderr",
     "output_type": "stream",
     "text": [
      "V Loss:  1.0041, Avg Loss:  0.8652, Best Loss:  0.8818, Counter: 0: 100%|██████████| 235/235 [00:02<00:00, 110.92it/s]\n"
     ]
    },
    {
     "name": "stdout",
     "output_type": "stream",
     "text": [
      "Validation Loss:  0.8652\n",
      "\n",
      "Epoch 4\n"
     ]
    },
    {
     "name": "stderr",
     "output_type": "stream",
     "text": [
      "T Loss:  0.7157, Avg Loss:  0.8546, Best Loss:  0.8652, Counter: 0: 100%|██████████| 704/704 [00:06<00:00, 107.60it/s]\n"
     ]
    },
    {
     "name": "stdout",
     "output_type": "stream",
     "text": [
      "Train Loss:  0.8546\n"
     ]
    },
    {
     "name": "stderr",
     "output_type": "stream",
     "text": [
      "V Loss:  0.7285, Avg Loss:  0.8368, Best Loss:  0.8652, Counter: 0: 100%|██████████| 235/235 [00:02<00:00, 112.67it/s]\n"
     ]
    },
    {
     "name": "stdout",
     "output_type": "stream",
     "text": [
      "Validation Loss:  0.8368\n",
      "\n",
      "Epoch 5\n"
     ]
    },
    {
     "name": "stderr",
     "output_type": "stream",
     "text": [
      "T Loss:  0.5853, Avg Loss:  0.8502, Best Loss:  0.8368, Counter: 0: 100%|██████████| 704/704 [00:06<00:00, 108.63it/s]\n"
     ]
    },
    {
     "name": "stdout",
     "output_type": "stream",
     "text": [
      "Train Loss:  0.8502\n"
     ]
    },
    {
     "name": "stderr",
     "output_type": "stream",
     "text": [
      "V Loss:  0.6897, Avg Loss:  0.9692, Best Loss:  0.8368, Counter: 0: 100%|██████████| 235/235 [00:02<00:00, 112.88it/s]\n"
     ]
    },
    {
     "name": "stdout",
     "output_type": "stream",
     "text": [
      "Validation Loss:  0.9692\n",
      "\n",
      "Epoch 6\n"
     ]
    },
    {
     "name": "stderr",
     "output_type": "stream",
     "text": [
      "T Loss:  1.5027, Avg Loss:  0.8540, Best Loss:  0.8368, Counter: 1: 100%|██████████| 704/704 [00:06<00:00, 109.66it/s]\n"
     ]
    },
    {
     "name": "stdout",
     "output_type": "stream",
     "text": [
      "Train Loss:  0.8540\n"
     ]
    },
    {
     "name": "stderr",
     "output_type": "stream",
     "text": [
      "V Loss:  1.1694, Avg Loss:  0.8574, Best Loss:  0.8368, Counter: 1: 100%|██████████| 235/235 [00:02<00:00, 108.98it/s]\n"
     ]
    },
    {
     "name": "stdout",
     "output_type": "stream",
     "text": [
      "Validation Loss:  0.8574\n",
      "\n",
      "Epoch 7\n"
     ]
    },
    {
     "name": "stderr",
     "output_type": "stream",
     "text": [
      "T Loss:  1.2905, Avg Loss:  0.8389, Best Loss:  0.8368, Counter: 2: 100%|██████████| 704/704 [00:06<00:00, 111.82it/s]\n"
     ]
    },
    {
     "name": "stdout",
     "output_type": "stream",
     "text": [
      "Train Loss:  0.8389\n"
     ]
    },
    {
     "name": "stderr",
     "output_type": "stream",
     "text": [
      "V Loss:  0.8417, Avg Loss:  0.8411, Best Loss:  0.8368, Counter: 2: 100%|██████████| 235/235 [00:02<00:00, 109.55it/s]\n"
     ]
    },
    {
     "name": "stdout",
     "output_type": "stream",
     "text": [
      "Validation Loss:  0.8411\n",
      "\n",
      "Epoch 8\n"
     ]
    },
    {
     "name": "stderr",
     "output_type": "stream",
     "text": [
      "T Loss:  0.9630, Avg Loss:  0.8362, Best Loss:  0.8368, Counter: 3: 100%|██████████| 704/704 [00:06<00:00, 109.95it/s]\n"
     ]
    },
    {
     "name": "stdout",
     "output_type": "stream",
     "text": [
      "Train Loss:  0.8362\n"
     ]
    },
    {
     "name": "stderr",
     "output_type": "stream",
     "text": [
      "V Loss:  0.8088, Avg Loss:  0.8183, Best Loss:  0.8368, Counter: 3: 100%|██████████| 235/235 [00:02<00:00, 112.61it/s]\n"
     ]
    },
    {
     "name": "stdout",
     "output_type": "stream",
     "text": [
      "Validation Loss:  0.8183\n",
      "\n",
      "Epoch 9\n"
     ]
    },
    {
     "name": "stderr",
     "output_type": "stream",
     "text": [
      "T Loss:  0.6048, Avg Loss:  0.8415, Best Loss:  0.8183, Counter: 0: 100%|██████████| 704/704 [00:06<00:00, 110.99it/s]\n"
     ]
    },
    {
     "name": "stdout",
     "output_type": "stream",
     "text": [
      "Train Loss:  0.8415\n"
     ]
    },
    {
     "name": "stderr",
     "output_type": "stream",
     "text": [
      "V Loss:  0.6912, Avg Loss:  0.8506, Best Loss:  0.8183, Counter: 0: 100%|██████████| 235/235 [00:02<00:00, 109.02it/s]\n"
     ]
    },
    {
     "name": "stdout",
     "output_type": "stream",
     "text": [
      "Validation Loss:  0.8506\n",
      "\n",
      "Epoch 10\n"
     ]
    },
    {
     "name": "stderr",
     "output_type": "stream",
     "text": [
      "T Loss:  1.0435, Avg Loss:  0.8396, Best Loss:  0.8183, Counter: 1: 100%|██████████| 704/704 [00:06<00:00, 108.78it/s]\n"
     ]
    },
    {
     "name": "stdout",
     "output_type": "stream",
     "text": [
      "Train Loss:  0.8396\n"
     ]
    },
    {
     "name": "stderr",
     "output_type": "stream",
     "text": [
      "V Loss:  0.7804, Avg Loss:  0.8585, Best Loss:  0.8183, Counter: 1: 100%|██████████| 235/235 [00:02<00:00, 113.43it/s]\n"
     ]
    },
    {
     "name": "stdout",
     "output_type": "stream",
     "text": [
      "Validation Loss:  0.8585\n",
      "\n",
      "Epoch 11\n"
     ]
    },
    {
     "name": "stderr",
     "output_type": "stream",
     "text": [
      "T Loss:  1.4876, Avg Loss:  0.8402, Best Loss:  0.8183, Counter: 2: 100%|██████████| 704/704 [00:06<00:00, 111.77it/s]\n"
     ]
    },
    {
     "name": "stdout",
     "output_type": "stream",
     "text": [
      "Train Loss:  0.8402\n"
     ]
    },
    {
     "name": "stderr",
     "output_type": "stream",
     "text": [
      "V Loss:  0.6570, Avg Loss:  0.8165, Best Loss:  0.8183, Counter: 2: 100%|██████████| 235/235 [00:02<00:00, 107.87it/s]\n"
     ]
    },
    {
     "name": "stdout",
     "output_type": "stream",
     "text": [
      "Validation Loss:  0.8165\n",
      "\n",
      "Epoch 12\n"
     ]
    },
    {
     "name": "stderr",
     "output_type": "stream",
     "text": [
      "T Loss:  0.6562, Avg Loss:  0.8315, Best Loss:  0.8165, Counter: 0: 100%|██████████| 704/704 [00:06<00:00, 105.51it/s]\n"
     ]
    },
    {
     "name": "stdout",
     "output_type": "stream",
     "text": [
      "Train Loss:  0.8315\n"
     ]
    },
    {
     "name": "stderr",
     "output_type": "stream",
     "text": [
      "V Loss:  1.1478, Avg Loss:  0.8444, Best Loss:  0.8165, Counter: 0: 100%|██████████| 235/235 [00:02<00:00, 112.87it/s]\n"
     ]
    },
    {
     "name": "stdout",
     "output_type": "stream",
     "text": [
      "Validation Loss:  0.8444\n",
      "\n",
      "Epoch 13\n"
     ]
    },
    {
     "name": "stderr",
     "output_type": "stream",
     "text": [
      "T Loss:  1.0691, Avg Loss:  0.8365, Best Loss:  0.8165, Counter: 1: 100%|██████████| 704/704 [00:06<00:00, 112.48it/s]\n"
     ]
    },
    {
     "name": "stdout",
     "output_type": "stream",
     "text": [
      "Train Loss:  0.8365\n"
     ]
    },
    {
     "name": "stderr",
     "output_type": "stream",
     "text": [
      "V Loss:  1.1656, Avg Loss:  0.8165, Best Loss:  0.8165, Counter: 1: 100%|██████████| 235/235 [00:02<00:00, 108.99it/s]\n"
     ]
    },
    {
     "name": "stdout",
     "output_type": "stream",
     "text": [
      "Validation Loss:  0.8165\n",
      "\n",
      "Epoch 14\n"
     ]
    },
    {
     "name": "stderr",
     "output_type": "stream",
     "text": [
      "T Loss:  0.5583, Avg Loss:  0.8337, Best Loss:  0.8165, Counter: 2: 100%|██████████| 704/704 [00:06<00:00, 109.90it/s]\n"
     ]
    },
    {
     "name": "stdout",
     "output_type": "stream",
     "text": [
      "Train Loss:  0.8337\n"
     ]
    },
    {
     "name": "stderr",
     "output_type": "stream",
     "text": [
      "V Loss:  1.0299, Avg Loss:  0.8109, Best Loss:  0.8165, Counter: 2: 100%|██████████| 235/235 [00:01<00:00, 122.51it/s]\n"
     ]
    },
    {
     "name": "stdout",
     "output_type": "stream",
     "text": [
      "Validation Loss:  0.8109\n",
      "\n",
      "Epoch 15\n"
     ]
    },
    {
     "name": "stderr",
     "output_type": "stream",
     "text": [
      "T Loss:  0.6504, Avg Loss:  0.8273, Best Loss:  0.8109, Counter: 0: 100%|██████████| 704/704 [00:06<00:00, 110.30it/s]\n"
     ]
    },
    {
     "name": "stdout",
     "output_type": "stream",
     "text": [
      "Train Loss:  0.8273\n"
     ]
    },
    {
     "name": "stderr",
     "output_type": "stream",
     "text": [
      "V Loss:  1.0382, Avg Loss:  0.8341, Best Loss:  0.8109, Counter: 0: 100%|██████████| 235/235 [00:02<00:00, 108.76it/s]\n"
     ]
    },
    {
     "name": "stdout",
     "output_type": "stream",
     "text": [
      "Validation Loss:  0.8341\n",
      "\n",
      "Epoch 16\n"
     ]
    },
    {
     "name": "stderr",
     "output_type": "stream",
     "text": [
      "T Loss:  0.5509, Avg Loss:  0.8298, Best Loss:  0.8109, Counter: 1: 100%|██████████| 704/704 [00:06<00:00, 107.65it/s]\n"
     ]
    },
    {
     "name": "stdout",
     "output_type": "stream",
     "text": [
      "Train Loss:  0.8298\n"
     ]
    },
    {
     "name": "stderr",
     "output_type": "stream",
     "text": [
      "V Loss:  0.7070, Avg Loss:  0.8569, Best Loss:  0.8109, Counter: 1: 100%|██████████| 235/235 [00:02<00:00, 108.36it/s]\n"
     ]
    },
    {
     "name": "stdout",
     "output_type": "stream",
     "text": [
      "Validation Loss:  0.8569\n",
      "\n",
      "Epoch 17\n"
     ]
    },
    {
     "name": "stderr",
     "output_type": "stream",
     "text": [
      "T Loss:  0.7233, Avg Loss:  0.8297, Best Loss:  0.8109, Counter: 2: 100%|██████████| 704/704 [00:06<00:00, 110.41it/s]\n"
     ]
    },
    {
     "name": "stdout",
     "output_type": "stream",
     "text": [
      "Train Loss:  0.8297\n"
     ]
    },
    {
     "name": "stderr",
     "output_type": "stream",
     "text": [
      "V Loss:  0.8316, Avg Loss:  0.8353, Best Loss:  0.8109, Counter: 2: 100%|██████████| 235/235 [00:02<00:00, 106.79it/s]\n"
     ]
    },
    {
     "name": "stdout",
     "output_type": "stream",
     "text": [
      "Validation Loss:  0.8353\n",
      "\n",
      "Epoch 18\n"
     ]
    },
    {
     "name": "stderr",
     "output_type": "stream",
     "text": [
      "T Loss:  0.8926, Avg Loss:  0.8330, Best Loss:  0.8109, Counter: 3: 100%|██████████| 704/704 [00:06<00:00, 110.14it/s]\n"
     ]
    },
    {
     "name": "stdout",
     "output_type": "stream",
     "text": [
      "Train Loss:  0.8330\n"
     ]
    },
    {
     "name": "stderr",
     "output_type": "stream",
     "text": [
      "V Loss:  1.1273, Avg Loss:  0.8100, Best Loss:  0.8109, Counter: 3: 100%|██████████| 235/235 [00:02<00:00, 112.78it/s]\n"
     ]
    },
    {
     "name": "stdout",
     "output_type": "stream",
     "text": [
      "Validation Loss:  0.8100\n"
     ]
    },
    {
     "name": "stderr",
     "output_type": "stream",
     "text": [
      "T Loss:  0.7303, Avg Loss:  0.7946: 100%|██████████| 119/119 [00:01<00:00, 97.16it/s] \n"
     ]
    },
    {
     "name": "stdout",
     "output_type": "stream",
     "text": [
      "Accuracy:  0.6732\n",
      "[[1359  232  132  177]\n",
      " [ 216 1535   32  117]\n",
      " [ 288   73  973  566]\n",
      " [ 248  135  268 1249]]\n",
      "              precision    recall  f1-score   support\n",
      "\n",
      "           0     0.6438    0.7153    0.6776      1900\n",
      "           1     0.7772    0.8079    0.7923      1900\n",
      "           2     0.6925    0.5121    0.5888      1900\n",
      "           3     0.5922    0.6574    0.6231      1900\n",
      "\n",
      "    accuracy                         0.6732      7600\n",
      "   macro avg     0.6764    0.6732    0.6704      7600\n",
      "weighted avg     0.6764    0.6732    0.6704      7600\n",
      "\n",
      "Test loss: 0.7946344824398265\n",
      "\n",
      "\n",
      "Delta: tensor([[1., 1., 1.]], device='cuda:0')\n",
      "\n",
      "Epoch 1\n"
     ]
    },
    {
     "name": "stderr",
     "output_type": "stream",
     "text": [
      "T Loss:  0.7226, Avg Loss:  1.0826, Best Loss:     inf, Counter: 0: 100%|██████████| 704/704 [00:06<00:00, 109.55it/s]\n"
     ]
    },
    {
     "name": "stdout",
     "output_type": "stream",
     "text": [
      "Train Loss:  1.0826\n"
     ]
    },
    {
     "name": "stderr",
     "output_type": "stream",
     "text": [
      "V Loss:  0.9366, Avg Loss:  0.8589, Best Loss:     inf, Counter: 0: 100%|██████████| 235/235 [00:02<00:00, 106.65it/s]\n"
     ]
    },
    {
     "name": "stdout",
     "output_type": "stream",
     "text": [
      "Validation Loss:  0.8589\n",
      "\n",
      "Epoch 2\n"
     ]
    },
    {
     "name": "stderr",
     "output_type": "stream",
     "text": [
      "T Loss:  0.7548, Avg Loss:  0.7647, Best Loss:  0.8589, Counter: 0: 100%|██████████| 704/704 [00:06<00:00, 105.33it/s]\n"
     ]
    },
    {
     "name": "stdout",
     "output_type": "stream",
     "text": [
      "Train Loss:  0.7647\n"
     ]
    },
    {
     "name": "stderr",
     "output_type": "stream",
     "text": [
      "V Loss:  0.5910, Avg Loss:  0.7092, Best Loss:  0.8589, Counter: 0: 100%|██████████| 235/235 [00:02<00:00, 113.57it/s]\n"
     ]
    },
    {
     "name": "stdout",
     "output_type": "stream",
     "text": [
      "Validation Loss:  0.7092\n",
      "\n",
      "Epoch 3\n"
     ]
    },
    {
     "name": "stderr",
     "output_type": "stream",
     "text": [
      "T Loss:  1.2352, Avg Loss:  0.6839, Best Loss:  0.7092, Counter: 0: 100%|██████████| 704/704 [00:06<00:00, 106.94it/s]\n"
     ]
    },
    {
     "name": "stdout",
     "output_type": "stream",
     "text": [
      "Train Loss:  0.6839\n"
     ]
    },
    {
     "name": "stderr",
     "output_type": "stream",
     "text": [
      "V Loss:  0.4986, Avg Loss:  0.6670, Best Loss:  0.7092, Counter: 0: 100%|██████████| 235/235 [00:02<00:00, 108.59it/s]\n"
     ]
    },
    {
     "name": "stdout",
     "output_type": "stream",
     "text": [
      "Validation Loss:  0.6670\n",
      "\n",
      "Epoch 4\n"
     ]
    },
    {
     "name": "stderr",
     "output_type": "stream",
     "text": [
      "T Loss:  0.5883, Avg Loss:  0.6473, Best Loss:  0.6670, Counter: 0: 100%|██████████| 704/704 [00:06<00:00, 107.71it/s]\n"
     ]
    },
    {
     "name": "stdout",
     "output_type": "stream",
     "text": [
      "Train Loss:  0.6473\n"
     ]
    },
    {
     "name": "stderr",
     "output_type": "stream",
     "text": [
      "V Loss:  0.6097, Avg Loss:  0.6309, Best Loss:  0.6670, Counter: 0: 100%|██████████| 235/235 [00:02<00:00, 112.49it/s]\n"
     ]
    },
    {
     "name": "stdout",
     "output_type": "stream",
     "text": [
      "Validation Loss:  0.6309\n",
      "\n",
      "Epoch 5\n"
     ]
    },
    {
     "name": "stderr",
     "output_type": "stream",
     "text": [
      "T Loss:  0.5833, Avg Loss:  0.6261, Best Loss:  0.6309, Counter: 0: 100%|██████████| 704/704 [00:06<00:00, 106.64it/s]\n"
     ]
    },
    {
     "name": "stdout",
     "output_type": "stream",
     "text": [
      "Train Loss:  0.6261\n"
     ]
    },
    {
     "name": "stderr",
     "output_type": "stream",
     "text": [
      "V Loss:  0.6902, Avg Loss:  0.6242, Best Loss:  0.6309, Counter: 0: 100%|██████████| 235/235 [00:02<00:00, 112.48it/s]\n"
     ]
    },
    {
     "name": "stdout",
     "output_type": "stream",
     "text": [
      "Validation Loss:  0.6242\n",
      "\n",
      "Epoch 6\n"
     ]
    },
    {
     "name": "stderr",
     "output_type": "stream",
     "text": [
      "T Loss:  0.7572, Avg Loss:  0.6128, Best Loss:  0.6242, Counter: 0: 100%|██████████| 704/704 [00:06<00:00, 109.28it/s]\n"
     ]
    },
    {
     "name": "stdout",
     "output_type": "stream",
     "text": [
      "Train Loss:  0.6128\n"
     ]
    },
    {
     "name": "stderr",
     "output_type": "stream",
     "text": [
      "V Loss:  0.5637, Avg Loss:  0.6071, Best Loss:  0.6242, Counter: 0: 100%|██████████| 235/235 [00:01<00:00, 119.42it/s]\n"
     ]
    },
    {
     "name": "stdout",
     "output_type": "stream",
     "text": [
      "Validation Loss:  0.6071\n",
      "\n",
      "Epoch 7\n"
     ]
    },
    {
     "name": "stderr",
     "output_type": "stream",
     "text": [
      "T Loss:  0.5653, Avg Loss:  0.6008, Best Loss:  0.6071, Counter: 0: 100%|██████████| 704/704 [00:06<00:00, 109.83it/s]\n"
     ]
    },
    {
     "name": "stdout",
     "output_type": "stream",
     "text": [
      "Train Loss:  0.6008\n"
     ]
    },
    {
     "name": "stderr",
     "output_type": "stream",
     "text": [
      "V Loss:  0.4938, Avg Loss:  0.6176, Best Loss:  0.6071, Counter: 0: 100%|██████████| 235/235 [00:02<00:00, 108.62it/s]\n"
     ]
    },
    {
     "name": "stdout",
     "output_type": "stream",
     "text": [
      "Validation Loss:  0.6176\n",
      "\n",
      "Epoch 8\n"
     ]
    },
    {
     "name": "stderr",
     "output_type": "stream",
     "text": [
      "T Loss:  0.5625, Avg Loss:  0.5941, Best Loss:  0.6071, Counter: 1: 100%|██████████| 704/704 [00:06<00:00, 110.14it/s]\n"
     ]
    },
    {
     "name": "stdout",
     "output_type": "stream",
     "text": [
      "Train Loss:  0.5941\n"
     ]
    },
    {
     "name": "stderr",
     "output_type": "stream",
     "text": [
      "V Loss:  0.5386, Avg Loss:  0.5888, Best Loss:  0.6071, Counter: 1: 100%|██████████| 235/235 [00:02<00:00, 105.99it/s]\n"
     ]
    },
    {
     "name": "stdout",
     "output_type": "stream",
     "text": [
      "Validation Loss:  0.5888\n",
      "\n",
      "Epoch 9\n"
     ]
    },
    {
     "name": "stderr",
     "output_type": "stream",
     "text": [
      "T Loss:  0.3909, Avg Loss:  0.5862, Best Loss:  0.5888, Counter: 0: 100%|██████████| 704/704 [00:06<00:00, 109.90it/s]\n"
     ]
    },
    {
     "name": "stdout",
     "output_type": "stream",
     "text": [
      "Train Loss:  0.5862\n"
     ]
    },
    {
     "name": "stderr",
     "output_type": "stream",
     "text": [
      "V Loss:  0.5578, Avg Loss:  0.5913, Best Loss:  0.5888, Counter: 0: 100%|██████████| 235/235 [00:02<00:00, 111.40it/s]\n"
     ]
    },
    {
     "name": "stdout",
     "output_type": "stream",
     "text": [
      "Validation Loss:  0.5913\n",
      "\n",
      "Epoch 10\n"
     ]
    },
    {
     "name": "stderr",
     "output_type": "stream",
     "text": [
      "T Loss:  0.3103, Avg Loss:  0.5817, Best Loss:  0.5888, Counter: 1: 100%|██████████| 704/704 [00:06<00:00, 116.77it/s]\n"
     ]
    },
    {
     "name": "stdout",
     "output_type": "stream",
     "text": [
      "Train Loss:  0.5817\n"
     ]
    },
    {
     "name": "stderr",
     "output_type": "stream",
     "text": [
      "V Loss:  0.6361, Avg Loss:  0.5941, Best Loss:  0.5888, Counter: 1: 100%|██████████| 235/235 [00:02<00:00, 110.76it/s]\n"
     ]
    },
    {
     "name": "stdout",
     "output_type": "stream",
     "text": [
      "Validation Loss:  0.5941\n",
      "\n",
      "Epoch 11\n"
     ]
    },
    {
     "name": "stderr",
     "output_type": "stream",
     "text": [
      "T Loss:  1.0211, Avg Loss:  0.5773, Best Loss:  0.5888, Counter: 2: 100%|██████████| 704/704 [00:06<00:00, 107.44it/s]\n"
     ]
    },
    {
     "name": "stdout",
     "output_type": "stream",
     "text": [
      "Train Loss:  0.5773\n"
     ]
    },
    {
     "name": "stderr",
     "output_type": "stream",
     "text": [
      "V Loss:  0.7116, Avg Loss:  0.5770, Best Loss:  0.5888, Counter: 2: 100%|██████████| 235/235 [00:02<00:00, 110.43it/s]\n"
     ]
    },
    {
     "name": "stdout",
     "output_type": "stream",
     "text": [
      "Validation Loss:  0.5770\n",
      "\n",
      "Epoch 12\n"
     ]
    },
    {
     "name": "stderr",
     "output_type": "stream",
     "text": [
      "T Loss:  0.2970, Avg Loss:  0.5747, Best Loss:  0.5770, Counter: 0: 100%|██████████| 704/704 [00:06<00:00, 109.45it/s]\n"
     ]
    },
    {
     "name": "stdout",
     "output_type": "stream",
     "text": [
      "Train Loss:  0.5747\n"
     ]
    },
    {
     "name": "stderr",
     "output_type": "stream",
     "text": [
      "V Loss:  0.7824, Avg Loss:  0.5790, Best Loss:  0.5770, Counter: 0: 100%|██████████| 235/235 [00:02<00:00, 117.40it/s]\n"
     ]
    },
    {
     "name": "stdout",
     "output_type": "stream",
     "text": [
      "Validation Loss:  0.5790\n",
      "\n",
      "Epoch 13\n"
     ]
    },
    {
     "name": "stderr",
     "output_type": "stream",
     "text": [
      "T Loss:  0.1304, Avg Loss:  0.5677, Best Loss:  0.5770, Counter: 1: 100%|██████████| 704/704 [00:06<00:00, 112.52it/s]\n"
     ]
    },
    {
     "name": "stdout",
     "output_type": "stream",
     "text": [
      "Train Loss:  0.5677\n"
     ]
    },
    {
     "name": "stderr",
     "output_type": "stream",
     "text": [
      "V Loss:  0.8232, Avg Loss:  0.5731, Best Loss:  0.5770, Counter: 1: 100%|██████████| 235/235 [00:02<00:00, 106.13it/s]\n"
     ]
    },
    {
     "name": "stdout",
     "output_type": "stream",
     "text": [
      "Validation Loss:  0.5731\n",
      "\n",
      "Epoch 14\n"
     ]
    },
    {
     "name": "stderr",
     "output_type": "stream",
     "text": [
      "T Loss:  0.9528, Avg Loss:  0.5667, Best Loss:  0.5731, Counter: 0: 100%|██████████| 704/704 [00:06<00:00, 106.13it/s]\n"
     ]
    },
    {
     "name": "stdout",
     "output_type": "stream",
     "text": [
      "Train Loss:  0.5667\n"
     ]
    },
    {
     "name": "stderr",
     "output_type": "stream",
     "text": [
      "V Loss:  0.4070, Avg Loss:  0.5874, Best Loss:  0.5731, Counter: 0: 100%|██████████| 235/235 [00:02<00:00, 116.88it/s]\n"
     ]
    },
    {
     "name": "stdout",
     "output_type": "stream",
     "text": [
      "Validation Loss:  0.5874\n",
      "\n",
      "Epoch 15\n"
     ]
    },
    {
     "name": "stderr",
     "output_type": "stream",
     "text": [
      "T Loss:  0.3646, Avg Loss:  0.5643, Best Loss:  0.5731, Counter: 1: 100%|██████████| 704/704 [00:06<00:00, 109.80it/s]\n"
     ]
    },
    {
     "name": "stdout",
     "output_type": "stream",
     "text": [
      "Train Loss:  0.5643\n"
     ]
    },
    {
     "name": "stderr",
     "output_type": "stream",
     "text": [
      "V Loss:  0.8712, Avg Loss:  0.5991, Best Loss:  0.5731, Counter: 1: 100%|██████████| 235/235 [00:02<00:00, 109.92it/s]\n"
     ]
    },
    {
     "name": "stdout",
     "output_type": "stream",
     "text": [
      "Validation Loss:  0.5991\n",
      "\n",
      "Epoch 16\n"
     ]
    },
    {
     "name": "stderr",
     "output_type": "stream",
     "text": [
      "T Loss:  0.4977, Avg Loss:  0.5614, Best Loss:  0.5731, Counter: 2: 100%|██████████| 704/704 [00:06<00:00, 111.95it/s]\n"
     ]
    },
    {
     "name": "stdout",
     "output_type": "stream",
     "text": [
      "Train Loss:  0.5614\n"
     ]
    },
    {
     "name": "stderr",
     "output_type": "stream",
     "text": [
      "V Loss:  0.4972, Avg Loss:  0.5648, Best Loss:  0.5731, Counter: 2: 100%|██████████| 235/235 [00:02<00:00, 107.74it/s]\n"
     ]
    },
    {
     "name": "stdout",
     "output_type": "stream",
     "text": [
      "Validation Loss:  0.5648\n",
      "\n",
      "Epoch 17\n"
     ]
    },
    {
     "name": "stderr",
     "output_type": "stream",
     "text": [
      "T Loss:  0.2774, Avg Loss:  0.5599, Best Loss:  0.5648, Counter: 0: 100%|██████████| 704/704 [00:06<00:00, 112.16it/s]\n"
     ]
    },
    {
     "name": "stdout",
     "output_type": "stream",
     "text": [
      "Train Loss:  0.5599\n"
     ]
    },
    {
     "name": "stderr",
     "output_type": "stream",
     "text": [
      "V Loss:  0.4819, Avg Loss:  0.5696, Best Loss:  0.5648, Counter: 0: 100%|██████████| 235/235 [00:02<00:00, 107.66it/s]\n"
     ]
    },
    {
     "name": "stdout",
     "output_type": "stream",
     "text": [
      "Validation Loss:  0.5696\n",
      "\n",
      "Epoch 18\n"
     ]
    },
    {
     "name": "stderr",
     "output_type": "stream",
     "text": [
      "T Loss:  1.1200, Avg Loss:  0.5580, Best Loss:  0.5648, Counter: 1: 100%|██████████| 704/704 [00:06<00:00, 114.38it/s]\n"
     ]
    },
    {
     "name": "stdout",
     "output_type": "stream",
     "text": [
      "Train Loss:  0.5580\n"
     ]
    },
    {
     "name": "stderr",
     "output_type": "stream",
     "text": [
      "V Loss:  0.4582, Avg Loss:  0.5579, Best Loss:  0.5648, Counter: 1: 100%|██████████| 235/235 [00:02<00:00, 109.25it/s]\n"
     ]
    },
    {
     "name": "stdout",
     "output_type": "stream",
     "text": [
      "Validation Loss:  0.5579\n",
      "\n",
      "Epoch 19\n"
     ]
    },
    {
     "name": "stderr",
     "output_type": "stream",
     "text": [
      "T Loss:  0.9004, Avg Loss:  0.5556, Best Loss:  0.5579, Counter: 0: 100%|██████████| 704/704 [00:06<00:00, 107.09it/s]\n"
     ]
    },
    {
     "name": "stdout",
     "output_type": "stream",
     "text": [
      "Train Loss:  0.5556\n"
     ]
    },
    {
     "name": "stderr",
     "output_type": "stream",
     "text": [
      "V Loss:  0.5306, Avg Loss:  0.5649, Best Loss:  0.5579, Counter: 0: 100%|██████████| 235/235 [00:02<00:00, 108.58it/s]\n"
     ]
    },
    {
     "name": "stdout",
     "output_type": "stream",
     "text": [
      "Validation Loss:  0.5649\n",
      "\n",
      "Epoch 20\n"
     ]
    },
    {
     "name": "stderr",
     "output_type": "stream",
     "text": [
      "T Loss:  0.4219, Avg Loss:  0.5543, Best Loss:  0.5579, Counter: 1: 100%|██████████| 704/704 [00:06<00:00, 108.84it/s]\n"
     ]
    },
    {
     "name": "stdout",
     "output_type": "stream",
     "text": [
      "Train Loss:  0.5543\n"
     ]
    },
    {
     "name": "stderr",
     "output_type": "stream",
     "text": [
      "V Loss:  0.4129, Avg Loss:  0.5527, Best Loss:  0.5579, Counter: 1: 100%|██████████| 235/235 [00:02<00:00, 108.76it/s]\n"
     ]
    },
    {
     "name": "stdout",
     "output_type": "stream",
     "text": [
      "Validation Loss:  0.5527\n",
      "\n",
      "Epoch 21\n"
     ]
    },
    {
     "name": "stderr",
     "output_type": "stream",
     "text": [
      "T Loss:  0.3750, Avg Loss:  0.5533, Best Loss:  0.5527, Counter: 0: 100%|██████████| 704/704 [00:06<00:00, 106.31it/s]\n"
     ]
    },
    {
     "name": "stdout",
     "output_type": "stream",
     "text": [
      "Train Loss:  0.5533\n"
     ]
    },
    {
     "name": "stderr",
     "output_type": "stream",
     "text": [
      "V Loss:  0.9548, Avg Loss:  0.5575, Best Loss:  0.5527, Counter: 0: 100%|██████████| 235/235 [00:02<00:00, 109.93it/s]\n"
     ]
    },
    {
     "name": "stdout",
     "output_type": "stream",
     "text": [
      "Validation Loss:  0.5575\n",
      "\n",
      "Epoch 22\n"
     ]
    },
    {
     "name": "stderr",
     "output_type": "stream",
     "text": [
      "T Loss:  0.5509, Avg Loss:  0.5512, Best Loss:  0.5527, Counter: 1: 100%|██████████| 704/704 [00:06<00:00, 105.66it/s]\n"
     ]
    },
    {
     "name": "stdout",
     "output_type": "stream",
     "text": [
      "Train Loss:  0.5512\n"
     ]
    },
    {
     "name": "stderr",
     "output_type": "stream",
     "text": [
      "V Loss:  0.6166, Avg Loss:  0.5665, Best Loss:  0.5527, Counter: 1: 100%|██████████| 235/235 [00:02<00:00, 108.29it/s]\n"
     ]
    },
    {
     "name": "stdout",
     "output_type": "stream",
     "text": [
      "Validation Loss:  0.5665\n",
      "\n",
      "Epoch 23\n"
     ]
    },
    {
     "name": "stderr",
     "output_type": "stream",
     "text": [
      "T Loss:  0.3722, Avg Loss:  0.5515, Best Loss:  0.5527, Counter: 2: 100%|██████████| 704/704 [00:06<00:00, 110.06it/s]\n"
     ]
    },
    {
     "name": "stdout",
     "output_type": "stream",
     "text": [
      "Train Loss:  0.5515\n"
     ]
    },
    {
     "name": "stderr",
     "output_type": "stream",
     "text": [
      "V Loss:  0.2746, Avg Loss:  0.5612, Best Loss:  0.5527, Counter: 2: 100%|██████████| 235/235 [00:02<00:00, 112.01it/s]\n"
     ]
    },
    {
     "name": "stdout",
     "output_type": "stream",
     "text": [
      "Validation Loss:  0.5612\n",
      "\n",
      "Epoch 24\n"
     ]
    },
    {
     "name": "stderr",
     "output_type": "stream",
     "text": [
      "T Loss:  0.3955, Avg Loss:  0.5471, Best Loss:  0.5527, Counter: 3: 100%|██████████| 704/704 [00:06<00:00, 112.74it/s]\n"
     ]
    },
    {
     "name": "stdout",
     "output_type": "stream",
     "text": [
      "Train Loss:  0.5471\n"
     ]
    },
    {
     "name": "stderr",
     "output_type": "stream",
     "text": [
      "V Loss:  0.4170, Avg Loss:  0.5544, Best Loss:  0.5527, Counter: 3: 100%|██████████| 235/235 [00:02<00:00, 109.27it/s]\n"
     ]
    },
    {
     "name": "stdout",
     "output_type": "stream",
     "text": [
      "Validation Loss:  0.5544\n"
     ]
    },
    {
     "name": "stderr",
     "output_type": "stream",
     "text": [
      "T Loss:  0.5831, Avg Loss:  0.5560: 100%|██████████| 119/119 [00:01<00:00, 94.85it/s] \n"
     ]
    },
    {
     "name": "stdout",
     "output_type": "stream",
     "text": [
      "Accuracy:  0.7953\n",
      "[[1574  126  125   75]\n",
      " [ 103 1705   42   50]\n",
      " [ 131   55 1459  255]\n",
      " [ 180   90  324 1306]]\n",
      "              precision    recall  f1-score   support\n",
      "\n",
      "           0     0.7918    0.8284    0.8097      1900\n",
      "           1     0.8629    0.8974    0.8798      1900\n",
      "           2     0.7482    0.7679    0.7579      1900\n",
      "           3     0.7746    0.6874    0.7284      1900\n",
      "\n",
      "    accuracy                         0.7953      7600\n",
      "   macro avg     0.7944    0.7953    0.7939      7600\n",
      "weighted avg     0.7944    0.7953    0.7939      7600\n",
      "\n",
      "Test loss: 0.5559738839373869\n"
     ]
    }
   ],
   "source": [
    "delta = [None, [3, 0, 0], [1, 2, 3], [0, 0, 3], [1, 1, 1]] \n",
    "for i in range(1, len(delta)):\n",
    "    delta[i] = torch.tensor(delta[i], dtype=torch.float32).reshape(1, -1).to(DEVICE)\n",
    "    print(delta[i])\n",
    "    print(delta[i].shape)\n",
    "\n",
    "for d in delta:\n",
    "    dmodel = DownStream(elmo, cfg['dropout'], d).to(DEVICE)\n",
    "    doptimizer = getattr(torch.optim, cfg['optimizer'])(dmodel.parameters(), lr=cfg['learning_rate'])\n",
    "    print(f'\\n\\nDelta: {d}')\n",
    "    downstream_train_fn(cfg['epochs'], dmodel, downstream_training_dataloader, downstream_validation_dataloader, dloss_fn, doptimizer)\n",
    "    dmodel.load_state_dict(torch.load(os.path.join(DIR, 'downstream_best_model.pth')))\n",
    "    with torch.no_grad():\n",
    "        loss = downstream_test_metrics(dmodel, downstream_test_dataloader, dloss_fn)\n",
    "        # calculate accuracy and f1 score\n",
    "        \n",
    "        print(f'Test loss: {loss}')"
   ]
  },
  {
   "cell_type": "code",
   "execution_count": 2,
   "metadata": {},
   "outputs": [],
   "source": [
    "import torch\n",
    "from torch import nn\n",
    "from torch.nn.utils.rnn import pack_padded_sequence, pad_packed_sequence\n",
    "\n",
    "class CharCNNELMO(nn.Module):\n",
    "    def __init__(self, Emb, hidden_dim, dropout, num_layers):\n",
    "        super().__init__()\n",
    "\n",
    "        self.hidden_dim = hidden_dim\n",
    "        self.num_layers = num_layers\n",
    "\n",
    "        self.char_embedding = nn.Embedding.from_pretrained(torch.FloatTensor(Emb.vectors), padding_idx=Emb.key_to_index['<pad>'], freeze=False)\n",
    "\n",
    "        self.conv1 = nn.Conv1d(Emb.vectors.shape[1], hidden_dim, kernel_size=3)\n",
    "\n",
    "        self.lstm = nn.LSTM(Emb.vectors.shape[1], hidden_dim, batch_first=True, bidirectional=True, num_layers=num_layers, dropout=dropout)\n",
    "\n",
    "    def forward(self, X, X_lengths):\n",
    "        X = self.char_embedding(X)\n",
    "        X = pack_padded_sequence(X, X_lengths, batch_first=True, enforce_sorted=False)\n",
    "        X, (h_n, c_n) = self.lstm(X, None)\n",
    "        X, _ = pad_packed_sequence(X, batch_first=True)\n",
    "        return X, h_n, c_n"
   ]
  },
  {
   "cell_type": "code",
   "execution_count": null,
   "metadata": {},
   "outputs": [],
   "source": [
    "# creat co"
   ]
  }
 ],
 "metadata": {
  "kernelspec": {
   "display_name": "main",
   "language": "python",
   "name": "python3"
  },
  "language_info": {
   "codemirror_mode": {
    "name": "ipython",
    "version": 3
   },
   "file_extension": ".py",
   "mimetype": "text/x-python",
   "name": "python",
   "nbconvert_exporter": "python",
   "pygments_lexer": "ipython3",
   "version": "3.11.4"
  },
  "orig_nbformat": 4
 },
 "nbformat": 4,
 "nbformat_minor": 2
}
