{
 "cells": [
  {
   "cell_type": "code",
   "execution_count": 1,
   "metadata": {},
   "outputs": [],
   "source": [
    "from config import config as cfg\n",
    "from preprocess import *\n",
    "import numpy as np\n",
    "import wandb\n",
    "import torch\n",
    "import pandas as pd\n",
    "import os"
   ]
  },
  {
   "cell_type": "code",
   "execution_count": 2,
   "metadata": {},
   "outputs": [
    {
     "name": "stdout",
     "output_type": "stream",
     "text": [
      "cuda\n"
     ]
    }
   ],
   "source": [
    "if torch.cuda.is_available():\n",
    "    DEVICE = torch.device('cuda')\n",
    "else:\n",
    "    DEVICE = torch.device('cpu')\n",
    "print(DEVICE)"
   ]
  },
  {
   "cell_type": "code",
   "execution_count": 3,
   "metadata": {},
   "outputs": [],
   "source": [
    "DEV_TRAIN_LEN = cfg['parameters']['dev_train_len']['value']\n",
    "DEV_VALIDATION_LEN = cfg['parameters']['dev_validation_len']['value']\n",
    "\n",
    "DIR = '/scratch/shu7bh/RES/PRE'"
   ]
  },
  {
   "cell_type": "code",
   "execution_count": 4,
   "metadata": {},
   "outputs": [],
   "source": [
    "import os\n",
    "if not os.path.exists(DIR):\n",
    "    os.makedirs(DIR)"
   ]
  },
  {
   "cell_type": "code",
   "execution_count": 5,
   "metadata": {},
   "outputs": [
    {
     "name": "stdout",
     "output_type": "stream",
     "text": [
      "5000\n",
      "1000\n"
     ]
    }
   ],
   "source": [
    "print(DEV_TRAIN_LEN)\n",
    "print(DEV_VALIDATION_LEN)"
   ]
  },
  {
   "cell_type": "code",
   "execution_count": 6,
   "metadata": {},
   "outputs": [],
   "source": [
    "df = pd.read_csv('data/train.csv')\n",
    "df = df.sample(frac=1, random_state=0).reset_index(drop=True)\n",
    "df['Description'] = df['Description'].apply(tokenize_corpus)\n",
    "df['Description'] = df['Description'].apply(get_word_tokenized_corpus)"
   ]
  },
  {
   "cell_type": "code",
   "execution_count": 7,
   "metadata": {},
   "outputs": [],
   "source": [
    "dev_train = df[:DEV_TRAIN_LEN]['Description']\n",
    "dev_validation = df[DEV_TRAIN_LEN:DEV_TRAIN_LEN + DEV_VALIDATION_LEN]['Description']"
   ]
  },
  {
   "cell_type": "code",
   "execution_count": 8,
   "metadata": {},
   "outputs": [
    {
     "data": {
      "text/plain": [
       "5000    [video, game, publisher, electronic, arts, on,...\n",
       "5001    [by, amanda, gardner, ,, healthday, reporter, ...\n",
       "5002    [percival, became, the, tigers, 39, ;, new, cl...\n",
       "5003    [it, 's, getting, harder, to, shrink, chips, ,...\n",
       "5004    [canadian, press, halifax, cp, they, have, bec...\n",
       "                              ...                        \n",
       "5995    [massive, database, holds, info, on, millions,...\n",
       "5996    [supreme, court, justices, on, tuesday, uncork...\n",
       "5997    [the, yankees, should, soon, clinch, their, se...\n",
       "5998    [the, un, nuclear, agency, agreed, yesterday, ...\n",
       "5999    [ap, how, do, you, explain, a, quarterback, sn...\n",
       "Name: Description, Length: 1000, dtype: object"
      ]
     },
     "execution_count": 8,
     "metadata": {},
     "output_type": "execute_result"
    }
   ],
   "source": [
    "dev_validation"
   ]
  },
  {
   "cell_type": "code",
   "execution_count": 9,
   "metadata": {},
   "outputs": [],
   "source": [
    "from torch.nn.utils.rnn import pad_sequence\n",
    "from torch.utils.data import DataLoader\n",
    "from dataset import SentencesDataset\n",
    "from elmo import ELMO\n",
    "from torch import nn"
   ]
  },
  {
   "cell_type": "code",
   "execution_count": 10,
   "metadata": {},
   "outputs": [],
   "source": [
    "class Collator:\n",
    "    def __init__(self, Emb):\n",
    "        self.pad_index = Emb.key_to_index['<pad>']\n",
    "\n",
    "    def __call__(self, batch):\n",
    "        X, X_lengths = zip(*batch)\n",
    "        X = pad_sequence(X, batch_first=True, padding_value=self.pad_index)\n",
    "        return X[:, :-1], X[:, 1:], torch.stack(X_lengths) - 1"
   ]
  },
  {
   "cell_type": "code",
   "execution_count": 11,
   "metadata": {},
   "outputs": [],
   "source": [
    "import tqdm\n",
    "\n",
    "def fit(model, dataloader, train, es, loss_fn, optimizer):\n",
    "    model.train() if train else model.eval()\n",
    "    epoch_loss = []\n",
    "\n",
    "    pbar = tqdm.tqdm(dataloader)\n",
    "\n",
    "    for X, Y, X_lengths in pbar:\n",
    "        X = X.to(DEVICE)\n",
    "        Y = Y.to(DEVICE)\n",
    "\n",
    "        Y_pred = model(X, X_lengths)\n",
    "        Y_pred = Y_pred.reshape(-1, Y_pred.shape[2])\n",
    "\n",
    "        Y = Y.reshape(-1)\n",
    "\n",
    "        loss = loss_fn(Y_pred, Y)\n",
    "        epoch_loss.append(loss.item())\n",
    "\n",
    "        X.detach()\n",
    "        Y_pred.detach()\n",
    "        Y.detach()\n",
    "\n",
    "        if train:\n",
    "            optimizer.zero_grad()\n",
    "            loss.backward()\n",
    "            optimizer.step()\n",
    "\n",
    "        pbar.set_description(f'{\"T\" if train else \"V\"} Loss: {loss.item():7.4f}, Avg Loss: {np.mean(epoch_loss):7.4f}, Best Loss: {es.best_loss:7.4f}, Counter: {es.counter}')\n",
    "\n",
    "    return np.mean(epoch_loss)"
   ]
  },
  {
   "cell_type": "code",
   "execution_count": 12,
   "metadata": {},
   "outputs": [],
   "source": [
    "import EarlyStopping as ES\n",
    "\n",
    "def train(EPOCHS, elmo, training_dataloader, validation_dataloader, loss_fn, optimizer):\n",
    "    es = ES.EarlyStopping(patience=2, delta=0.01)\n",
    "\n",
    "    for epoch in range(EPOCHS):\n",
    "        print(f'\\nEpoch {epoch+1}')\n",
    "\n",
    "        epoch_loss = fit(elmo, training_dataloader, True, es, loss_fn, optimizer)\n",
    "        wandb.log({'train_loss': epoch_loss})\n",
    "\n",
    "        with torch.no_grad():\n",
    "            epoch_loss = fit(elmo, validation_dataloader, False, es, loss_fn, optimizer)\n",
    "            wandb.log({'validation_loss': epoch_loss})\n",
    "            if es(epoch_loss, epoch):\n",
    "                break\n",
    "            if es.counter == 0:\n",
    "                torch.save(elmo.state_dict(), os.path.join(DIR, f'best_model.pth'))\n",
    "    \n",
    "        # torch.save(elmo.state_dict(), os.path.join(DIR, f'elmo_{epoch + 1}.pth'))\n",
    "\n",
    "    wandb.log({'loss': es.best_loss})\n",
    "    # os.rename(os.path.join(DIR, f'elmo_{es.best_model_pth + 1}.pth'), os.path.join(DIR, 'best_model.pth'))\n",
    "\n",
    "    best_model = wandb.Artifact(f'best_model_{wandb.run.id}', type='model')\n",
    "    best_model.add_file(os.path.join(DIR, 'best_model.pth'))\n",
    "    wandb.run.log_artifact(best_model)\n",
    "    # wandb.save(os.path.join(DIR, 'best_model.pth'))"
   ]
  },
  {
   "cell_type": "code",
   "execution_count": 13,
   "metadata": {},
   "outputs": [
    {
     "name": "stderr",
     "output_type": "stream",
     "text": [
      "Failed to detect the name of this notebook, you can set it manually with the WANDB_NOTEBOOK_NAME environment variable to enable code saving.\n"
     ]
    },
    {
     "name": "stdout",
     "output_type": "stream",
     "text": [
      "Create sweep with ID: vtpegz9o\n",
      "Sweep URL: https://wandb.ai/shu7bh/ELMO/sweeps/vtpegz9o\n"
     ]
    },
    {
     "name": "stderr",
     "output_type": "stream",
     "text": [
      "\u001b[34m\u001b[1mwandb\u001b[0m: Agent Starting Run: q9tp7d56 with config:\n",
      "\u001b[34m\u001b[1mwandb\u001b[0m: \tdev_train_len: 5000\n",
      "\u001b[34m\u001b[1mwandb\u001b[0m: \tdev_validation_len: 1000\n",
      "\u001b[34m\u001b[1mwandb\u001b[0m: \tdropout: 0\n",
      "\u001b[34m\u001b[1mwandb\u001b[0m: \tembedding_dim: 50\n",
      "\u001b[34m\u001b[1mwandb\u001b[0m: \tepochs: 100\n",
      "\u001b[34m\u001b[1mwandb\u001b[0m: \thidden_dim: 100\n",
      "\u001b[34m\u001b[1mwandb\u001b[0m: \tlearning_rate: 0.001\n",
      "\u001b[34m\u001b[1mwandb\u001b[0m: \tnum_layers: 2\n",
      "\u001b[34m\u001b[1mwandb\u001b[0m: \toptimizer: Adam\n",
      "Failed to detect the name of this notebook, you can set it manually with the WANDB_NOTEBOOK_NAME environment variable to enable code saving.\n",
      "\u001b[34m\u001b[1mwandb\u001b[0m: Currently logged in as: \u001b[33mshu7bh\u001b[0m. Use \u001b[1m`wandb login --relogin`\u001b[0m to force relogin\n"
     ]
    },
    {
     "data": {
      "text/html": [
       "wandb version 0.15.10 is available!  To upgrade, please run:\n",
       " $ pip install wandb --upgrade"
      ],
      "text/plain": [
       "<IPython.core.display.HTML object>"
      ]
     },
     "metadata": {},
     "output_type": "display_data"
    },
    {
     "data": {
      "text/html": [
       "Tracking run with wandb version 0.15.9"
      ],
      "text/plain": [
       "<IPython.core.display.HTML object>"
      ]
     },
     "metadata": {},
     "output_type": "display_data"
    },
    {
     "data": {
      "text/html": [
       "Run data is saved locally in <code>/home2/shu7bh/Courses/ANLP/Assignments/2/wandb/run-20230914_214626-q9tp7d56</code>"
      ],
      "text/plain": [
       "<IPython.core.display.HTML object>"
      ]
     },
     "metadata": {},
     "output_type": "display_data"
    },
    {
     "data": {
      "text/html": [
       "Syncing run <strong><a href='https://wandb.ai/shu7bh/ELMO/runs/q9tp7d56' target=\"_blank\">dutiful-sweep-1</a></strong> to <a href='https://wandb.ai/shu7bh/ELMO' target=\"_blank\">Weights & Biases</a> (<a href='https://wandb.me/run' target=\"_blank\">docs</a>)<br/>Sweep page: <a href='https://wandb.ai/shu7bh/ELMO/sweeps/vtpegz9o' target=\"_blank\">https://wandb.ai/shu7bh/ELMO/sweeps/vtpegz9o</a>"
      ],
      "text/plain": [
       "<IPython.core.display.HTML object>"
      ]
     },
     "metadata": {},
     "output_type": "display_data"
    },
    {
     "data": {
      "text/html": [
       " View project at <a href='https://wandb.ai/shu7bh/ELMO' target=\"_blank\">https://wandb.ai/shu7bh/ELMO</a>"
      ],
      "text/plain": [
       "<IPython.core.display.HTML object>"
      ]
     },
     "metadata": {},
     "output_type": "display_data"
    },
    {
     "data": {
      "text/html": [
       " View sweep at <a href='https://wandb.ai/shu7bh/ELMO/sweeps/vtpegz9o' target=\"_blank\">https://wandb.ai/shu7bh/ELMO/sweeps/vtpegz9o</a>"
      ],
      "text/plain": [
       "<IPython.core.display.HTML object>"
      ]
     },
     "metadata": {},
     "output_type": "display_data"
    },
    {
     "data": {
      "text/html": [
       " View run at <a href='https://wandb.ai/shu7bh/ELMO/runs/q9tp7d56' target=\"_blank\">https://wandb.ai/shu7bh/ELMO/runs/q9tp7d56</a>"
      ],
      "text/plain": [
       "<IPython.core.display.HTML object>"
      ]
     },
     "metadata": {},
     "output_type": "display_data"
    },
    {
     "name": "stdout",
     "output_type": "stream",
     "text": [
      "\n",
      "Epoch 1\n"
     ]
    },
    {
     "name": "stderr",
     "output_type": "stream",
     "text": [
      "T Loss:  6.7581, Avg Loss:  7.4066, Best Loss:     inf, Counter: 0: 100%|██████████| 313/313 [00:07<00:00, 39.36it/s]\n",
      "V Loss:  6.9564, Avg Loss:  7.0115, Best Loss:     inf, Counter: 0: 100%|██████████| 63/63 [00:00<00:00, 68.21it/s]\n"
     ]
    },
    {
     "name": "stdout",
     "output_type": "stream",
     "text": [
      "\n",
      "Epoch 2\n"
     ]
    },
    {
     "name": "stderr",
     "output_type": "stream",
     "text": [
      "T Loss:  5.7395, Avg Loss:  6.2551, Best Loss:  7.0115, Counter: 0: 100%|██████████| 313/313 [00:07<00:00, 41.37it/s]\n",
      "V Loss:  5.9191, Avg Loss:  5.9212, Best Loss:  7.0115, Counter: 0: 100%|██████████| 63/63 [00:01<00:00, 60.68it/s]\n"
     ]
    },
    {
     "name": "stdout",
     "output_type": "stream",
     "text": [
      "\n",
      "Epoch 3\n"
     ]
    },
    {
     "name": "stderr",
     "output_type": "stream",
     "text": [
      "T Loss:  5.1992, Avg Loss:  5.2450, Best Loss:  5.9212, Counter: 0: 100%|██████████| 313/313 [00:07<00:00, 41.78it/s]\n",
      "V Loss:  5.0033, Avg Loss:  5.0460, Best Loss:  5.9212, Counter: 0: 100%|██████████| 63/63 [00:00<00:00, 68.50it/s]\n"
     ]
    },
    {
     "name": "stdout",
     "output_type": "stream",
     "text": [
      "\n",
      "Epoch 4\n"
     ]
    },
    {
     "name": "stderr",
     "output_type": "stream",
     "text": [
      "T Loss:  4.2835, Avg Loss:  4.3918, Best Loss:  5.0460, Counter: 0: 100%|██████████| 313/313 [00:07<00:00, 41.88it/s]\n",
      "V Loss:  4.7000, Avg Loss:  4.3501, Best Loss:  5.0460, Counter: 0: 100%|██████████| 63/63 [00:00<00:00, 67.05it/s]\n"
     ]
    },
    {
     "name": "stdout",
     "output_type": "stream",
     "text": [
      "\n",
      "Epoch 5\n"
     ]
    },
    {
     "name": "stderr",
     "output_type": "stream",
     "text": [
      "T Loss:  3.6056, Avg Loss:  3.6868, Best Loss:  4.3501, Counter: 0: 100%|██████████| 313/313 [00:07<00:00, 41.51it/s]\n",
      "V Loss:  4.3410, Avg Loss:  3.8124, Best Loss:  4.3501, Counter: 0: 100%|██████████| 63/63 [00:00<00:00, 67.82it/s]\n"
     ]
    },
    {
     "name": "stdout",
     "output_type": "stream",
     "text": [
      "\n",
      "Epoch 6\n"
     ]
    },
    {
     "name": "stderr",
     "output_type": "stream",
     "text": [
      "T Loss:  3.0700, Avg Loss:  3.1155, Best Loss:  3.8124, Counter: 0: 100%|██████████| 313/313 [00:07<00:00, 40.98it/s]\n",
      "V Loss:  3.2996, Avg Loss:  3.3724, Best Loss:  3.8124, Counter: 0: 100%|██████████| 63/63 [00:00<00:00, 65.76it/s]\n"
     ]
    },
    {
     "name": "stdout",
     "output_type": "stream",
     "text": [
      "\n",
      "Epoch 7\n"
     ]
    },
    {
     "name": "stderr",
     "output_type": "stream",
     "text": [
      "T Loss:  2.5856, Avg Loss:  2.6525, Best Loss:  3.3724, Counter: 0: 100%|██████████| 313/313 [00:07<00:00, 41.90it/s]\n",
      "V Loss:  2.9962, Avg Loss:  3.0383, Best Loss:  3.3724, Counter: 0: 100%|██████████| 63/63 [00:00<00:00, 64.67it/s]\n"
     ]
    },
    {
     "name": "stdout",
     "output_type": "stream",
     "text": [
      "\n",
      "Epoch 8\n"
     ]
    },
    {
     "name": "stderr",
     "output_type": "stream",
     "text": [
      "T Loss:  1.9532, Avg Loss:  2.2590, Best Loss:  3.0383, Counter: 0: 100%|██████████| 313/313 [00:07<00:00, 41.49it/s]\n",
      "V Loss:  2.8662, Avg Loss:  2.7613, Best Loss:  3.0383, Counter: 0: 100%|██████████| 63/63 [00:00<00:00, 65.59it/s]\n"
     ]
    },
    {
     "name": "stdout",
     "output_type": "stream",
     "text": [
      "\n",
      "Epoch 9\n"
     ]
    },
    {
     "name": "stderr",
     "output_type": "stream",
     "text": [
      "T Loss:  1.8429, Avg Loss:  1.9211, Best Loss:  2.7613, Counter: 0: 100%|██████████| 313/313 [00:07<00:00, 41.78it/s]\n",
      "V Loss:  2.4534, Avg Loss:  2.5285, Best Loss:  2.7613, Counter: 0: 100%|██████████| 63/63 [00:00<00:00, 69.95it/s] \n"
     ]
    },
    {
     "name": "stdout",
     "output_type": "stream",
     "text": [
      "\n",
      "Epoch 10\n"
     ]
    },
    {
     "name": "stderr",
     "output_type": "stream",
     "text": [
      "T Loss:  1.6146, Avg Loss:  1.6253, Best Loss:  2.5285, Counter: 0: 100%|██████████| 313/313 [00:07<00:00, 42.14it/s]\n",
      "V Loss:  2.4612, Avg Loss:  2.3457, Best Loss:  2.5285, Counter: 0: 100%|██████████| 63/63 [00:00<00:00, 70.93it/s]\n"
     ]
    },
    {
     "name": "stdout",
     "output_type": "stream",
     "text": [
      "\n",
      "Epoch 11\n"
     ]
    },
    {
     "name": "stderr",
     "output_type": "stream",
     "text": [
      "T Loss:  1.4413, Avg Loss:  1.3690, Best Loss:  2.3457, Counter: 0: 100%|██████████| 313/313 [00:07<00:00, 41.76it/s]\n",
      "V Loss:  3.1584, Avg Loss:  2.1916, Best Loss:  2.3457, Counter: 0: 100%|██████████| 63/63 [00:00<00:00, 64.86it/s]\n"
     ]
    },
    {
     "name": "stdout",
     "output_type": "stream",
     "text": [
      "\n",
      "Epoch 12\n"
     ]
    },
    {
     "name": "stderr",
     "output_type": "stream",
     "text": [
      "T Loss:  1.1570, Avg Loss:  1.1463, Best Loss:  2.1916, Counter: 0: 100%|██████████| 313/313 [00:07<00:00, 41.17it/s]\n",
      "V Loss:  2.1242, Avg Loss:  2.0472, Best Loss:  2.1916, Counter: 0: 100%|██████████| 63/63 [00:00<00:00, 68.52it/s]\n"
     ]
    },
    {
     "name": "stdout",
     "output_type": "stream",
     "text": [
      "\n",
      "Epoch 13\n"
     ]
    },
    {
     "name": "stderr",
     "output_type": "stream",
     "text": [
      "T Loss:  0.9717, Avg Loss:  0.9520, Best Loss:  2.0472, Counter: 0: 100%|██████████| 313/313 [00:07<00:00, 41.28it/s]\n",
      "V Loss:  1.4896, Avg Loss:  1.9357, Best Loss:  2.0472, Counter: 0: 100%|██████████| 63/63 [00:00<00:00, 68.28it/s]\n"
     ]
    },
    {
     "name": "stdout",
     "output_type": "stream",
     "text": [
      "\n",
      "Epoch 14\n"
     ]
    },
    {
     "name": "stderr",
     "output_type": "stream",
     "text": [
      "T Loss:  0.9510, Avg Loss:  0.7834, Best Loss:  1.9357, Counter: 0: 100%|██████████| 313/313 [00:07<00:00, 41.36it/s]\n",
      "V Loss:  1.6285, Avg Loss:  1.8426, Best Loss:  1.9357, Counter: 0: 100%|██████████| 63/63 [00:00<00:00, 64.49it/s]\n"
     ]
    },
    {
     "name": "stdout",
     "output_type": "stream",
     "text": [
      "\n",
      "Epoch 15\n"
     ]
    },
    {
     "name": "stderr",
     "output_type": "stream",
     "text": [
      "T Loss:  0.6702, Avg Loss:  0.6373, Best Loss:  1.8426, Counter: 0: 100%|██████████| 313/313 [00:07<00:00, 41.38it/s]\n",
      "V Loss:  1.6279, Avg Loss:  1.7734, Best Loss:  1.8426, Counter: 0: 100%|██████████| 63/63 [00:01<00:00, 60.83it/s]\n"
     ]
    },
    {
     "name": "stdout",
     "output_type": "stream",
     "text": [
      "\n",
      "Epoch 16\n"
     ]
    },
    {
     "name": "stderr",
     "output_type": "stream",
     "text": [
      "T Loss:  0.3987, Avg Loss:  0.5140, Best Loss:  1.7734, Counter: 0: 100%|██████████| 313/313 [00:07<00:00, 41.85it/s]\n",
      "V Loss:  1.9499, Avg Loss:  1.7059, Best Loss:  1.7734, Counter: 0: 100%|██████████| 63/63 [00:00<00:00, 63.84it/s]\n"
     ]
    },
    {
     "name": "stdout",
     "output_type": "stream",
     "text": [
      "\n",
      "Epoch 17\n"
     ]
    },
    {
     "name": "stderr",
     "output_type": "stream",
     "text": [
      "T Loss:  0.4260, Avg Loss:  0.4107, Best Loss:  1.7059, Counter: 0: 100%|██████████| 313/313 [00:07<00:00, 41.51it/s]\n",
      "V Loss:  1.7573, Avg Loss:  1.6552, Best Loss:  1.7059, Counter: 0: 100%|██████████| 63/63 [00:00<00:00, 63.53it/s]\n"
     ]
    },
    {
     "name": "stdout",
     "output_type": "stream",
     "text": [
      "\n",
      "Epoch 18\n"
     ]
    },
    {
     "name": "stderr",
     "output_type": "stream",
     "text": [
      "T Loss:  0.2938, Avg Loss:  0.3272, Best Loss:  1.6552, Counter: 0: 100%|██████████| 313/313 [00:07<00:00, 41.91it/s]\n",
      "V Loss:  1.5524, Avg Loss:  1.6092, Best Loss:  1.6552, Counter: 0: 100%|██████████| 63/63 [00:00<00:00, 67.67it/s]\n"
     ]
    },
    {
     "name": "stdout",
     "output_type": "stream",
     "text": [
      "\n",
      "Epoch 19\n"
     ]
    },
    {
     "name": "stderr",
     "output_type": "stream",
     "text": [
      "T Loss:  0.2490, Avg Loss:  0.2601, Best Loss:  1.6092, Counter: 0: 100%|██████████| 313/313 [00:07<00:00, 41.60it/s]\n",
      "V Loss:  1.6494, Avg Loss:  1.5827, Best Loss:  1.6092, Counter: 0: 100%|██████████| 63/63 [00:00<00:00, 66.81it/s]\n"
     ]
    },
    {
     "name": "stdout",
     "output_type": "stream",
     "text": [
      "\n",
      "Epoch 20\n"
     ]
    },
    {
     "name": "stderr",
     "output_type": "stream",
     "text": [
      "T Loss:  0.1680, Avg Loss:  0.2085, Best Loss:  1.5827, Counter: 0: 100%|██████████| 313/313 [00:07<00:00, 40.95it/s]\n",
      "V Loss:  1.3169, Avg Loss:  1.5682, Best Loss:  1.5827, Counter: 0: 100%|██████████| 63/63 [00:00<00:00, 66.64it/s]\n"
     ]
    },
    {
     "name": "stdout",
     "output_type": "stream",
     "text": [
      "\n",
      "Epoch 21\n"
     ]
    },
    {
     "name": "stderr",
     "output_type": "stream",
     "text": [
      "T Loss:  0.1940, Avg Loss:  0.1669, Best Loss:  1.5682, Counter: 0: 100%|██████████| 313/313 [00:07<00:00, 41.17it/s]\n",
      "V Loss:  1.9826, Avg Loss:  1.5447, Best Loss:  1.5682, Counter: 0: 100%|██████████| 63/63 [00:00<00:00, 65.40it/s]\n"
     ]
    },
    {
     "name": "stdout",
     "output_type": "stream",
     "text": [
      "\n",
      "Epoch 22\n"
     ]
    },
    {
     "name": "stderr",
     "output_type": "stream",
     "text": [
      "T Loss:  0.1381, Avg Loss:  0.1356, Best Loss:  1.5447, Counter: 0: 100%|██████████| 313/313 [00:07<00:00, 41.12it/s]\n",
      "V Loss:  1.3955, Avg Loss:  1.5189, Best Loss:  1.5447, Counter: 0: 100%|██████████| 63/63 [00:01<00:00, 62.33it/s]\n"
     ]
    },
    {
     "name": "stdout",
     "output_type": "stream",
     "text": [
      "\n",
      "Epoch 23\n"
     ]
    },
    {
     "name": "stderr",
     "output_type": "stream",
     "text": [
      "T Loss:  0.1120, Avg Loss:  0.1110, Best Loss:  1.5189, Counter: 0: 100%|██████████| 313/313 [00:07<00:00, 41.32it/s]\n",
      "V Loss:  1.0447, Avg Loss:  1.5013, Best Loss:  1.5189, Counter: 0: 100%|██████████| 63/63 [00:00<00:00, 68.79it/s]\n"
     ]
    },
    {
     "name": "stdout",
     "output_type": "stream",
     "text": [
      "\n",
      "Epoch 24\n"
     ]
    },
    {
     "name": "stderr",
     "output_type": "stream",
     "text": [
      "T Loss:  0.0880, Avg Loss:  0.0915, Best Loss:  1.5013, Counter: 0: 100%|██████████| 313/313 [00:07<00:00, 41.96it/s]\n",
      "V Loss:  1.1320, Avg Loss:  1.4900, Best Loss:  1.5013, Counter: 0: 100%|██████████| 63/63 [00:00<00:00, 65.33it/s]\n"
     ]
    },
    {
     "name": "stdout",
     "output_type": "stream",
     "text": [
      "\n",
      "Epoch 25\n"
     ]
    },
    {
     "name": "stderr",
     "output_type": "stream",
     "text": [
      "T Loss:  0.0942, Avg Loss:  0.0760, Best Loss:  1.4900, Counter: 0: 100%|██████████| 313/313 [00:07<00:00, 41.69it/s]\n",
      "V Loss:  1.9246, Avg Loss:  1.4921, Best Loss:  1.4900, Counter: 0: 100%|██████████| 63/63 [00:00<00:00, 65.85it/s]\n"
     ]
    },
    {
     "name": "stdout",
     "output_type": "stream",
     "text": [
      "\n",
      "Epoch 26\n"
     ]
    },
    {
     "name": "stderr",
     "output_type": "stream",
     "text": [
      "T Loss:  0.0583, Avg Loss:  0.0636, Best Loss:  1.4900, Counter: 1: 100%|██████████| 313/313 [00:07<00:00, 41.17it/s]\n",
      "V Loss:  1.4201, Avg Loss:  1.4821, Best Loss:  1.4900, Counter: 1: 100%|██████████| 63/63 [00:00<00:00, 68.47it/s]\n"
     ]
    },
    {
     "name": "stdout",
     "output_type": "stream",
     "text": [
      "\n",
      "Epoch 27\n"
     ]
    },
    {
     "name": "stderr",
     "output_type": "stream",
     "text": [
      "T Loss:  0.0432, Avg Loss:  0.0535, Best Loss:  1.4821, Counter: 0: 100%|██████████| 313/313 [00:07<00:00, 42.07it/s]\n",
      "V Loss:  2.0941, Avg Loss:  1.4833, Best Loss:  1.4821, Counter: 0: 100%|██████████| 63/63 [00:00<00:00, 64.44it/s]\n"
     ]
    },
    {
     "name": "stdout",
     "output_type": "stream",
     "text": [
      "\n",
      "Epoch 28\n"
     ]
    },
    {
     "name": "stderr",
     "output_type": "stream",
     "text": [
      "T Loss:  0.0554, Avg Loss:  0.0456, Best Loss:  1.4821, Counter: 1: 100%|██████████| 313/313 [00:07<00:00, 41.82it/s]\n",
      "V Loss:  1.7835, Avg Loss:  1.4741, Best Loss:  1.4821, Counter: 1: 100%|██████████| 63/63 [00:00<00:00, 66.33it/s]\n"
     ]
    },
    {
     "name": "stdout",
     "output_type": "stream",
     "text": [
      "\n",
      "Epoch 29\n"
     ]
    },
    {
     "name": "stderr",
     "output_type": "stream",
     "text": [
      "T Loss:  0.0421, Avg Loss:  0.0382, Best Loss:  1.4741, Counter: 0: 100%|██████████| 313/313 [00:07<00:00, 41.16it/s]\n",
      "V Loss:  1.6333, Avg Loss:  1.4712, Best Loss:  1.4741, Counter: 0: 100%|██████████| 63/63 [00:00<00:00, 65.84it/s]\n"
     ]
    },
    {
     "name": "stdout",
     "output_type": "stream",
     "text": [
      "\n",
      "Epoch 30\n"
     ]
    },
    {
     "name": "stderr",
     "output_type": "stream",
     "text": [
      "T Loss:  0.0275, Avg Loss:  0.0325, Best Loss:  1.4712, Counter: 0: 100%|██████████| 313/313 [00:07<00:00, 42.10it/s]\n",
      "V Loss:  2.2682, Avg Loss:  1.4728, Best Loss:  1.4712, Counter: 0: 100%|██████████| 63/63 [00:00<00:00, 66.41it/s]\n"
     ]
    },
    {
     "name": "stdout",
     "output_type": "stream",
     "text": [
      "\n",
      "Epoch 31\n"
     ]
    },
    {
     "name": "stderr",
     "output_type": "stream",
     "text": [
      "T Loss:  0.0223, Avg Loss:  0.0278, Best Loss:  1.4712, Counter: 1: 100%|██████████| 313/313 [00:07<00:00, 41.09it/s]\n",
      "V Loss:  1.7743, Avg Loss:  1.4673, Best Loss:  1.4712, Counter: 1: 100%|██████████| 63/63 [00:00<00:00, 66.23it/s]\n"
     ]
    },
    {
     "name": "stdout",
     "output_type": "stream",
     "text": [
      "\n",
      "Epoch 32\n"
     ]
    },
    {
     "name": "stderr",
     "output_type": "stream",
     "text": [
      "T Loss:  0.0241, Avg Loss:  0.0238, Best Loss:  1.4673, Counter: 0: 100%|██████████| 313/313 [00:07<00:00, 41.32it/s]\n",
      "V Loss:  1.4427, Avg Loss:  1.4636, Best Loss:  1.4673, Counter: 0: 100%|██████████| 63/63 [00:00<00:00, 65.84it/s]\n"
     ]
    },
    {
     "name": "stdout",
     "output_type": "stream",
     "text": [
      "\n",
      "Epoch 33\n"
     ]
    },
    {
     "name": "stderr",
     "output_type": "stream",
     "text": [
      "T Loss:  0.0180, Avg Loss:  0.0212, Best Loss:  1.4636, Counter: 0: 100%|██████████| 313/313 [00:07<00:00, 41.48it/s]\n",
      "V Loss:  1.1268, Avg Loss:  1.4585, Best Loss:  1.4636, Counter: 0: 100%|██████████| 63/63 [00:00<00:00, 66.52it/s]\n"
     ]
    },
    {
     "name": "stdout",
     "output_type": "stream",
     "text": [
      "\n",
      "Epoch 34\n"
     ]
    },
    {
     "name": "stderr",
     "output_type": "stream",
     "text": [
      "T Loss:  0.0179, Avg Loss:  0.0178, Best Loss:  1.4585, Counter: 0: 100%|██████████| 313/313 [00:07<00:00, 41.48it/s]\n",
      "V Loss:  1.5209, Avg Loss:  1.4550, Best Loss:  1.4585, Counter: 0: 100%|██████████| 63/63 [00:00<00:00, 64.23it/s]\n"
     ]
    },
    {
     "name": "stdout",
     "output_type": "stream",
     "text": [
      "\n",
      "Epoch 35\n"
     ]
    },
    {
     "name": "stderr",
     "output_type": "stream",
     "text": [
      "T Loss:  0.0162, Avg Loss:  0.0153, Best Loss:  1.4550, Counter: 0: 100%|██████████| 313/313 [00:07<00:00, 41.18it/s]\n",
      "V Loss:  1.6929, Avg Loss:  1.4596, Best Loss:  1.4550, Counter: 0: 100%|██████████| 63/63 [00:00<00:00, 65.13it/s]\n"
     ]
    },
    {
     "name": "stdout",
     "output_type": "stream",
     "text": [
      "\n",
      "Epoch 36\n"
     ]
    },
    {
     "name": "stderr",
     "output_type": "stream",
     "text": [
      "T Loss:  0.0170, Avg Loss:  0.0134, Best Loss:  1.4550, Counter: 1: 100%|██████████| 313/313 [00:07<00:00, 41.45it/s]\n",
      "V Loss:  1.9855, Avg Loss:  1.4529, Best Loss:  1.4550, Counter: 1: 100%|██████████| 63/63 [00:00<00:00, 66.61it/s]\n"
     ]
    },
    {
     "name": "stdout",
     "output_type": "stream",
     "text": [
      "\n",
      "Epoch 37\n"
     ]
    },
    {
     "name": "stderr",
     "output_type": "stream",
     "text": [
      "T Loss:  0.0112, Avg Loss:  0.0115, Best Loss:  1.4529, Counter: 0: 100%|██████████| 313/313 [00:07<00:00, 40.92it/s]\n",
      "V Loss:  1.4470, Avg Loss:  1.4547, Best Loss:  1.4529, Counter: 0: 100%|██████████| 63/63 [00:01<00:00, 62.73it/s]\n"
     ]
    },
    {
     "name": "stdout",
     "output_type": "stream",
     "text": [
      "\n",
      "Epoch 38\n"
     ]
    },
    {
     "name": "stderr",
     "output_type": "stream",
     "text": [
      "T Loss:  0.0223, Avg Loss:  0.0104, Best Loss:  1.4529, Counter: 1: 100%|██████████| 313/313 [00:07<00:00, 40.96it/s]\n",
      "V Loss:  1.8850, Avg Loss:  1.4748, Best Loss:  1.4529, Counter: 1: 100%|██████████| 63/63 [00:00<00:00, 66.55it/s]\n"
     ]
    },
    {
     "name": "stdout",
     "output_type": "stream",
     "text": [
      "\n",
      "Epoch 39\n"
     ]
    },
    {
     "name": "stderr",
     "output_type": "stream",
     "text": [
      "T Loss:  0.0101, Avg Loss:  0.0118, Best Loss:  1.4529, Counter: 2: 100%|██████████| 313/313 [00:07<00:00, 41.02it/s]\n",
      "V Loss:  1.6061, Avg Loss:  1.4560, Best Loss:  1.4529, Counter: 2: 100%|██████████| 63/63 [00:00<00:00, 68.64it/s]\n"
     ]
    },
    {
     "name": "stdout",
     "output_type": "stream",
     "text": [
      "\n",
      "Epoch 40\n"
     ]
    },
    {
     "name": "stderr",
     "output_type": "stream",
     "text": [
      "T Loss:  0.0059, Avg Loss:  0.0074, Best Loss:  1.4529, Counter: 3: 100%|██████████| 313/313 [00:07<00:00, 41.42it/s]\n",
      "V Loss:  0.4766, Avg Loss:  1.4452, Best Loss:  1.4529, Counter: 3: 100%|██████████| 63/63 [00:00<00:00, 65.16it/s]\n"
     ]
    },
    {
     "name": "stdout",
     "output_type": "stream",
     "text": [
      "\n",
      "Epoch 41\n"
     ]
    },
    {
     "name": "stderr",
     "output_type": "stream",
     "text": [
      "T Loss:  0.0082, Avg Loss:  0.0064, Best Loss:  1.4452, Counter: 0: 100%|██████████| 313/313 [00:07<00:00, 41.74it/s]\n",
      "V Loss:  0.9831, Avg Loss:  1.4531, Best Loss:  1.4452, Counter: 0: 100%|██████████| 63/63 [00:00<00:00, 65.45it/s]\n"
     ]
    },
    {
     "name": "stdout",
     "output_type": "stream",
     "text": [
      "\n",
      "Epoch 42\n"
     ]
    },
    {
     "name": "stderr",
     "output_type": "stream",
     "text": [
      "T Loss:  0.0051, Avg Loss:  0.0057, Best Loss:  1.4452, Counter: 1: 100%|██████████| 313/313 [00:07<00:00, 41.33it/s]\n",
      "V Loss:  1.5235, Avg Loss:  1.4584, Best Loss:  1.4452, Counter: 1: 100%|██████████| 63/63 [00:00<00:00, 64.39it/s]\n"
     ]
    },
    {
     "name": "stdout",
     "output_type": "stream",
     "text": [
      "\n",
      "Epoch 43\n"
     ]
    },
    {
     "name": "stderr",
     "output_type": "stream",
     "text": [
      "T Loss:  0.0068, Avg Loss:  0.0053, Best Loss:  1.4452, Counter: 2: 100%|██████████| 313/313 [00:07<00:00, 41.19it/s]\n",
      "V Loss:  1.5720, Avg Loss:  1.4635, Best Loss:  1.4452, Counter: 2: 100%|██████████| 63/63 [00:00<00:00, 67.17it/s]\n"
     ]
    },
    {
     "name": "stdout",
     "output_type": "stream",
     "text": [
      "\n",
      "Epoch 44\n"
     ]
    },
    {
     "name": "stderr",
     "output_type": "stream",
     "text": [
      "T Loss:  0.0065, Avg Loss:  0.0101, Best Loss:  1.4452, Counter: 3: 100%|██████████| 313/313 [00:07<00:00, 41.37it/s]\n",
      "V Loss:  1.1863, Avg Loss:  1.4571, Best Loss:  1.4452, Counter: 3: 100%|██████████| 63/63 [00:00<00:00, 68.57it/s]\n"
     ]
    },
    {
     "data": {
      "text/html": [
       "Waiting for W&B process to finish... <strong style=\"color:green\">(success).</strong>"
      ],
      "text/plain": [
       "<IPython.core.display.HTML object>"
      ]
     },
     "metadata": {},
     "output_type": "display_data"
    },
    {
     "data": {
      "text/html": [
       "<style>\n",
       "    table.wandb td:nth-child(1) { padding: 0 10px; text-align: left ; width: auto;} td:nth-child(2) {text-align: left ; width: 100%}\n",
       "    .wandb-row { display: flex; flex-direction: row; flex-wrap: wrap; justify-content: flex-start; width: 100% }\n",
       "    .wandb-col { display: flex; flex-direction: column; flex-basis: 100%; flex: 1; padding: 10px; }\n",
       "    </style>\n",
       "<div class=\"wandb-row\"><div class=\"wandb-col\"><h3>Run history:</h3><br/><table class=\"wandb\"><tr><td>batch_size</td><td>▁</td></tr><tr><td>loss</td><td>▁</td></tr><tr><td>train_loss</td><td>█▇▆▅▄▄▄▃▃▃▂▂▂▂▁▁▁▁▁▁▁▁▁▁▁▁▁▁▁▁▁▁▁▁▁▁▁▁▁▁</td></tr><tr><td>validation_loss</td><td>█▇▆▅▄▃▃▃▂▂▂▂▁▁▁▁▁▁▁▁▁▁▁▁▁▁▁▁▁▁▁▁▁▁▁▁▁▁▁▁</td></tr></table><br/></div><div class=\"wandb-col\"><h3>Run summary:</h3><br/><table class=\"wandb\"><tr><td>batch_size</td><td>16</td></tr><tr><td>loss</td><td>1.44521</td></tr><tr><td>train_loss</td><td>0.01009</td></tr><tr><td>validation_loss</td><td>1.45711</td></tr></table><br/></div></div>"
      ],
      "text/plain": [
       "<IPython.core.display.HTML object>"
      ]
     },
     "metadata": {},
     "output_type": "display_data"
    },
    {
     "data": {
      "text/html": [
       " View run <strong style=\"color:#cdcd00\">dutiful-sweep-1</strong> at: <a href='https://wandb.ai/shu7bh/ELMO/runs/q9tp7d56' target=\"_blank\">https://wandb.ai/shu7bh/ELMO/runs/q9tp7d56</a><br/>Synced 6 W&B file(s), 0 media file(s), 1 artifact file(s) and 0 other file(s)"
      ],
      "text/plain": [
       "<IPython.core.display.HTML object>"
      ]
     },
     "metadata": {},
     "output_type": "display_data"
    },
    {
     "data": {
      "text/html": [
       "Find logs at: <code>./wandb/run-20230914_214626-q9tp7d56/logs</code>"
      ],
      "text/plain": [
       "<IPython.core.display.HTML object>"
      ]
     },
     "metadata": {},
     "output_type": "display_data"
    }
   ],
   "source": [
    "def run(cfg=None):\n",
    "    with wandb.init(config=cfg):\n",
    "        config = wandb.config\n",
    "        BATCH_SIZE = 16\n",
    "        if config.hidden_dim in [300, 500]:\n",
    "            BATCH_SIZE = 32\n",
    "\n",
    "        wandb.log({'batch_size': BATCH_SIZE})\n",
    "        HIDDEN_DIM = config['hidden_dim']\n",
    "        DROP_OUT = config['dropout']\n",
    "        OPTIMIZER = config['optimizer']\n",
    "        LEARNING_RATE = config['learning_rate']\n",
    "        EPOCHS = config['epochs']\n",
    "        EMBEDDITNG_DIM = config['embedding_dim']\n",
    "        NUM_LAYERS = config['num_layers']\n",
    "\n",
    "        Emb = create_vocab(df['Description'], EMBEDDITNG_DIM)\n",
    "\n",
    "        dev_train_dataset = SentencesDataset(dev_train, Emb)\n",
    "        dev_validation_dataset = SentencesDataset(dev_validation, Emb)\n",
    "\n",
    "        collate_fn = Collator(Emb)\n",
    "\n",
    "        training_dataloader = DataLoader(dev_train_dataset, batch_size=BATCH_SIZE, shuffle=True, collate_fn=collate_fn, pin_memory=True, num_workers=4)\n",
    "        validation_dataloader = DataLoader(dev_validation_dataset, batch_size=BATCH_SIZE, shuffle=True, collate_fn=collate_fn, pin_memory=True, num_workers=4)\n",
    "\n",
    "        torch.cuda.empty_cache()\n",
    "\n",
    "        elmo = ELMO(Emb, HIDDEN_DIM, DROP_OUT, NUM_LAYERS).to(DEVICE)\n",
    "\n",
    "        optimizer = getattr(torch.optim, OPTIMIZER)(elmo.parameters(), lr=LEARNING_RATE)\n",
    "        loss_fn = nn.CrossEntropyLoss(ignore_index=Emb.key_to_index['<pad>'])\n",
    "\n",
    "        train(EPOCHS, elmo, training_dataloader, validation_dataloader, loss_fn, optimizer)\n",
    "\n",
    "sweep_id = wandb.sweep(cfg, project='ELMO')\n",
    "wandb.agent(sweep_id, run, count=1)\n",
    "# wandb.agent(sweep_id, run_sweep, count=20)"
   ]
  },
  {
   "cell_type": "code",
   "execution_count": 22,
   "metadata": {},
   "outputs": [
    {
     "name": "stderr",
     "output_type": "stream",
     "text": [
      "\u001b[34m\u001b[1mwandb\u001b[0m: Downloading large artifact best_model_q9tp7d56:v0, 54.45MB. 1 files... \n",
      "\u001b[34m\u001b[1mwandb\u001b[0m:   1 of 1 files downloaded.  \n",
      "Done. 0:0:1.2\n"
     ]
    }
   ],
   "source": [
    "# import wandb\n",
    "# wrun = wandb.init()\n",
    "# artifact = wrun.use_artifact('shu7bh/ELMO/best_model_3y4z0vh5:v0', type='model')\n",
    "# cfg = wrun.config\n",
    "# artifact_dir = artifact.download()\n",
    "\n",
    "wrun = wandb.Api().artifact('shu7bh/ELMO/best_model_q9tp7d56:v0', type='model')\n",
    "artifact_dir = wrun.download()\n",
    "# shu7bh/ELMO/runs/q9tp7d56\n",
    "cfg = wandb.Api().run('shu7bh/ELMO/q9tp7d56').config"
   ]
  },
  {
   "cell_type": "code",
   "execution_count": 23,
   "metadata": {},
   "outputs": [],
   "source": [
    "import tqdm\n",
    "\n",
    "def run_epoch(model, dataloader, loss_fn):\n",
    "    epoch_loss = []\n",
    "\n",
    "    pbar = tqdm.tqdm(dataloader)\n",
    "\n",
    "    for X, Y, X_lengths in pbar:\n",
    "        X = X.to(DEVICE)\n",
    "        Y = Y.to(DEVICE)\n",
    "\n",
    "        Y_pred = model(X, X_lengths)\n",
    "        Y_pred = Y_pred.reshape(-1, Y_pred.shape[2])\n",
    "\n",
    "        Y = Y.reshape(-1)\n",
    "\n",
    "        loss = loss_fn(Y_pred, Y)\n",
    "        epoch_loss.append(loss.item())\n",
    "\n",
    "        pbar.set_description(f'Loss: {loss.item():7.4f}, Avg Loss: {np.mean(epoch_loss):7.4f}')\n",
    "\n",
    "    return np.mean(epoch_loss)"
   ]
  },
  {
   "cell_type": "code",
   "execution_count": 24,
   "metadata": {},
   "outputs": [],
   "source": [
    "def validate(elmo, validation_dataloader, loss_fn):\n",
    "    with torch.no_grad():\n",
    "        elmo.eval()\n",
    "        epoch_loss = run_epoch(elmo, validation_dataloader, loss_fn)\n",
    "        print(f'Validation Loss: {epoch_loss:7.4f}')"
   ]
  },
  {
   "cell_type": "code",
   "execution_count": 25,
   "metadata": {},
   "outputs": [
    {
     "name": "stderr",
     "output_type": "stream",
     "text": [
      "Loss:  1.8123, Avg Loss:  1.4573: 100%|██████████| 63/63 [00:00<00:00, 70.66it/s]"
     ]
    },
    {
     "name": "stdout",
     "output_type": "stream",
     "text": [
      "Validation Loss:  1.4573\n"
     ]
    },
    {
     "name": "stderr",
     "output_type": "stream",
     "text": [
      "\n"
     ]
    }
   ],
   "source": [
    "Emb = create_vocab(df['Description'], cfg['embedding_dim'])\n",
    "\n",
    "# dev_train_dataset = SentencesDataset(dev_train, Emb)\n",
    "dev_validation_dataset = SentencesDataset(dev_validation, Emb)\n",
    "\n",
    "collate_fn = Collator(Emb)\n",
    "\n",
    "# training_dataloader = DataLoader(dev_train_dataset, batch_size=BATCH_SIZE, shuffle=True, collate_fn=collate_fn, pin_memory=True, num_workers=4)\n",
    "validation_dataloader = DataLoader(dev_validation_dataset, batch_size=16, shuffle=True, collate_fn=collate_fn, pin_memory=True, num_workers=4)\n",
    "elmo = ELMO(Emb, cfg['hidden_dim'], cfg['dropout'], cfg['num_layers']).to(DEVICE)\n",
    "\n",
    "elmo.load_state_dict(torch.load(os.path.join(artifact_dir, 'best_model.pth')))\n",
    "\n",
    "validate(elmo, validation_dataloader, nn.CrossEntropyLoss(ignore_index=Emb.key_to_index['<pad>']))"
   ]
  },
  {
   "cell_type": "code",
   "execution_count": null,
   "metadata": {},
   "outputs": [],
   "source": []
  }
 ],
 "metadata": {
  "kernelspec": {
   "display_name": "main",
   "language": "python",
   "name": "python3"
  },
  "language_info": {
   "codemirror_mode": {
    "name": "ipython",
    "version": 3
   },
   "file_extension": ".py",
   "mimetype": "text/x-python",
   "name": "python",
   "nbconvert_exporter": "python",
   "pygments_lexer": "ipython3",
   "version": "3.11.4"
  },
  "orig_nbformat": 4
 },
 "nbformat": 4,
 "nbformat_minor": 2
}
