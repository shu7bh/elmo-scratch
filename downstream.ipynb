{
 "cells": [
  {
   "cell_type": "code",
   "execution_count": 1,
   "metadata": {},
   "outputs": [],
   "source": [
    "from preprocess import *\n",
    "import numpy as np\n",
    "import wandb\n",
    "import torch\n",
    "import pandas as pd\n",
    "import os"
   ]
  },
  {
   "cell_type": "code",
   "execution_count": 2,
   "metadata": {},
   "outputs": [
    {
     "name": "stdout",
     "output_type": "stream",
     "text": [
      "cuda\n"
     ]
    }
   ],
   "source": [
    "if torch.cuda.is_available():\n",
    "    DEVICE = torch.device('cuda')\n",
    "    os.environ[\"CUBLAS_WORKSPACE_CONFIG\"] = \":16:8\" # \":4096:2\"\n",
    "else:\n",
    "    DEVICE = torch.device('cpu')\n",
    "print(DEVICE)"
   ]
  },
  {
   "cell_type": "code",
   "execution_count": 3,
   "metadata": {},
   "outputs": [
    {
     "name": "stderr",
     "output_type": "stream",
     "text": [
      "\u001b[34m\u001b[1mwandb\u001b[0m: Downloading large artifact best_model_3y4z0vh5:v0, 569.43MB. 1 files... \n",
      "\u001b[34m\u001b[1mwandb\u001b[0m:   1 of 1 files downloaded.  \n",
      "Done. 0:0:1.3\n"
     ]
    }
   ],
   "source": [
    "# wrun = wandb.init()\n",
    "\n",
    "wrun = wandb.Api().artifact('shu7bh/ELMO/best_model_3y4z0vh5:v0', type='model')\n",
    "# artifact = wrun.use_artifact('shu7bh/ELMO/best_model_3y4z0vh5:v0', type='model')\n",
    "# artifact_dir = artifact.download()\n",
    "artifact_dir = wrun.download()\n",
    "cfg = wandb.Api().run('shu7bh/ELMO/3y4z0vh5').config# \n",
    "\n",
    "# import wandb\n",
    "# wrun = wandb.init()\n",
    "# artifact = wrun.use_artifact('shu7bh/ELMO/best_model_3y4z0vh5:v0', type='model')\n",
    "# cfg = wrun.config\n",
    "# artifact_dir = artifact.download()"
   ]
  },
  {
   "cell_type": "code",
   "execution_count": 4,
   "metadata": {},
   "outputs": [
    {
     "data": {
      "text/plain": [
       "{'epochs': 100,\n",
       " 'dropout': 0,\n",
       " 'optimizer': 'Adam',\n",
       " 'hidden_dim': 1000,\n",
       " 'num_layers': 2,\n",
       " 'dev_train_len': 25000,\n",
       " 'embedding_dim': 100,\n",
       " 'learning_rate': 0.001,\n",
       " 'dev_validation_len': 5000}"
      ]
     },
     "execution_count": 4,
     "metadata": {},
     "output_type": "execute_result"
    }
   ],
   "source": [
    "cfg"
   ]
  },
  {
   "cell_type": "code",
   "execution_count": 5,
   "metadata": {},
   "outputs": [
    {
     "name": "stdout",
     "output_type": "stream",
     "text": [
      "25000\n",
      "5000\n",
      "1000\n",
      "0\n",
      "0.001\n",
      "100\n",
      "100\n",
      "2\n",
      "16\n",
      "/scratch/shu7bh/RES/PRE\n"
     ]
    }
   ],
   "source": [
    "DEV_TRAIN_LEN = cfg['dev_train_len']\n",
    "DEV_VALIDATION_LEN = cfg['dev_validation_len']\n",
    "HIDDEN_DIM = cfg['hidden_dim']\n",
    "DROP_OUT = cfg['dropout']\n",
    "LEARNING_RATE = cfg['learning_rate']\n",
    "EPOCHS = cfg['epochs']\n",
    "EMBEDDITNG_DIM = cfg['embedding_dim']\n",
    "NUM_LAYERS = cfg['num_layers']\n",
    "BATCH_SIZE = 16\n",
    "if HIDDEN_DIM in [300, 500]:\n",
    "    BATCH_SIZE = 32\n",
    "\n",
    "DIR = '/scratch/shu7bh/RES/PRE'\n",
    "\n",
    "print(DEV_TRAIN_LEN)\n",
    "print(DEV_VALIDATION_LEN)\n",
    "print(HIDDEN_DIM)\n",
    "print(DROP_OUT)\n",
    "print(LEARNING_RATE)\n",
    "print(EPOCHS)\n",
    "print(EMBEDDITNG_DIM)\n",
    "print(NUM_LAYERS)\n",
    "print(BATCH_SIZE)\n",
    "print(DIR)"
   ]
  },
  {
   "cell_type": "code",
   "execution_count": 6,
   "metadata": {},
   "outputs": [],
   "source": [
    "import os\n",
    "if not os.path.exists(DIR):\n",
    "    os.makedirs(DIR)"
   ]
  },
  {
   "cell_type": "code",
   "execution_count": 7,
   "metadata": {},
   "outputs": [
    {
     "name": "stdout",
     "output_type": "stream",
     "text": [
      "25000\n",
      "5000\n"
     ]
    }
   ],
   "source": [
    "print(DEV_TRAIN_LEN)\n",
    "print(DEV_VALIDATION_LEN)"
   ]
  },
  {
   "cell_type": "code",
   "execution_count": 8,
   "metadata": {},
   "outputs": [],
   "source": [
    "df = pd.read_csv('data/train.csv')\n",
    "df = df.sample(frac=1, random_state=0).reset_index(drop=True)\n",
    "df['Description'] = df['Description'].apply(tokenize_corpus)\n",
    "df['Description'] = df['Description'].apply(get_word_tokenized_corpus)"
   ]
  },
  {
   "cell_type": "code",
   "execution_count": 9,
   "metadata": {},
   "outputs": [],
   "source": [
    "# dev_train = df[:DEV_TRAIN_LEN]['Description']\n",
    "dev_validation = df[DEV_TRAIN_LEN:DEV_TRAIN_LEN + DEV_VALIDATION_LEN]['Description']"
   ]
  },
  {
   "cell_type": "code",
   "execution_count": 10,
   "metadata": {},
   "outputs": [
    {
     "data": {
      "text/plain": [
       "25000    [linux, is, gaining, ground, with, companies, ...\n",
       "25001    [google, ,, the, internet, search, engine, ,, ...\n",
       "25002    [ap, defending, champion, tiger, woods, said, ...\n",
       "25003    [advanced, micro, devices, will, add, quot, ;,...\n",
       "25004    [reuters, about, 100, tibetan, exiles, chanted...\n",
       "                               ...                        \n",
       "29995    [they, were, 4, 12, last, year, ., they, have,...\n",
       "29996    [luke, donald, and, paul, casey, are, unlikely...\n",
       "29997    [yahoo, is, eager, to, improve, its, web, base...\n",
       "29998    [ankara, strasbourg, ,, france, reuters, prime...\n",
       "29999    [leipzig, game, convention, in, germany, ,, th...\n",
       "Name: Description, Length: 5000, dtype: object"
      ]
     },
     "execution_count": 10,
     "metadata": {},
     "output_type": "execute_result"
    }
   ],
   "source": [
    "dev_validation"
   ]
  },
  {
   "cell_type": "code",
   "execution_count": 11,
   "metadata": {},
   "outputs": [],
   "source": [
    "from torch.nn.utils.rnn import pad_sequence\n",
    "from torch.utils.data import DataLoader\n",
    "from dataset import SentencesDataset\n",
    "from elmo import ELMO\n",
    "from torch import nn"
   ]
  },
  {
   "cell_type": "code",
   "execution_count": 12,
   "metadata": {},
   "outputs": [],
   "source": [
    "class Collator:\n",
    "    def __init__(self, Emb):\n",
    "        self.pad_index = Emb.key_to_index['<pad>']\n",
    "\n",
    "    def __call__(self, batch):\n",
    "        X, X_lengths = zip(*batch)\n",
    "        X = pad_sequence(X, batch_first=True, padding_value=self.pad_index)\n",
    "        return X[:, :-1], X[:, 1:], torch.stack(X_lengths) - 1"
   ]
  },
  {
   "cell_type": "code",
   "execution_count": 13,
   "metadata": {},
   "outputs": [],
   "source": [
    "import tqdm\n",
    "\n",
    "def run_epoch(model, dataloader, loss_fn):\n",
    "    model.eval()\n",
    "    epoch_loss = []\n",
    "\n",
    "    pbar = tqdm.tqdm(dataloader)\n",
    "\n",
    "    for X, Y, X_lengths in pbar:\n",
    "        X = X.to(DEVICE)\n",
    "        Y = Y.to(DEVICE)\n",
    "\n",
    "        Y_pred = model(X, X_lengths)\n",
    "        Y_pred = Y_pred.reshape(-1, Y_pred.shape[2])\n",
    "\n",
    "        Y = Y.reshape(-1)\n",
    "\n",
    "        loss = loss_fn(Y_pred, Y)\n",
    "        epoch_loss.append(loss.item())\n",
    "\n",
    "        pbar.set_description(f'Loss: {loss.item():7.4f}, Avg Loss: {np.mean(epoch_loss):7.4f}')\n",
    "\n",
    "    return np.mean(epoch_loss)"
   ]
  },
  {
   "cell_type": "code",
   "execution_count": 14,
   "metadata": {},
   "outputs": [],
   "source": [
    "def validate(elmo, validation_dataloader, loss_fn):\n",
    "    with torch.no_grad():\n",
    "        epoch_loss = run_epoch(elmo, validation_dataloader, loss_fn)\n",
    "        print(f'Validation Loss: {epoch_loss:7.4f}')"
   ]
  },
  {
   "cell_type": "code",
   "execution_count": 110,
   "metadata": {},
   "outputs": [],
   "source": [
    "Emb = create_vocab(df['Description'], EMBEDDITNG_DIM)\n",
    "\n",
    "# dev_train_dataset = SentencesDataset(dev_train, Emb)\n",
    "dev_validation_dataset = SentencesDataset(dev_validation, Emb)\n",
    "\n",
    "collate_fn = Collator(Emb)\n",
    "\n",
    "# training_dataloader = DataLoader(dev_train_dataset, batch_size=BATCH_SIZE, shuffle=True, collate_fn=collate_fn, pin_memory=True, num_workers=4)\n",
    "validation_dataloader = DataLoader(dev_validation_dataset, batch_size=BATCH_SIZE, shuffle=True, collate_fn=collate_fn, pin_memory=True, num_workers=4)"
   ]
  },
  {
   "cell_type": "code",
   "execution_count": 112,
   "metadata": {},
   "outputs": [],
   "source": [
    "elmo = ELMO(Emb, HIDDEN_DIM, DROP_OUT, NUM_LAYERS)"
   ]
  },
  {
   "cell_type": "code",
   "execution_count": 114,
   "metadata": {},
   "outputs": [],
   "source": [
    "# run.file(\"best_model.pth\").download(replace=True, root=DIR)"
   ]
  },
  {
   "cell_type": "code",
   "execution_count": 115,
   "metadata": {},
   "outputs": [
    {
     "data": {
      "text/plain": [
       "'./artifacts/best_model_3y4z0vh5:v0'"
      ]
     },
     "execution_count": 115,
     "metadata": {},
     "output_type": "execute_result"
    }
   ],
   "source": [
    "artifact_dir"
   ]
  },
  {
   "cell_type": "code",
   "execution_count": 116,
   "metadata": {},
   "outputs": [],
   "source": [
    "elmo.load_state_dict(torch.load(os.path.join(artifact_dir, 'best_model.pth')))\n",
    "# elmo = elmo.to(DEVICE)\n",
    "elmo_embeddings = list(elmo.parameters())[0].detach().cpu()\n",
    "elmo.embedding = nn.Embedding.from_pretrained(elmo_embeddings.to(DEVICE))"
   ]
  },
  {
   "cell_type": "code",
   "execution_count": 86,
   "metadata": {},
   "outputs": [],
   "source": [
    "elmo = elmo.to(DEVICE)"
   ]
  },
  {
   "cell_type": "code",
   "execution_count": 87,
   "metadata": {},
   "outputs": [
    {
     "name": "stderr",
     "output_type": "stream",
     "text": [
      "Loss:  7.8234, Avg Loss:  8.0386: 100%|██████████| 313/313 [00:11<00:00, 28.42it/s]"
     ]
    },
    {
     "name": "stdout",
     "output_type": "stream",
     "text": [
      "Validation Loss:  8.0386\n"
     ]
    },
    {
     "name": "stderr",
     "output_type": "stream",
     "text": [
      "\n"
     ]
    }
   ],
   "source": [
    "loss_fn = nn.CrossEntropyLoss(ignore_index=Emb.key_to_index['<pad>'])\n",
    "validate(elmo, validation_dataloader, loss_fn)"
   ]
  },
  {
   "cell_type": "code",
   "execution_count": null,
   "metadata": {},
   "outputs": [],
   "source": []
  }
 ],
 "metadata": {
  "kernelspec": {
   "display_name": "main",
   "language": "python",
   "name": "python3"
  },
  "language_info": {
   "codemirror_mode": {
    "name": "ipython",
    "version": 3
   },
   "file_extension": ".py",
   "mimetype": "text/x-python",
   "name": "python",
   "nbconvert_exporter": "python",
   "pygments_lexer": "ipython3",
   "version": "3.11.4"
  },
  "orig_nbformat": 4
 },
 "nbformat": 4,
 "nbformat_minor": 2
}
