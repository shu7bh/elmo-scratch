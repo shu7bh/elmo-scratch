{
 "cells": [
  {
   "cell_type": "code",
   "execution_count": 2,
   "metadata": {},
   "outputs": [],
   "source": [
    "cfg = {\n",
    "    'dev_train_len': 5*10**3,\n",
    "    'dev_validation_len': 1*10**3,\n",
    "    'learning_rate': 0.001,\n",
    "    'epochs': 100,\n",
    "    'embedding_dim': 16,\n",
    "    'batch_size': 32,\n",
    "    'dropout': 0.1,\n",
    "    'optimizer': 'Adam',\n",
    "    'num_layers': 2\n",
    "}\n",
    "\n",
    "cfg['hidden_dim'] = cfg['embedding_dim']\n"
   ]
  },
  {
   "cell_type": "code",
   "execution_count": 15,
   "metadata": {},
   "outputs": [],
   "source": [
    "DEV_TRAIN_LEN = cfg['dev_train_len']\n",
    "DEV_VALIDATION_LEN = cfg['dev_validation_len']\n",
    "LEARNING_RATE = cfg['learning_rate']\n",
    "EPOCHS = cfg['epochs']\n",
    "EMBEDDING_DIM = cfg['embedding_dim']\n",
    "BATCH_SIZE = cfg['batch_size']\n",
    "DROPOUT = cfg['dropout']\n",
    "OPTIMIZER = cfg['optimizer']\n",
    "NUM_LAYERS = cfg['num_layers']\n",
    "HIDDEN_DIM = cfg['hidden_dim']\n",
    "\n",
    "DIR = '/scratch/shu7bh/RES/PRE'"
   ]
  },
  {
   "cell_type": "code",
   "execution_count": 6,
   "metadata": {},
   "outputs": [],
   "source": [
    "import os\n",
    "if not os.path.exists(DIR):\n",
    "    os.makedirs(DIR)"
   ]
  },
  {
   "cell_type": "code",
   "execution_count": 4,
   "metadata": {},
   "outputs": [
    {
     "name": "stdout",
     "output_type": "stream",
     "text": [
      "cuda\n"
     ]
    }
   ],
   "source": [
    "import torch\n",
    "import os\n",
    "\n",
    "if torch.cuda.is_available():\n",
    "    DEVICE = torch.device('cuda')\n",
    "    os.environ[\"CUBLAS_WORKSPACE_CONFIG\"] = \":16:8\" # \":4096:2\"\n",
    "    torch.backends.cudnn.deterministic = True\n",
    "    torch.backends.cudnn.benchmark = True\n",
    "else:\n",
    "    DEVICE = torch.device('cpu')\n",
    "print(DEVICE)"
   ]
  },
  {
   "cell_type": "code",
   "execution_count": 7,
   "metadata": {},
   "outputs": [],
   "source": [
    "import unicodedata\n",
    "import random\n",
    "import re\n",
    "import pandas as pd\n",
    "\n",
    "def normalize_unicode(text: str) -> str:\n",
    "    return unicodedata.normalize('NFD', text)\n",
    "\n",
    "unique_chars = set()\n",
    "\n",
    "def normalize_string(text: str) -> str:\n",
    "    text = normalize_unicode(text.lower().strip())\n",
    "    text = re.sub(r\"([.!?])\", r\" \\1\", text)\n",
    "    text = re.sub(r\"[^a-zA-Z.!?]+\", r\" \", text)\n",
    "    for char in text:\n",
    "        unique_chars.add(char)\n",
    "    return text\n",
    "\n",
    "def read_data(path: str) -> pd.DataFrame:\n",
    "    df = pd.read_csv(path)\n",
    "    df = df.sample(frac=1, random_state=0).reset_index(drop=True)\n",
    "    df['Description'] = df['Description'].apply(normalize_string)\n",
    "    return df"
   ]
  },
  {
   "cell_type": "code",
   "execution_count": 10,
   "metadata": {},
   "outputs": [
    {
     "data": {
      "text/html": [
       "<div>\n",
       "<style scoped>\n",
       "    .dataframe tbody tr th:only-of-type {\n",
       "        vertical-align: middle;\n",
       "    }\n",
       "\n",
       "    .dataframe tbody tr th {\n",
       "        vertical-align: top;\n",
       "    }\n",
       "\n",
       "    .dataframe thead th {\n",
       "        text-align: right;\n",
       "    }\n",
       "</style>\n",
       "<table border=\"1\" class=\"dataframe\">\n",
       "  <thead>\n",
       "    <tr style=\"text-align: right;\">\n",
       "      <th></th>\n",
       "      <th>Class Index</th>\n",
       "      <th>Description</th>\n",
       "    </tr>\n",
       "  </thead>\n",
       "  <tbody>\n",
       "    <tr>\n",
       "      <th>0</th>\n",
       "      <td>4</td>\n",
       "      <td>london british airline magnate richard branson...</td>\n",
       "    </tr>\n",
       "    <tr>\n",
       "      <th>1</th>\n",
       "      <td>4</td>\n",
       "      <td>leave it to amazon .com nasdaq amzn . apparent...</td>\n",
       "    </tr>\n",
       "    <tr>\n",
       "      <th>2</th>\n",
       "      <td>4</td>\n",
       "      <td>regardless space competitions are poised to be...</td>\n",
       "    </tr>\n",
       "    <tr>\n",
       "      <th>3</th>\n",
       "      <td>1</td>\n",
       "      <td>cbs millions of folded paper cranes fluttered...</td>\n",
       "    </tr>\n",
       "    <tr>\n",
       "      <th>4</th>\n",
       "      <td>3</td>\n",
       "      <td>struggling under the weight of a bloated trade...</td>\n",
       "    </tr>\n",
       "    <tr>\n",
       "      <th>...</th>\n",
       "      <td>...</td>\n",
       "      <td>...</td>\n",
       "    </tr>\n",
       "    <tr>\n",
       "      <th>119995</th>\n",
       "      <td>4</td>\n",
       "      <td>com september am pt . there s no doubt the int...</td>\n",
       "    </tr>\n",
       "    <tr>\n",
       "      <th>119996</th>\n",
       "      <td>3</td>\n",
       "      <td>new york reuters fedex corp . lt a href http w...</td>\n",
       "    </tr>\n",
       "    <tr>\n",
       "      <th>119997</th>\n",
       "      <td>1</td>\n",
       "      <td>pakistani security forces have arrested more s...</td>\n",
       "    </tr>\n",
       "    <tr>\n",
       "      <th>119998</th>\n",
       "      <td>4</td>\n",
       "      <td>palmsource finally unveiled its new os version...</td>\n",
       "    </tr>\n",
       "    <tr>\n",
       "      <th>119999</th>\n",
       "      <td>4</td>\n",
       "      <td>japanese electronics giant nec corp has begun ...</td>\n",
       "    </tr>\n",
       "  </tbody>\n",
       "</table>\n",
       "<p>120000 rows × 2 columns</p>\n",
       "</div>"
      ],
      "text/plain": [
       "        Class Index                                        Description\n",
       "0                 4  london british airline magnate richard branson...\n",
       "1                 4  leave it to amazon .com nasdaq amzn . apparent...\n",
       "2                 4  regardless space competitions are poised to be...\n",
       "3                 1   cbs millions of folded paper cranes fluttered...\n",
       "4                 3  struggling under the weight of a bloated trade...\n",
       "...             ...                                                ...\n",
       "119995            4  com september am pt . there s no doubt the int...\n",
       "119996            3  new york reuters fedex corp . lt a href http w...\n",
       "119997            1  pakistani security forces have arrested more s...\n",
       "119998            4  palmsource finally unveiled its new os version...\n",
       "119999            4  japanese electronics giant nec corp has begun ...\n",
       "\n",
       "[120000 rows x 2 columns]"
      ]
     },
     "execution_count": 10,
     "metadata": {},
     "output_type": "execute_result"
    }
   ],
   "source": [
    "df = read_data('data/train.csv')\n",
    "df"
   ]
  },
  {
   "cell_type": "code",
   "execution_count": 13,
   "metadata": {},
   "outputs": [],
   "source": [
    "import torch\n",
    "import torch.nn as nn\n",
    "import torch.nn.functional as F\n",
    "\n",
    "class CharCNN(nn.Module):\n",
    "    def __init__(\n",
    "            self, \n",
    "            char_vocab: int,\n",
    "            char_embed_dim: int, \n",
    "            char_out_channels: list, \n",
    "            char_kernel_sizes: list, \n",
    "            dropout: float\n",
    "        ) -> None:\n",
    "\n",
    "        super(CharCNN, self).__init__()\n",
    "        self.char_embed = nn.Embedding(char_vocab, char_embed_dim)\n",
    "        self.char_conv = nn.ModuleList([\n",
    "            nn.Conv1d(char_embed_dim, char_out_channels[i], char_kernel_sizes[i]) \n",
    "            for i in range(len(char_out_channels))\n",
    "        ])\n",
    "\n",
    "        self.dropout = nn.Dropout(dropout)\n",
    "\n",
    "    def forward(self, x: torch.Tensor) -> torch.Tensor:\n",
    "        x = self.char_embed(x)\n",
    "        x = x.transpose(1, 2)\n",
    "        x = [F.relu(char_conv(x)) for char_conv in self.char_conv]\n",
    "        x = [F.max_pool1d(char_conv, char_conv.shape[2]).squeeze(2) for char_conv in x]\n",
    "        x = torch.cat(x, dim=1)\n",
    "        x = self.dropout(x)\n",
    "        return x"
   ]
  },
  {
   "cell_type": "code",
   "execution_count": 14,
   "metadata": {},
   "outputs": [],
   "source": [
    "from torch.nn.utils.rnn import pack_padded_sequence, pad_packed_sequence\n",
    "\n",
    "class ELMo(nn.Module):\n",
    "    def __init__(\n",
    "            self, \n",
    "            char_vocab: int, \n",
    "            char_embed_dim: int, \n",
    "            char_out_channels: list, \n",
    "            char_kernel_sizes: list, \n",
    "            dropout: float, \n",
    "            num_layers: int, \n",
    "            hidden_dim: int, \n",
    "            filename: str = None\n",
    "        ) -> None:\n",
    "\n",
    "        super(ELMo, self).__init__()\n",
    "\n",
    "        self.char_cnn = CharCNN(\n",
    "            char_vocab=char_vocab, \n",
    "            char_embed_dim=char_embed_dim, \n",
    "            char_out_channels=char_out_channels, \n",
    "            char_kernel_sizes=char_kernel_sizes, \n",
    "            dropout=dropout\n",
    "        )\n",
    "\n",
    "        self.lstm = nn.LSTM(\n",
    "            input_size=sum(char_out_channels), \n",
    "            hidden_size=hidden_dim, \n",
    "            num_layers=num_layers, \n",
    "            bidirectional=True, \n",
    "            dropout=dropout\n",
    "        )\n",
    "\n",
    "        self.dropout = nn.Dropout(dropout)\n",
    "        self.num_layers = num_layers\n",
    "        self.hidden_dim = hidden_dim\n",
    "\n",
    "        if filename:\n",
    "            self.load_state_dict(torch.load(filename))\n",
    "\n",
    "    def forward(self, x: torch.Tensor) -> torch.Tensor:\n",
    "        x = self.char_cnn(x)\n",
    "        x = x.view(x.shape[1], x.shape[0], x.shape[2])\n",
    "        x = pack_padded_sequence(x, lengths=[x.shape[0]]*x.shape[1])\n",
    "        x, _ = self.lstm(x)\n",
    "        x, _ = pad_packed_sequence(x)\n",
    "        x = x.view(x.shape[1], x.shape[0], 2, self.hidden_dim)\n",
    "        x = x[:, :, 0, :] + x[:, :, 1, :]\n",
    "        x = self.dropout(x)\n",
    "        return x"
   ]
  },
  {
   "cell_type": "code",
   "execution_count": 72,
   "metadata": {},
   "outputs": [],
   "source": [
    "class LM(nn.Module):\n",
    "    def __init__(self, hidden_dim: int, vocab_size: int, filename: str) -> None:\n",
    "        super(LM, self).__init__()\n",
    "        self.hidden_dim = hidden_dim\n",
    "        self.vocab_size = vocab_size\n",
    "        self.elmo = ELMo(\n",
    "            char_vocab=len(unique_chars), \n",
    "            char_embed_dim=EMBEDDING_DIM, \n",
    "            char_out_channels=[32, 32, 32, 32, 32], \n",
    "            char_kernel_sizes=[3, 4, 5, 6, 7], \n",
    "            dropout=DROPOUT, \n",
    "            num_layers=NUM_LAYERS, \n",
    "            hidden_dim=HIDDEN_DIM\n",
    "        )\n",
    "        self.linear = nn.Linear(hidden_dim, vocab_size)\n",
    "\n",
    "        if filename:\n",
    "            self.load_state_dict(torch.load(filename))\n",
    "\n",
    "    def forward(self, x: torch.Tensor) -> torch.Tensor:\n",
    "        x = self.elmo(x)\n",
    "        x = self.linear(x)\n",
    "        return x"
   ]
  },
  {
   "cell_type": "code",
   "execution_count": 73,
   "metadata": {},
   "outputs": [
    {
     "name": "stdout",
     "output_type": "stream",
     "text": [
      "{'n': 1, 'c': 2, 'w': 3, 'f': 4, ' ': 5, 'x': 6, '?': 7, '!': 8, 'u': 9, 's': 10, 'm': 11, 'l': 12, 'r': 13, 't': 14, 'p': 15, 'j': 16, 'v': 17, 'a': 18, 'y': 19, 'z': 20, 'o': 21, 'g': 22, 'q': 23, '.': 24, 'e': 25, 'b': 26, 'h': 27, 'i': 28, 'd': 29, 'k': 30, '<pad>': 0, '<sos>': 31, '<eos>': 32}\n",
      "{1: 'n', 2: 'c', 3: 'w', 4: 'f', 5: ' ', 6: 'x', 7: '?', 8: '!', 9: 'u', 10: 's', 11: 'm', 12: 'l', 13: 'r', 14: 't', 15: 'p', 16: 'j', 17: 'v', 18: 'a', 19: 'y', 20: 'z', 21: 'o', 22: 'g', 23: 'q', 24: '.', 25: 'e', 26: 'b', 27: 'h', 28: 'i', 29: 'd', 30: 'k', 0: '<pad>', 31: '<sos>', 32: '<eos>'}\n"
     ]
    }
   ],
   "source": [
    "# Create a dictionary of all characters\n",
    "char_to_idx = {char: idx + 1 for idx, char in enumerate(unique_chars)}\n",
    "\n",
    "# Add special tokens\n",
    "char_to_idx['<pad>'] = 0\n",
    "char_to_idx['<sos>'] = len(char_to_idx)\n",
    "char_to_idx['<eos>'] = len(char_to_idx)\n",
    "\n",
    "# Create a dictionary of all characters\n",
    "idx_to_char = {idx: char for char, idx in char_to_idx.items()}\n",
    "\n",
    "# print the character to index mapping\n",
    "print(char_to_idx)\n",
    "print(idx_to_char)"
   ]
  },
  {
   "cell_type": "code",
   "execution_count": 33,
   "metadata": {},
   "outputs": [],
   "source": [
    "dev_train_raw = df[:DEV_TRAIN_LEN]\n",
    "dev_validation_raw = df[DEV_TRAIN_LEN:DEV_TRAIN_LEN+DEV_VALIDATION_LEN]"
   ]
  },
  {
   "cell_type": "code",
   "execution_count": 58,
   "metadata": {},
   "outputs": [],
   "source": [
    "# Create a DataSet class\n",
    "from torch.utils.data import Dataset\n",
    "\n",
    "class Sentences(Dataset):\n",
    "    def __init__(self, df: pd.DataFrame, char_to_idx: dict) -> None:\n",
    "        self.X = df['Description'].tolist()\n",
    "        self.Y = df['Class Index'].tolist()\n",
    "        self.X = [[char_to_idx[char] for char in sentence] for sentence in self.X]\n",
    "\n",
    "    def __len__(self) -> int:\n",
    "        return len(self.X)\n",
    "\n",
    "    def __getitem__(self, idx: int) -> tuple:\n",
    "        return torch.tensor(self.X[idx]), torch.tensor(self.Y[idx]), torch.tensor(len(self.X[idx]))"
   ]
  },
  {
   "cell_type": "code",
   "execution_count": 59,
   "metadata": {},
   "outputs": [],
   "source": [
    "dev_train_dataset = Sentences(dev_train_raw, char_to_idx)\n",
    "dev_validation_dataset = Sentences(dev_validation_raw, char_to_idx)"
   ]
  },
  {
   "cell_type": "code",
   "execution_count": 69,
   "metadata": {},
   "outputs": [],
   "source": [
    "def collate_fn(batch: list) -> tuple:\n",
    "    x, y, l = zip(*batch)\n",
    "    x = torch.nn.utils.rnn.pad_sequence(x, padding_value=char_to_idx['<pad>'])\n",
    "    return x, torch.stack(y), torch.stack(l)"
   ]
  },
  {
   "cell_type": "code",
   "execution_count": 70,
   "metadata": {},
   "outputs": [],
   "source": [
    "from torch.utils.data import DataLoader\n",
    "\n",
    "dev_train_loader = DataLoader(dev_train_dataset, batch_size=BATCH_SIZE, shuffle=True, collate_fn=collate_fn)\n",
    "dev_validation_loader = DataLoader(dev_validation_dataset, batch_size=BATCH_SIZE, shuffle=True, collate_fn=collate_fn)"
   ]
  },
  {
   "cell_type": "code",
   "execution_count": null,
   "metadata": {},
   "outputs": [],
   "source": [
    "lm = LM(hidden_dim=HIDDEN_DIM, vocab_size=len(char_to_idx))"
   ]
  },
  {
   "cell_type": "code",
   "execution_count": 71,
   "metadata": {},
   "outputs": [
    {
     "name": "stdout",
     "output_type": "stream",
     "text": [
      "torch.Size([537, 32])\n",
      "torch.Size([32])\n",
      "torch.Size([32])\n"
     ]
    }
   ],
   "source": [
    "for X, Y, L in dev_train_loader:"
   ]
  },
  {
   "cell_type": "code",
   "execution_count": null,
   "metadata": {},
   "outputs": [],
   "source": []
  }
 ],
 "metadata": {
  "kernelspec": {
   "display_name": "main",
   "language": "python",
   "name": "python3"
  },
  "language_info": {
   "codemirror_mode": {
    "name": "ipython",
    "version": 3
   },
   "file_extension": ".py",
   "mimetype": "text/x-python",
   "name": "python",
   "nbconvert_exporter": "python",
   "pygments_lexer": "ipython3",
   "version": "3.11.4"
  },
  "orig_nbformat": 4
 },
 "nbformat": 4,
 "nbformat_minor": 2
}
